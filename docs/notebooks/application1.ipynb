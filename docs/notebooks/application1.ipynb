{
 "cells": [
  {
   "cell_type": "code",
   "execution_count": 14,
   "metadata": {},
   "outputs": [],
   "source": [
    "import torch\n",
    "from torch import Tensor\n",
    "\n",
    "import matplotlib.pyplot as plt\n",
    "\n",
    "from labproject.metrics.sliced_wasserstein import sliced_wasserstein_distance\n",
    "# from labproject.metrics.gaussian_kl import gaussian_kl_divergence\n",
    "# from labproject.embeddings import *"
   ]
  },
  {
   "cell_type": "code",
   "execution_count": 15,
   "metadata": {},
   "outputs": [],
   "source": [
    "\n",
    "dataset1 = torch.load('../../data/cifar10_train.pt')\n",
    "dataset2 = torch.load('../../data/cifar10_test.pt')"
   ]
  },
  {
   "cell_type": "code",
   "execution_count": 16,
   "metadata": {},
   "outputs": [],
   "source": [
    "class Metric:\n",
    "    def __init__(self, name: str, func: callable, **kwargs):\n",
    "        self.name = name\n",
    "        self.func = func\n",
    "        self.kwargs = kwargs\n",
    "\n",
    "    def __call__(self, x: Tensor, y: Tensor) -> Tensor:\n",
    "        return self.func(x, y, **self.kwargs)\n",
    "\n",
    "\n",
    "class ComparisonExperiment:\n",
    "    def __init__(self, dataset1: Tensor, dataset2: Tensor, metrics: list[Metric], descr):\n",
    "        self.dataset1 = dataset1\n",
    "        self.dataset2 = dataset2\n",
    "        self.metrics = metrics\n",
    "        self.descr = descr\n",
    "\n",
    "    def get_distance(x: Tensor, y: Tensor, metric, **kwargs) -> Tensor:\n",
    "        return metric(x, y, **kwargs)"
   ]
  },
  {
   "cell_type": "code",
   "execution_count": 17,
   "metadata": {},
   "outputs": [],
   "source": [
    "\n",
    "metrics = [\n",
    "    Metric('sliced_wasserstein_distance', \n",
    "           sliced_wasserstein_distance,\n",
    "           num_projections=50,\n",
    "           p=2),\n",
    "]\n",
    "\n",
    "experiments = [\n",
    "    ComparisonExperiment(\n",
    "        dataset1, dataset1, metrics,\n",
    "        'unconditional within-group real data'\n",
    "    ),\n",
    "    ComparisonExperiment(\n",
    "        dataset2, dataset2, metrics,\n",
    "        'unconditional within-group generated data'\n",
    "    ),\n",
    "    ComparisonExperiment(\n",
    "        dataset1, dataset2, metrics,\n",
    "        'unconditional between-group'\n",
    "    ),\n",
    "    \n",
    "]\n"
   ]
  }
 ],
 "metadata": {
  "kernelspec": {
   "display_name": "labproject",
   "language": "python",
   "name": "python3"
  },
  "language_info": {
   "codemirror_mode": {
    "name": "ipython",
    "version": 3
   },
   "file_extension": ".py",
   "mimetype": "text/x-python",
   "name": "python",
   "nbconvert_exporter": "python",
   "pygments_lexer": "ipython3",
   "version": "3.9.18"
  }
 },
 "nbformat": 4,
 "nbformat_minor": 2
}
