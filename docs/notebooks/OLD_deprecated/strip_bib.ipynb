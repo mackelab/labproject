{
 "cells": [
  {
   "cell_type": "code",
   "execution_count": 17,
   "metadata": {},
   "outputs": [],
   "source": [
    "import re\n",
    "\n",
    "def strip_urls_from_bibtex(bibtex_file_path):\n",
    "    # Adjusted regular expression pattern to handle URLs that might not be followed by a newline\n",
    "    # This pattern matches the URL field and allows for additional content on the same line\n",
    "    url_pattern = re.compile(r'\\s*url\\s*=\\s*{[^}]*}(,?\\s*)(?=\\w|\\n)', re.IGNORECASE)\n",
    "\n",
    "    # Read the original BibTeX file\n",
    "    with open(bibtex_file_path, 'r', encoding='utf-8') as file:\n",
    "        content = file.read()\n",
    "\n",
    "    # Remove URL fields using the regular expression\n",
    "    modified_content = re.sub(url_pattern, '', content)\n",
    "\n",
    "    # Write the modified content to the output file\n",
    "    with open(bibtex_file_path, 'w', encoding='utf-8') as file:\n",
    "        file.write(modified_content)\n",
    "\n",
    "    print(f\"URLs have been stripped from {bibtex_file_path}\")\n",
    "    \n",
    "    \n",
    "\n",
    "def strip_abstract_from_bibtex(bibtex_file_path):\n",
    "    # Define the regular expression for matching URL lines\n",
    "    abs_pattern = re.compile(r'\\s*abstract\\s*=\\s*{[^}]*}(,?\\s*)(?=\\w|\\n)', re.IGNORECASE)\n",
    "\n",
    "    # Read the original BibTeX file\n",
    "    with open(bibtex_file_path, 'r', encoding='utf-8') as file:\n",
    "        content = file.read()\n",
    "\n",
    "    # Remove URL fields using the regular expression\n",
    "    modified_content = re.sub(abs_pattern, '', content)\n",
    "\n",
    "    # Write the modified content to the output file\n",
    "    with open(bibtex_file_path, 'w', encoding='utf-8') as file:\n",
    "        file.write(modified_content)\n",
    "\n",
    "    print(f\"Abstracts have been stripped from {bibtex_file_path}\")\n",
    "\n",
    "\n",
    "\n",
    "def strip_doi_from_bibtex(bibtex_file_path):\n",
    "    # Define the regular expression for matching URL lines\n",
    "    doi_pattern = re.compile(r'\\s*doi\\s*=\\s*{[^}]*}(,?\\s*)(?=\\w|\\n)', re.IGNORECASE)\n",
    "\n",
    "    # Read the original BibTeX file\n",
    "    with open(bibtex_file_path, 'r', encoding='utf-8') as file:\n",
    "        content = file.read()\n",
    "\n",
    "    # Remove URL fields using the regular expression\n",
    "    modified_content = re.sub(doi_pattern, '', content)\n",
    "\n",
    "    # Write the modified content to the output file\n",
    "    with open(bibtex_file_path, 'w', encoding='utf-8') as file:\n",
    "        file.write(modified_content)\n",
    "\n",
    "    print(f\"DOIs have been stripped from {bibtex_file_path}\")\n",
    "\n"
   ]
  },
  {
   "cell_type": "code",
   "execution_count": 18,
   "metadata": {},
   "outputs": [
    {
     "name": "stdout",
     "output_type": "stream",
     "text": [
      "URLs have been stripped from ./refs_stripped.bib\n",
      "DOIs have been stripped from ./refs_stripped.bib\n",
      "Abstracts have been stripped from ./refs_stripped.bib\n"
     ]
    }
   ],
   "source": [
    "#Specify the path to the BibTeX file\n",
    "bibtex_file_path = './refs_stripped.bib'\n",
    "\n",
    "#Call the function to strip URLs\n",
    "strip_urls_from_bibtex(bibtex_file_path)\n",
    "strip_doi_from_bibtex(bibtex_file_path)\n",
    "strip_abstract_from_bibtex(bibtex_file_path)"
   ]
  },
  {
   "cell_type": "code",
   "execution_count": null,
   "metadata": {},
   "outputs": [],
   "source": []
  }
 ],
 "metadata": {
  "kernelspec": {
   "display_name": "labproject",
   "language": "python",
   "name": "python3"
  },
  "language_info": {
   "codemirror_mode": {
    "name": "ipython",
    "version": 3
   },
   "file_extension": ".py",
   "mimetype": "text/x-python",
   "name": "python",
   "nbconvert_exporter": "python",
   "pygments_lexer": "ipython3",
   "version": "3.9.18"
  }
 },
 "nbformat": 4,
 "nbformat_minor": 2
}
