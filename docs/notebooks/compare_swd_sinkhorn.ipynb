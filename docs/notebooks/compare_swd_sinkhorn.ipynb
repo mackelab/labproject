{
 "cells": [
  {
   "cell_type": "code",
   "execution_count": 6,
   "metadata": {},
   "outputs": [
    {
     "name": "stdout",
     "output_type": "stream",
     "text": [
      "The autoreload extension is already loaded. To reload it, use:\n",
      "  %reload_ext autoreload\n"
     ]
    }
   ],
   "source": [
    "%load_ext autoreload\n",
    "%autoreload 2"
   ]
  },
  {
   "cell_type": "code",
   "execution_count": 7,
   "metadata": {},
   "outputs": [
    {
     "name": "stdout",
     "output_type": "stream",
     "text": [
      "{'gaussian_squared_wasserstein_distance': <function gaussian_squared_w2_distance at 0x7fe32954a5e0>, 'sliced_wasserstein_distance': <function sliced_wasserstein_distance at 0x7fe32954a700>, 'wasserstein_sinkhorn': <function sinkhorn_loss at 0x7fe32954ad30>, 'wasserstein_gauss_squared': <function gaussian_squared_w2_distance at 0x7fe31a0b6c10>, 'sliced_wasserstein': <function sliced_wasserstein_distance at 0x7fe32954ae50>}\n"
     ]
    }
   ],
   "source": [
    "import torch\n",
    "from labproject.metrics import get_metric,METRICS\n",
    "print(METRICS)\n",
    "\n",
    "sinkhorn_loss = get_metric('wasserstein_sinkhorn')\n",
    "sliced_wasserstein_distance = get_metric('sliced_wasserstein')\n",
    "gaussian_squared_w2_distance = get_metric('wasserstein_gauss_squared')\n"
   ]
  },
  {
   "cell_type": "code",
   "execution_count": 8,
   "metadata": {},
   "outputs": [
    {
     "name": "stdout",
     "output_type": "stream",
     "text": [
      "0.09820912033319473\n",
      "0.12430790905907681\n",
      "0.10992895066738129\n"
     ]
    }
   ],
   "source": [
    "data = torch.randn((1000,2))\n",
    "data2 = torch.randn((1000,2))\n",
    "\n",
    "print(sliced_wasserstein_distance(data, data2,num_projections=500,p=2).item())\n",
    "print(sinkhorn_loss(data, data2,epsilon=1e-3, niter=1000,p=2).item())\n",
    "print(torch.sqrt(gaussian_squared_w2_distance(data, data2)).item())\n",
    "# print(wasserstein_munkres(data, data2,p=2).item())"
   ]
  },
  {
   "cell_type": "code",
   "execution_count": null,
   "metadata": {},
   "outputs": [],
   "source": []
  }
 ],
 "metadata": {
  "kernelspec": {
   "display_name": "labproject",
   "language": "python",
   "name": "python3"
  },
  "language_info": {
   "codemirror_mode": {
    "name": "ipython",
    "version": 3
   },
   "file_extension": ".py",
   "mimetype": "text/x-python",
   "name": "python",
   "nbconvert_exporter": "python",
   "pygments_lexer": "ipython3",
   "version": "3.9.18"
  }
 },
 "nbformat": 4,
 "nbformat_minor": 2
}
