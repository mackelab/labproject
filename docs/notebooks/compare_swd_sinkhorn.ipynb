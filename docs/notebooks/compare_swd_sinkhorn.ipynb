{
 "cells": [
  {
   "cell_type": "code",
   "execution_count": 1,
   "metadata": {},
   "outputs": [],
   "source": [
    "%load_ext autoreload\n",
    "%autoreload 2"
   ]
  },
  {
   "cell_type": "code",
   "execution_count": 2,
   "metadata": {},
   "outputs": [
    {
     "name": "stdout",
     "output_type": "stream",
     "text": [
      "{'wasserstein_gauss_squared': <function gaussian_squared_w2_distance at 0x7fb771028670>, 'sliced_wasserstein': <function sliced_wasserstein_distance at 0x7fb771028790>, 'wasserstein_kuhn': <function wasserstein_kuhn at 0x7fb771028d30>, 'wasserstein_sinkhorn': <function sinkhorn_loss at 0x7fb771028ee0>}\n"
     ]
    }
   ],
   "source": [
    "import torch\n",
    "from labproject.metrics import get_metric,METRICS\n",
    "print(METRICS)\n",
    "\n",
    "sinkhorn_loss = get_metric('wasserstein_sinkhorn')\n",
    "wasserstein_kuhn = get_metric('wasserstein_kuhn')\n",
    "sliced_wasserstein_distance = get_metric('sliced_wasserstein')\n",
    "gaussian_squared_w2_distance = get_metric('wasserstein_gauss_squared')\n"
   ]
  },
  {
   "cell_type": "code",
   "execution_count": 3,
   "metadata": {},
   "outputs": [],
   "source": [
    "data = torch.randn((100,2))\n",
    "data2 = torch.randn((100,2))"
   ]
  },
  {
   "cell_type": "code",
   "execution_count": 4,
   "metadata": {},
   "outputs": [
    {
     "name": "stdout",
     "output_type": "stream",
     "text": [
      "0.48545683031901715\n"
     ]
    }
   ],
   "source": [
    "\n",
    "\n",
    "print(wasserstein_kuhn(data, data2,norm=2).item())\n"
   ]
  },
  {
   "cell_type": "code",
   "execution_count": 5,
   "metadata": {},
   "outputs": [
    {
     "name": "stdout",
     "output_type": "stream",
     "text": [
      "0.2638738751411438\n"
     ]
    }
   ],
   "source": [
    "print(sliced_wasserstein_distance(data, data2,num_projections=500,p=2).item())\n"
   ]
  },
  {
   "cell_type": "code",
   "execution_count": 6,
   "metadata": {},
   "outputs": [
    {
     "name": "stdout",
     "output_type": "stream",
     "text": [
      "0.4751197398169627\n"
     ]
    },
    {
     "name": "stderr",
     "output_type": "stream",
     "text": [
      "/Users/guymoss/MLS Dropbox/Guy Moss/Guy/Projects/labproject/labproject/metrics/wasserstein_sinkhorn.py:63: UserWarning: Sinkhorn algorithm did not converge after 2000 iterations, final error is 0.002527631647173031\n",
      "  warnings.warn(f\"Sinkhorn algorithm did not converge after {niter} iterations, final error is {err}\")\n"
     ]
    }
   ],
   "source": [
    "print(sinkhorn_loss(data, data2,epsilon=1e-3, niter=2000,p=2).item())\n"
   ]
  },
  {
   "cell_type": "code",
   "execution_count": 7,
   "metadata": {},
   "outputs": [
    {
     "name": "stdout",
     "output_type": "stream",
     "text": [
      "0.3558019697666168\n"
     ]
    }
   ],
   "source": [
    "print(torch.sqrt(gaussian_squared_w2_distance(data, data2)).item())\n"
   ]
  },
  {
   "cell_type": "code",
   "execution_count": null,
   "metadata": {},
   "outputs": [],
   "source": []
  }
 ],
 "metadata": {
  "kernelspec": {
   "display_name": "labproject",
   "language": "python",
   "name": "python3"
  },
  "language_info": {
   "codemirror_mode": {
    "name": "ipython",
    "version": 3
   },
   "file_extension": ".py",
   "mimetype": "text/x-python",
   "name": "python",
   "nbconvert_exporter": "python",
   "pygments_lexer": "ipython3",
   "version": "3.9.18"
  }
 },
 "nbformat": 4,
 "nbformat_minor": 2
}
