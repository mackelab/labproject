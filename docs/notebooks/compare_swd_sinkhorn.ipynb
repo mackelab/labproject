{
 "cells": [
  {
   "cell_type": "code",
   "execution_count": 161,
   "metadata": {},
   "outputs": [
    {
     "name": "stdout",
     "output_type": "stream",
     "text": [
      "The autoreload extension is already loaded. To reload it, use:\n",
      "  %reload_ext autoreload\n"
     ]
    }
   ],
   "source": [
    "%load_ext autoreload\n",
    "%autoreload 2"
   ]
  },
  {
   "cell_type": "code",
   "execution_count": 162,
   "metadata": {},
   "outputs": [],
   "source": [
    "import torch\n",
    "from labproject.metrics.sliced_wasserstein import sliced_wasserstein_distance\n",
    "from labproject.metrics.wasserstein_sinkhorn import sinkhorn_loss\n",
    "from labproject.metrics.gaussian_squared_wasserstein import gaussian_squared_w2_distance\n",
    "\n",
    "\n"
   ]
  },
  {
   "cell_type": "code",
   "execution_count": 163,
   "metadata": {},
   "outputs": [
    {
     "name": "stdout",
     "output_type": "stream",
     "text": [
      "0.07661963999271393\n",
      "0.1118786375773585\n",
      "0.06996694207191467\n"
     ]
    }
   ],
   "source": [
    "data = torch.randn((1000,2))\n",
    "data2 = torch.randn((1000,2))\n",
    "\n",
    "print(sliced_wasserstein_distance(data, data2,num_projections=500,p=2).item())\n",
    "print(sinkhorn_loss(data, data2,epsilon=1e-3, niter=1000,p=2).item())\n",
    "print(torch.sqrt(gaussian_squared_w2_distance(data, data2)).item())\n",
    "# print(wasserstein_munkres(data, data2,p=2).item())"
   ]
  },
  {
   "cell_type": "code",
   "execution_count": null,
   "metadata": {},
   "outputs": [],
   "source": []
  }
 ],
 "metadata": {
  "kernelspec": {
   "display_name": "labproject",
   "language": "python",
   "name": "python3"
  },
  "language_info": {
   "codemirror_mode": {
    "name": "ipython",
    "version": 3
   },
   "file_extension": ".py",
   "mimetype": "text/x-python",
   "name": "python",
   "nbconvert_exporter": "python",
   "pygments_lexer": "ipython3",
   "version": "3.9.18"
  }
 },
 "nbformat": 4,
 "nbformat_minor": 2
}
