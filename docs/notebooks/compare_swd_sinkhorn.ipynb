{
 "cells": [
  {
   "cell_type": "code",
   "execution_count": null,
   "metadata": {},
   "outputs": [],
   "source": [
    "%load_ext autoreload\n",
    "%autoreload 2"
   ]
  },
  {
   "cell_type": "code",
   "execution_count": null,
   "metadata": {},
   "outputs": [],
   "source": [
    "import torch\n",
    "from labproject.metrics import get_metric,METRICS\n",
    "print(METRICS)\n",
    "\n",
    "sinkhorn_loss = get_metric('wasserstein_sinkhorn')\n",
    "sliced_wasserstein_distance = get_metric('sliced_wasserstein')\n",
    "gaussian_squared_w2_distance = get_metric('wasserstein_gauss_squared')\n"
   ]
  },
  {
   "cell_type": "code",
   "execution_count": null,
   "metadata": {},
   "outputs": [],
   "source": [
    "data = torch.randn((1000,2))\n",
    "data2 = torch.randn((1000,2))\n",
    "\n",
    "print(sliced_wasserstein_distance(data, data2,num_projections=500,p=2).item())\n",
    "print(sinkhorn_loss(data, data2,epsilon=1e-3, niter=1000,p=2).item())\n",
    "print(torch.sqrt(gaussian_squared_w2_distance(data, data2)).item())\n",
    "# print(wasserstein_munkres(data, data2,p=2).item())"
   ]
  },
  {
   "cell_type": "code",
   "execution_count": null,
   "metadata": {},
   "outputs": [],
   "source": []
  }
 ],
 "metadata": {
  "kernelspec": {
   "display_name": "labproject",
   "language": "python",
   "name": "python3"
  },
  "language_info": {
   "codemirror_mode": {
    "name": "ipython",
    "version": 3
   },
   "file_extension": ".py",
   "mimetype": "text/x-python",
   "name": "python",
   "nbconvert_exporter": "python",
   "pygments_lexer": "ipython3",
   "version": "3.9.18"
  }
 },
 "nbformat": 4,
 "nbformat_minor": 2
}
