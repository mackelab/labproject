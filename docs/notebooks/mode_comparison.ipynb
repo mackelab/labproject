{
 "cells": [
  {
   "cell_type": "code",
   "execution_count": 1,
   "metadata": {},
   "outputs": [
    {
     "data": {
      "text/plain": [
       "0"
      ]
     },
     "execution_count": 1,
     "metadata": {},
     "output_type": "execute_result"
    }
   ],
   "source": [
    "import torch\n",
    "import torch.nn as nn\n",
    "from torch import Tensor\n",
    "import numpy as np\n",
    "import matplotlib.pyplot as plt\n",
    "import matplotlib.patches as  mpatches\n",
    "import seaborn as sns\n",
    "import pandas as pd\n",
    "from labproject.metrics.wasserstein_sinkhorn import sinkhorn_loss,sinkhorn_algorithm\n",
    "from labproject.metrics.wasserstein_kuhn import kuhn_transport\n",
    "from labproject.metrics.sliced_wasserstein import sliced_wasserstein_distance\n",
    "from labproject.metrics.MMD_torch import compute_rbf_mmd,median_heuristic\n",
    "from labproject.data import get_distribution\n",
    "from labproject.utils import set_seed\n",
    "from dataclasses import dataclass\n",
    "\n",
    "set_seed(0)\n",
    "\n"
   ]
  },
  {
   "cell_type": "code",
   "execution_count": 2,
   "metadata": {},
   "outputs": [
    {
     "name": "stderr",
     "output_type": "stream",
     "text": [
      "/tmp/ipykernel_45837/4048455916.py:6: UserWarning: To copy construct from a tensor, it is recommended to use sourceTensor.clone().detach() or sourceTensor.clone().detach().requires_grad_(True), rather than torch.tensor(sourceTensor).\n",
      "  mixture_samples = torch.tensor(mixture_samples, dtype=torch.float32)\n"
     ]
    }
   ],
   "source": [
    "#Base distribution\n",
    "toy_data = get_distribution(\"toy_2d\")\n",
    "MOG = toy_data()\n",
    "num_samples = 1000\n",
    "mixture_samples =MOG.sample(num_samples)\n",
    "mixture_samples = torch.tensor(mixture_samples, dtype=torch.float32)"
   ]
  },
  {
   "cell_type": "code",
   "execution_count": 3,
   "metadata": {},
   "outputs": [],
   "source": [
    "dpi = 150\n",
    "plt.style.use(\"../../matplotlibrc\")\n",
    "plt.rcParams.update({\"figure.dpi\": dpi})\n",
    "\n",
    "\n",
    "\n",
    "@dataclass\n",
    "class FigureLayout:\n",
    "    width_in_pt: float\n",
    "    width_grid: int\n",
    "    base_font_size: int = 8\n",
    "    scale_factor: float = 1.0\n",
    "\n",
    "    # matplotlib uses inch\n",
    "    def _get_grid_in_inch(self, w_grid, h_grid):\n",
    "        pt_to_inch = 1 / 72\n",
    "        assert w_grid <= self.width_grid\n",
    "        return (\n",
    "            (w_grid / self.width_grid) * self.width_in_pt * pt_to_inch,\n",
    "            (h_grid / self.width_grid) * self.width_in_pt * pt_to_inch,\n",
    "        )\n",
    "\n",
    "    def get_rc(self, w_grid, h_grid):\n",
    "        return {\n",
    "            \"figure.figsize\": self._get_grid_in_inch(w_grid, h_grid),\n",
    "            \"font.size\": self.base_font_size * self.scale_factor,\n",
    "        }\n",
    "    \n",
    "textwidth=469\n",
    "fig_handler = FigureLayout(469,100)\n",
    "params = fig_handler.get_rc(40,30)\n",
    "plt.rcParams.update(params)\n"
   ]
  },
  {
   "cell_type": "code",
   "execution_count": 4,
   "metadata": {},
   "outputs": [],
   "source": [
    "class Gauss(nn.Module):\n",
    "    def __init__(self,dim):\n",
    "        super(Gauss, self).__init__()\n",
    "        self.mean = nn.Parameter(torch.zeros(dim))\n",
    "        self.lower_triangular = nn.Parameter(torch.ones(dim*(dim+1)//2))\n",
    "        self._row_ix, self._column_ix = torch.triu_indices(dim,dim)\n",
    "        self.dim = dim\n",
    "\n",
    "    def forward(self, noise):\n",
    "        sample = self.cov_lt().matmul(noise.transpose(-2,-1)).transpose(-2,-1) + self.mean.unsqueeze(0)\n",
    "        return sample\n",
    "    \n",
    "    def sample(self,size):\n",
    "        return self.forward(torch.randn(size, self.dim))\n",
    "    \n",
    "    def cov(self):\n",
    "        return self.cov_lt().matmul(self.cov_lt().transpose(-2,-1))\n",
    "    \n",
    "    def cov_lt(self):\n",
    "        cov = torch.zeros(self.dim,self.dim)\n",
    "        cov[self._row_ix,self._column_ix] = self.lower_triangular\n",
    "        return cov\n",
    "\n",
    "\n",
    "\n",
    "\n"
   ]
  },
  {
   "cell_type": "code",
   "execution_count": 5,
   "metadata": {},
   "outputs": [
    {
     "data": {
      "text/plain": [
       "<matplotlib.collections.PathCollection at 0x7f6e7960bca0>"
      ]
     },
     "execution_count": 5,
     "metadata": {},
     "output_type": "execute_result"
    },
    {
     "data": {
      "image/png": "[encoded data removed]",
      "text/plain": [
       "<Figure size 390.833x293.125 with 1 Axes>"
      ]
     },
     "metadata": {},
     "output_type": "display_data"
    }
   ],
   "source": [
    "plt.scatter(mixture_samples[:, 0], mixture_samples[:, 1], label=\"Mixture of Gaussians\")"
   ]
  },
  {
   "cell_type": "code",
   "execution_count": 6,
   "metadata": {},
   "outputs": [],
   "source": [
    "# C2ST\n",
    "\n",
    "class NN(nn.Module):\n",
    "    def __init__(self):\n",
    "        super().__init__()\n",
    "        self.layer1 = nn.Linear(2, 10)\n",
    "        self.act1 = nn.ReLU()\n",
    "        self.layer2 = nn.Linear(10, 10)\n",
    "        self.act2 = nn.ReLU()\n",
    "        self.output = nn.Linear(10, 1)\n",
    "        self.sigmoid = nn.Sigmoid()\n",
    " \n",
    "    def forward(self, x):\n",
    "        x = self.act1(self.layer1(x))\n",
    "        x = self.act2(self.layer2(x))\n",
    "        x = self.sigmoid(self.output(x))\n",
    "        return x.squeeze()\n",
    "    \n",
    "nnc = NN()\n",
    "\n",
    "loss_fn = torch.nn.BCELoss()  # binary cross entropy\n",
    "gauss_model_C2ST = Gauss(dim=2)\n",
    "num_samples = 10000\n"
   ]
  },
  {
   "cell_type": "code",
   "execution_count": 7,
   "metadata": {},
   "outputs": [
    {
     "name": "stdout",
     "output_type": "stream",
     "text": [
      "Iter: 0  acc: 0.6804999709129333    loss: 0.004260909277945757\n",
      "Iter: 1  acc: 0.6613500118255615    loss: 0.0027332783211022615\n",
      "Iter: 2  acc: 0.6653500199317932    loss: 0.0020469476003199816\n",
      "Iter: 3  acc: 0.6642000079154968    loss: 0.0018062950111925602\n",
      "Iter: 4  acc: 0.6558499932289124    loss: 0.0015995979774743319\n",
      "Iter: 5  acc: 0.6663500070571899    loss: 0.001293717185035348\n",
      "Iter: 6  acc: 0.6644999980926514    loss: 0.000957682728767395\n",
      "Iter: 7  acc: 0.6692000031471252    loss: 0.0007545461412519217\n",
      "Iter: 8  acc: 0.6685500144958496    loss: 0.0006495339330285788\n",
      "Iter: 9  acc: 0.6731500029563904    loss: 0.000627712463028729\n",
      "Iter: 10  acc: 0.6743999719619751    loss: 0.0006873375386931002\n",
      "Iter: 11  acc: 0.6776000261306763    loss: 0.0007329460349865258\n",
      "Iter: 12  acc: 0.6793500185012817    loss: 0.0006760299438610673\n",
      "Iter: 13  acc: 0.6833500266075134    loss: 0.0005410243757069111\n",
      "Iter: 14  acc: 0.6846500039100647    loss: 0.00041356825386174023\n",
      "Iter: 15  acc: 0.6937999725341797    loss: 0.00034981471253558993\n",
      "Iter: 16  acc: 0.6944500207901001    loss: 0.00033621478360146284\n",
      "Iter: 17  acc: 0.6912500262260437    loss: 0.00037060421891510487\n",
      "Iter: 18  acc: 0.6825500130653381    loss: 0.0004298813291825354\n",
      "Iter: 19  acc: 0.6721500158309937    loss: 0.00048803631216287613\n",
      "Iter: 20  acc: 0.6773999929428101    loss: 0.00047561779501847923\n",
      "Iter: 21  acc: 0.682699978351593    loss: 0.00043626490514725447\n",
      "Iter: 22  acc: 0.6796500086784363    loss: 0.00039199000457301736\n",
      "Iter: 23  acc: 0.6987000107765198    loss: 0.00037025671917945147\n",
      "Iter: 24  acc: 0.7013999819755554    loss: 0.00037522849743254483\n",
      "Iter: 25  acc: 0.7094500064849854    loss: 0.0004047964175697416\n",
      "Iter: 26  acc: 0.7047500014305115    loss: 0.00044698253623209894\n",
      "Iter: 27  acc: 0.7022500038146973    loss: 0.0004803905903827399\n",
      "Iter: 28  acc: 0.7135999798774719    loss: 0.0005043052951805294\n",
      "Iter: 29  acc: 0.7250499725341797    loss: 0.0004762776370625943\n",
      "Iter: 30  acc: 0.7292500138282776    loss: 0.00044609102769754827\n",
      "Iter: 31  acc: 0.7353000044822693    loss: 0.0004381253384053707\n",
      "Iter: 32  acc: 0.7408499717712402    loss: 0.00044568165321834385\n",
      "Iter: 33  acc: 0.7396500110626221    loss: 0.0004933178424835205\n",
      "Iter: 34  acc: 0.744949996471405    loss: 0.0005459240637719631\n",
      "Iter: 35  acc: 0.7454000115394592    loss: 0.0005881227552890778\n",
      "Iter: 36  acc: 0.7423999905586243    loss: 0.0005787686677649617\n",
      "Iter: 37  acc: 0.7446500062942505    loss: 0.0005777106271125376\n",
      "Iter: 38  acc: 0.7490500211715698    loss: 0.0005801126244477928\n",
      "Iter: 39  acc: 0.7486000061035156    loss: 0.0005811264272779226\n",
      "Iter: 40  acc: 0.7525500059127808    loss: 0.0006184636149555445\n",
      "Iter: 41  acc: 0.7458500266075134    loss: 0.000656784453894943\n",
      "Iter: 42  acc: 0.7501500248908997    loss: 0.0006789363105781376\n",
      "Iter: 43  acc: 0.7504500150680542    loss: 0.0006835752283222973\n",
      "Iter: 44  acc: 0.758400022983551    loss: 0.0006582830683328211\n",
      "Iter: 45  acc: 0.7542999982833862    loss: 0.0006399140693247318\n",
      "Iter: 46  acc: 0.7473000288009644    loss: 0.000632338342256844\n",
      "Iter: 47  acc: 0.7563499808311462    loss: 0.0006696539930999279\n",
      "Iter: 48  acc: 0.7504000067710876    loss: 0.0006717321812175214\n",
      "Iter: 49  acc: 0.7572500109672546    loss: 0.0007029453408904374\n",
      "Iter: 50  acc: 0.7561500072479248    loss: 0.0006812398205511272\n",
      "Iter: 51  acc: 0.7540000081062317    loss: 0.0006545206997543573\n",
      "Iter: 52  acc: 0.7518500089645386    loss: 0.0006637529586441815\n",
      "Iter: 53  acc: 0.7592499852180481    loss: 0.0006834741798229516\n",
      "Iter: 54  acc: 0.7531499862670898    loss: 0.0007119280053302646\n",
      "Iter: 55  acc: 0.7574999928474426    loss: 0.0007147336727939546\n",
      "Iter: 56  acc: 0.7562000155448914    loss: 0.0006722912658005953\n",
      "Iter: 57  acc: 0.7541000247001648    loss: 0.0006575831212103367\n",
      "Iter: 58  acc: 0.7549999952316284    loss: 0.0006728935986757278\n",
      "Iter: 59  acc: 0.7583500146865845    loss: 0.0006837479886598885\n",
      "Iter: 60  acc: 0.755649983882904    loss: 0.0006948934751562774\n",
      "Iter: 61  acc: 0.7505499720573425    loss: 0.0006709946901537478\n",
      "Iter: 62  acc: 0.755649983882904    loss: 0.0006628624978475273\n",
      "Iter: 63  acc: 0.7516000270843506    loss: 0.0006525432108901441\n",
      "Iter: 64  acc: 0.7539499998092651    loss: 0.0006639462080784142\n",
      "Iter: 65  acc: 0.7570499777793884    loss: 0.0006726563442498446\n",
      "Iter: 66  acc: 0.7570000290870667    loss: 0.0006561147747561336\n",
      "Iter: 67  acc: 0.7540000081062317    loss: 0.0006583051290363073\n",
      "Iter: 68  acc: 0.7560499906539917    loss: 0.0006388537003658712\n",
      "Iter: 69  acc: 0.7497000098228455    loss: 0.0006372735369950533\n",
      "Iter: 70  acc: 0.7580500245094299    loss: 0.0006508734659291804\n",
      "Iter: 71  acc: 0.7505999803543091    loss: 0.0006632611621171236\n",
      "Iter: 72  acc: 0.7551000118255615    loss: 0.0006427711341530085\n",
      "Iter: 73  acc: 0.7546499967575073    loss: 0.0006260600057430565\n",
      "Iter: 74  acc: 0.75    loss: 0.0006479857256636024\n",
      "Iter: 75  acc: 0.7514500021934509    loss: 0.0006372936186380684\n",
      "Iter: 76  acc: 0.7504500150680542    loss: 0.0006423837039619684\n",
      "Iter: 77  acc: 0.7494500279426575    loss: 0.0006485962076112628\n",
      "Iter: 78  acc: 0.7529500126838684    loss: 0.000625527638476342\n",
      "Iter: 79  acc: 0.7538999915122986    loss: 0.0006213198066689074\n",
      "Iter: 80  acc: 0.753350019454956    loss: 0.000644416082650423\n",
      "Iter: 81  acc: 0.7498499751091003    loss: 0.0006278558284975588\n",
      "Iter: 82  acc: 0.7549999952316284    loss: 0.000624374020844698\n",
      "Iter: 83  acc: 0.7512500286102295    loss: 0.0006275897030718625\n",
      "Iter: 84  acc: 0.7495499849319458    loss: 0.000633377640042454\n",
      "Iter: 85  acc: 0.751550018787384    loss: 0.000625259184744209\n",
      "Iter: 86  acc: 0.7477999925613403    loss: 0.0006230968283489347\n",
      "Iter: 87  acc: 0.7468500137329102    loss: 0.0006353092030622065\n",
      "Iter: 88  acc: 0.7507500052452087    loss: 0.0006324223941192031\n",
      "Iter: 89  acc: 0.7473999857902527    loss: 0.0006470750086009502\n",
      "Iter: 90  acc: 0.7462000250816345    loss: 0.000627051224000752\n",
      "Iter: 91  acc: 0.7478500008583069    loss: 0.0006179313641041517\n",
      "Iter: 92  acc: 0.7464500069618225    loss: 0.0006414226954802871\n",
      "Iter: 93  acc: 0.7452499866485596    loss: 0.0006345932488329709\n",
      "Iter: 94  acc: 0.7465000152587891    loss: 0.0006420064601115882\n",
      "Iter: 95  acc: 0.7481499910354614    loss: 0.0006252806051634252\n",
      "Iter: 96  acc: 0.7461000084877014    loss: 0.0006227754056453705\n",
      "Iter: 97  acc: 0.7488999962806702    loss: 0.0006478512077592313\n",
      "Iter: 98  acc: 0.7481499910354614    loss: 0.0006440439610742033\n",
      "Iter: 99  acc: 0.7387499809265137    loss: 0.0006239058566279709\n"
     ]
    },
    {
     "data": {
      "text/plain": [
       "Gauss()"
      ]
     },
     "execution_count": 7,
     "metadata": {},
     "output_type": "execute_result"
    }
   ],
   "source": [
    "\n",
    "\n",
    "optimizer = torch.optim.Adam(nnc.parameters(), lr=0.01)\n",
    "optimizer_G = torch.optim.Adam(gauss_model_C2ST.parameters(), lr=0.01)\n",
    "\n",
    "nnc.train()\n",
    "gauss_model_C2ST.train()\n",
    "\n",
    "num_epochs = 100\n",
    "for epoch in range(num_epochs):\n",
    "    gauss_model_C2ST.zero_grad()\n",
    "    nnc.zero_grad()\n",
    "\n",
    "    samples = gauss_model_C2ST.sample(num_samples)\n",
    "    mixture_samples = MOG.sample(num_samples)    #print(samples)\n",
    "\n",
    "    x = torch.concat([samples.detach(),mixture_samples],dim=0)\n",
    "    y_hat = torch.concat([torch.zeros(num_samples),torch.ones(num_samples)],dim=0)\n",
    "    y = nnc(x) \n",
    "    loss_NN = loss_fn(y,y_hat) \n",
    "\n",
    "    x = torch.concat([samples,mixture_samples],dim=0)\n",
    "    y_hat = torch.concat([torch.zeros(num_samples),torch.ones(num_samples)],dim=0)\n",
    "    y = nnc(x)\n",
    "    loss_G = torch.mean((y-0.5)**2)\n",
    "\n",
    "\n",
    "    (loss_G+0.05*loss_NN).backward()\n",
    "    #loss_NN.backward()\n",
    "    optimizer.step()\n",
    "    optimizer_G.step()\n",
    "\n",
    "\n",
    "\n",
    "    acc = (y.detach().round() == y_hat).float().mean()    \n",
    "    #print(acc)\n",
    "    print(\"Iter: {}  acc: {}    loss: {}\".format(epoch, acc,loss_G.item()))\n",
    "\n",
    "\n",
    "gauss_model_C2ST.eval()\n",
    "\n"
   ]
  },
  {
   "cell_type": "code",
   "execution_count": 12,
   "metadata": {},
   "outputs": [
    {
     "name": "stdout",
     "output_type": "stream",
     "text": [
      "bandwidth:  tensor(2.9047)\n",
      "Iter: 0     loss: 0.15748488903045654\n",
      "Iter: 1     loss: 0.16023433208465576\n",
      "Iter: 2     loss: 0.15830039978027344\n",
      "Iter: 3     loss: 0.1457444429397583\n",
      "Iter: 4     loss: 0.14261531829833984\n",
      "Iter: 5     loss: 0.1424694061279297\n",
      "Iter: 6     loss: 0.13847696781158447\n",
      "Iter: 7     loss: 0.1360013484954834\n",
      "Iter: 8     loss: 0.13025999069213867\n",
      "Iter: 9     loss: 0.1355963945388794\n",
      "Iter: 10     loss: 0.12939143180847168\n",
      "Iter: 11     loss: 0.12273049354553223\n",
      "Iter: 12     loss: 0.12956953048706055\n",
      "Iter: 13     loss: 0.11568152904510498\n",
      "Iter: 14     loss: 0.11458253860473633\n",
      "Iter: 15     loss: 0.11511349678039551\n",
      "Iter: 16     loss: 0.1062084436416626\n",
      "Iter: 17     loss: 0.108970046043396\n",
      "Iter: 18     loss: 0.10953032970428467\n",
      "Iter: 19     loss: 0.10842370986938477\n"
     ]
    },
    {
     "data": {
      "text/plain": [
       "Gauss()"
      ]
     },
     "execution_count": 12,
     "metadata": {},
     "output_type": "execute_result"
    }
   ],
   "source": [
    "# MMD\n",
    "\n",
    "gauss_model_MMD = Gauss(dim=2)\n",
    "num_samples = 10000\n",
    "with torch.no_grad():\n",
    "    samples = gauss_model_MMD.sample(num_samples)\n",
    "    uniform_samples = MOG.sample(num_samples)\n",
    "    bandwidth = median_heuristic(mixture_samples, uniform_samples)\n",
    "    print(\"bandwidth: \", bandwidth)\n",
    "optimizer = torch.optim.Adam(gauss_model_MMD.parameters(), lr=0.01)\n",
    "gauss_model_MMD.train()\n",
    "num_epochs = 20\n",
    "for epoch in range(num_epochs):\n",
    "    gauss_model_MMD.zero_grad()\n",
    "    samples = gauss_model_MMD.sample(num_samples)\n",
    "    uniform_samples = MOG.sample(num_samples)    #print(samples)\n",
    "    loss = compute_rbf_mmd(samples, uniform_samples, bandwidth=bandwidth)\n",
    "    print(\"Iter: {}     loss: {}\".format(epoch, loss.item()))\n",
    "    loss.backward()\n",
    "    optimizer.step()\n",
    "\n",
    "gauss_model_MMD.eval()\n",
    "\n"
   ]
  },
  {
   "cell_type": "code",
   "execution_count": 9,
   "metadata": {},
   "outputs": [
    {
     "name": "stdout",
     "output_type": "stream",
     "text": [
      "Iter: 0     loss: 1.4778261184692383\n",
      "Iter: 1     loss: 1.3295304775238037\n",
      "Iter: 2     loss: 1.1821221113204956\n",
      "Iter: 3     loss: 1.1499155759811401\n",
      "Iter: 4     loss: 1.0315594673156738\n",
      "Iter: 5     loss: 0.9192606210708618\n",
      "Iter: 6     loss: 0.897888720035553\n",
      "Iter: 7     loss: 0.7952064275741577\n",
      "Iter: 8     loss: 0.7210420966148376\n",
      "Iter: 9     loss: 0.6605209708213806\n",
      "Iter: 10     loss: 0.503761351108551\n",
      "Iter: 11     loss: 0.5148900747299194\n",
      "Iter: 12     loss: 0.4485556185245514\n",
      "Iter: 13     loss: 0.38500016927719116\n",
      "Iter: 14     loss: 0.3724561631679535\n",
      "Iter: 15     loss: 0.3564709722995758\n",
      "Iter: 16     loss: 0.2809940278530121\n",
      "Iter: 17     loss: 0.28166821599006653\n",
      "Iter: 18     loss: 0.2551102042198181\n",
      "Iter: 19     loss: 0.24865783751010895\n"
     ]
    },
    {
     "data": {
      "text/plain": [
       "Gauss()"
      ]
     },
     "execution_count": 9,
     "metadata": {},
     "output_type": "execute_result"
    }
   ],
   "source": [
    "# WS\n",
    "\n",
    "gauss_model_WS = Gauss(dim=2)\n",
    "optimizer = torch.optim.Adam(gauss_model_WS.parameters(), lr=0.1)\n",
    "gauss_model_WS.train()\n",
    "num_epochs = 20\n",
    "for epoch in range(num_epochs):\n",
    "    gauss_model_WS.zero_grad()\n",
    "    samples = gauss_model_WS.sample(num_samples)\n",
    "    uniform_samples = MOG.sample(num_samples)    #print(samples)\n",
    "    loss = sliced_wasserstein_distance(samples, uniform_samples)#, bandwidth=bandwidth)\n",
    "    print(\"Iter: {}     loss: {}\".format(epoch, loss.item()))\n",
    "    loss.backward()\n",
    "    optimizer.step()\n",
    "\n",
    "gauss_model_WS.eval()\n",
    "\n"
   ]
  },
  {
   "cell_type": "code",
   "execution_count": 13,
   "metadata": {},
   "outputs": [],
   "source": [
    "SWD_samples = gauss_model_WS.sample(num_samples).detach().numpy()\n",
    "MMD_samples = gauss_model_MMD.sample(num_samples).detach().numpy()\n",
    "C2ST_samples = gauss_model_C2ST.sample(num_samples).detach().numpy()\n",
    "\n",
    "# Create a dataframe for the mixture samples\n",
    "unif_df = pd.DataFrame({'x': uniform_samples[:, 0], 'y': uniform_samples[:, 1]})\n",
    "\n",
    "# Create a dataframe for the SWD mixture samples\n",
    "SWD_df = pd.DataFrame({'x': SWD_samples[:, 0], 'y': SWD_samples[:, 1]})\n",
    "MMD_df = pd.DataFrame({'x': MMD_samples[:, 0], 'y': MMD_samples[:, 1]})\n",
    "C2ST_df = pd.DataFrame({'x': C2ST_samples[:, 0], 'y': MMD_samples[:, 1]})\n",
    "\n",
    "# Plot the probability contours\n",
    "fig,axs = plt.subplots(1,3, figsize = (4,1.5))\n",
    "sns.kdeplot(ax=axs[0],data=unif_df, x='x', y='y',cmap=\"Blues\", fill=True,levels=12)#, thresh=.1,)#, color=\"black\",alpha=0.75, levels=5)\n",
    "sns.kdeplot(ax=axs[1],data=unif_df, x='x', y='y', fill=True,cmap=\"Blues\",alpha=1, levels=12)\n",
    "sns.kdeplot(ax=axs[2],data=unif_df, x='x', y='y', fill=True,cmap=\"Blues\",alpha=1, levels=12)\n",
    "\n",
    "sns.kdeplot(ax=axs[1],data=SWD_df, x='x', y='y', fill=False,cmap =\"Reds\",levels=7)#,color=\"#cc241d\",alpha=.5, levels=5)\n",
    "sns.kdeplot(ax=axs[2],data=MMD_df, x='x', y='y', fill=False,cmap='Wistia',levels=7)#color=\"#eebd35\",alpha=.5, levels=5)\n",
    "\n",
    "#ax.scatter(uniform_samples[:20, 0], uniform_samples[:20, 1], color=\"black\",zorder=10)\n",
    "#ax.scatter(SWD_samples[:20, 0], SWD_samples[:20, 1], color=\"coral\",zorder=10)\n",
    "for ax in axs:\n",
    "    ax.spines[['left', 'bottom']].set_visible(False)\n",
    "    ax.set_xticks([])\n",
    "    ax.set_yticks([])\n",
    "    ax.set_xlabel(\"\")\n",
    "    ax.set_ylabel(\"\")\n",
    "    ax.set_xlim(-8,5)\n",
    "    ax.set_ylim(-7,4)\n",
    "axs[0].set_title(r\"$p_{true}$\")\n",
    "axs[1].set_title(\"SWD\")\n",
    "axs[2].set_title(\"MMD\")\n",
    "\n",
    "fig.tight_layout()\n",
    "plt.savefig(\"mode.pdf\")"
   ]
  },
  {
   "cell_type": "code",
   "execution_count": 11,
   "metadata": {},
   "outputs": [
    {
     "data": {
      "image/png": "[encoded data removed]",
      "text/plain": [
       "<Figure size 900x300 with 3 Axes>"
      ]
     },
     "metadata": {},
     "output_type": "display_data"
    }
   ],
   "source": [
    "SWD_samples = gauss_model_WS.sample(num_samples).detach().numpy()\n",
    "MMD_samples = gauss_model_MMD.sample(num_samples).detach().numpy()\n",
    "C2ST_samples = gauss_model_C2ST.sample(num_samples).detach().numpy()\n",
    "\n",
    "# Create a dataframe for the mixture samples\n",
    "unif_df = pd.DataFrame({'x': uniform_samples[:, 0], 'y': uniform_samples[:, 1]})\n",
    "\n",
    "# Create a dataframe for the SWD mixture samples\n",
    "SWD_df = pd.DataFrame({'x': SWD_samples[:, 0], 'y': SWD_samples[:, 1]})\n",
    "MMD_df = pd.DataFrame({'x': MMD_samples[:, 0], 'y': MMD_samples[:, 1]})\n",
    "C2ST_df = pd.DataFrame({'x': MMD_samples[:, 0], 'y': MMD_samples[:, 1]})\n",
    "\n",
    "# Plot the probability contours\n",
    "fig,axs = plt.subplots(1,3, figsize = (6,2))\n",
    "sns.kdeplot(ax=axs[0],data=unif_df, x='x', y='y', fill=False, color=\"black\",alpha=0.75, levels=5)\n",
    "sns.kdeplot(ax=axs[1],data=unif_df, x='x', y='y', fill=False, color=\"black\",alpha=0.75, levels=5)\n",
    "sns.kdeplot(ax=axs[2],data=unif_df, x='x', y='y', fill=False, color=\"black\",alpha=0.75, levels=5)\n",
    "\n",
    "sns.kdeplot(ax=axs[0],data=SWD_df, x='x', y='y', fill=False, color=\"tomato\",alpha=0.75, levels=5)\n",
    "sns.kdeplot(ax=axs[1],data=MMD_df, x='x', y='y', fill=False, color=\"yellow\",alpha=0.75, levels=5)\n",
    "sns.kdeplot(ax=axs[2],data=C2ST_df, x='x', y='y', fill=False, color=\"yellow\",alpha=0.75, levels=5)\n",
    "\n",
    "#ax.set_xlim(-1.5, 1.5)\n",
    "#ax.set_ylim(-1.5, 1.5)\n",
    "#ax.scatter(uniform_samples[:20, 0], uniform_samples[:20, 1], color=\"black\",zorder=10)\n",
    "#ax.scatter(SWD_samples[:20, 0], SWD_samples[:20, 1], color=\"coral\",zorder=10)\n",
    "for ax in axs:\n",
    "    ax.spines[['left', 'bottom']].set_visible(False)\n",
    "    ax.set_xticks([])\n",
    "    ax.set_yticks([])\n",
    "    ax.set_xlabel(\"\")\n",
    "    ax.set_ylabel(\"\")\n",
    "axs[0].set_title(\"SWD\")\n",
    "axs[1].set_title(\"MMD\")\n",
    "axs[2].set_title(\"C2ST\")\n",
    "\n",
    "fig.tight_layout()\n"
   ]
  },
  {
   "cell_type": "code",
   "execution_count": null,
   "metadata": {},
   "outputs": [],
   "source": []
  }
 ],
 "metadata": {
  "kernelspec": {
   "display_name": "labproject",
   "language": "python",
   "name": "python3"
  },
  "language_info": {
   "codemirror_mode": {
    "name": "ipython",
    "version": 3
   },
   "file_extension": ".py",
   "mimetype": "text/x-python",
   "name": "python",
   "nbconvert_exporter": "python",
   "pygments_lexer": "ipython3",
   "version": "3.9.18"
  }
 },
 "nbformat": 4,
 "nbformat_minor": 2
}
