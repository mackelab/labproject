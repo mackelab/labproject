{
 "cells": [
  {
   "cell_type": "code",
   "execution_count": 1,
   "metadata": {},
   "outputs": [],
   "source": [
    "%load_ext autoreload\n",
    "%autoreload 2"
   ]
  },
  {
   "cell_type": "code",
   "execution_count": 2,
   "metadata": {},
   "outputs": [],
   "source": [
    "import torch\n",
    "import torch.nn as nn\n",
    "import torch.nn.functional as F\n",
    "\n",
    "import numpy as np\n",
    "import matplotlib.pyplot as plt\n",
    "# inline plotting\n",
    "%matplotlib inline"
   ]
  },
  {
   "cell_type": "code",
   "execution_count": 3,
   "metadata": {},
   "outputs": [],
   "source": [
    "from labproject.experiments import Experiment, ScaleDim, ScaleSampleSize\n",
    "from labproject.utils import get_log_path\n",
    "from labproject.plotting import generate_palette, color_dict\n",
    "\n",
    "from labproject.data import DATASETS, DISTRIBUTIONS\n",
    "from labproject.metrics import METRICS\n",
    "from torch.distributions import MultivariateNormal"
   ]
  },
  {
   "cell_type": "code",
   "execution_count": 4,
   "metadata": {},
   "outputs": [],
   "source": [
    "from labproject.data import DATASETS, DISTRIBUTIONS\n",
    "from labproject.utils import get_cfg, set_seed, get_log_path\n",
    "from labproject.data import get_dataset\n",
    "import os\n",
    "from omegaconf import OmegaConf\n",
    "from labproject.experiments import *\n",
    "from labproject.plotting import cm2inch\n",
    "import time\n",
    "import matplotlib.pyplot as plt\n",
    "from torch.distributions import MultivariateNormal"
   ]
  },
  {
   "cell_type": "code",
   "execution_count": 5,
   "metadata": {},
   "outputs": [],
   "source": [
    "\"\"\"dict = color_dict\n",
    "print(f\"Dict: {dict}\")\"\"\"\n",
    "\n",
    "\"\"\"col_map = {\n",
    "    'ScaleSampleSize': 'XX',\n",
    "    'ScaleSampleSizeKL': 'XX',\n",
    "    'ScaleSampleSizeSW': 'wasserstein',\n",
    "    'ScaleSampleSizeMMD': 'mmd',\n",
    "    'ScaleSampleSizeC2ST': 'c2st',\n",
    "    'ScaleDim': 'XX',\n",
    "    'ScaleDimKL': 'XX',\n",
    "    'ScaleDimSW': 'wasserstein',\n",
    "    'ScaleDimMMD': 'mmd',\n",
    "    'ScaleDimC2ST': 'c2st',\n",
    "}\"\"\"\n",
    "\n",
    "from labproject.plotting import generate_palette\n",
    "color_dict = {\"wasserstein\": \"#cc241d\",\n",
    "              \"mmd\": \"#eebd35\",\n",
    "              \"c2st\": \"#458588\",\n",
    "              \"fid\": \"#8ec07c\", \n",
    "              \"kl\": \"#8ec07c\"}\n",
    "\n",
    "\n",
    "col_map = {'ScaleDimKL':'kl', 'ScaleDimSW':'wasserstein',\n",
    "           'ScaleDimMMD':'mmd', 'ScaleDimC2ST':'c2st',\n",
    "           'ScaleDimFID':'fid', }\n",
    "\n"
   ]
  },
  {
   "cell_type": "code",
   "execution_count": 6,
   "metadata": {},
   "outputs": [
    {
     "data": {
      "text/plain": [
       "dict_keys(['mmd_rbf', 'mmd_rbf_median_heuristic', 'mmd_rbf_auto', 'mmd_polynomial', 'mmd_linear_naive', 'mmd_linear', 'c2st_nn', 'c2st_rf', 'c2st_knn', 'gaussian_kl_divergence', 'wasserstein_gauss_squared', 'sliced_wasserstein', 'wasserstein_kuhn', 'wasserstein_sinkhorn'])"
      ]
     },
     "execution_count": 6,
     "metadata": {},
     "output_type": "execute_result"
    }
   ],
   "source": [
    "METRICS.keys()\n"
   ]
  },
  {
   "cell_type": "code",
   "execution_count": 7,
   "metadata": {},
   "outputs": [
    {
     "data": {
      "text/plain": [
       "dict_keys(['random', 'multivariate_normal', 'toy_2d', 'cifar10_train', 'cifar10_test', 'imagenet_real_embeddings', 'imagenet_uncond_embeddings', 'imagenet_unconditional_model_embedding', 'imagenet_test_embedding', 'imagenet_validation_embedding', 'imagenet_conditional_model'])"
      ]
     },
     "execution_count": 7,
     "metadata": {},
     "output_type": "execute_result"
    }
   ],
   "source": [
    "DATASETS.keys()"
   ]
  },
  {
   "cell_type": "code",
   "execution_count": 8,
   "metadata": {},
   "outputs": [
    {
     "name": "stdout",
     "output_type": "stream",
     "text": [
      "Running experiments...\n",
      "Seed: 1404\n",
      "Experiments: ['ScaleDimSW', 'ScaleDimC2ST', 'ScaleDimMMD']\n",
      "Data: ['multivariate_normal']\n",
      "\n"
     ]
    }
   ],
   "source": [
    "print(\"Running experiments...\")\n",
    "# load the config file\n",
    "cfg = OmegaConf.load(\"../../configs/conf_dims.yaml\")\n",
    "cfg.running_user = 'scaling_dims'\n",
    "seed = cfg.seed\n",
    "\n",
    "set_seed(seed)\n",
    "print(f\"Seed: {seed}\")\n",
    "print(f\"Experiments: {cfg.experiments}\") \n",
    "print(f\"Data: {cfg.data}\\n\")\n",
    "\n",
    "col_dark = {}\n",
    "col_light = {}\n",
    "for e, exp_name in enumerate(cfg.experiments):\n",
    "    col_dark[exp_name] = generate_palette(color_dict[col_map[exp_name]], saturation='dark')[2]\n",
    "    col_light[exp_name] = generate_palette(color_dict[col_map[exp_name]], saturation='light')[-1]\n",
    "color_list = [col_light, col_dark] # make this a list to account for true and shifted\n",
    " \n",
    "mapping = {'ScaleDimKL':'KL', 'ScaleDimSW':'SW',\n",
    "        'ScaleDimMMD':'MMD', 'ScaleDimC2ST':'C2ST',\n",
    "        'ScaleDimFID':'FD', }\n",
    "\n",
    "# assert cfg.data is list\n",
    "assert len(cfg.data) == len(cfg.n) == len(cfg.d), \"Data, n and d must be lists of the same length\"\n",
    "    \n",
    "dataset_fn = get_dataset(name=cfg.data[0])\n",
    "\n",
    "# make comparison plots\n",
    "fig, axes = plt.subplots(len(cfg.experiments), len(cfg.distort), figsize=cm2inch((20, 13)), sharex='col')\n",
    "for ax in axes.flatten():\n",
    "    # move spines outward\n",
    "    ax.spines['bottom'].set_position(('outward', 4))\n",
    "    ax.spines['left'].set_position(('outward', 4))\n",
    "    ax.locator_params(nbins=4)\n",
    "\n",
    "# Base datasets\n",
    "dataset_gt = dataset_fn(cfg.n[0]*cfg.runs, cfg.d[0], distort=None)\n",
    "dataset_intra = dataset_fn(cfg.n[0]*cfg.runs, cfg.d[0], distort=None)\n",
    "print(f\"Dataset shape: {dataset_gt.shape}\")\n",
    "print(f\"Dataset shape: {dataset_intra.shape}\")\n",
    "\n",
    "for d, distort in enumerate(cfg.distort):\n",
    "    print(f\"Distort: {distort.upper()}\")\n",
    "    label_true = {}\n",
    "    label_shift = {}\n",
    "    for e, data_name in enumerate(cfg.data):\n",
    "        label_true[data_name] = \"true\"\n",
    "        if distort == 'shift_one' or distort=='shift_all':\n",
    "            label_shift[data_name] = 'shifted'\n",
    "        if distort == 'increase_var':\n",
    "            label_shift[data_name] = 'increased var'\n",
    "    label_list = [label_true, label_shift]\n",
    "\n",
    "    # Distorted \n",
    "    dataset_inter = dataset_fn(cfg.n[0]*cfg.runs, cfg.d[0], distort=cfg.distort[d])\n",
    "    dataset_inter_var = dataset_fn(cfg.n[0]*cfg.runs, cfg.d[0], distort=cfg.distort[d])\n",
    "\n",
    "    # Data plots\n",
    "    fig_data, axes_data = plt.subplots(1, 4, figsize=cm2inch((15, 4)), sharex=True, sharey=True)\n",
    "    axes_data[0].plot(dataset_gt[:1000, 0], dataset_gt[:1000, 1], 'o', label='gt', alpha=0.2, color='C0')\n",
    "    axes_data[1].plot(dataset_intra[:1000, 0], dataset_intra[:1000, 1], 'o', label='true',  alpha=0.2, color='C2')\n",
    "    axes_data[2].plot(dataset_inter[:1000, 0], dataset_inter[:1000, 1], 'o', label=cfg.distort[d] ,alpha=0.2, color='C3')\n",
    "    axes_data[3].plot(dataset_inter_var[:1000, 0], dataset_inter[:1000, 1], 'o', label=cfg.distort[d] ,alpha=0.2, color='C4')\n",
    "    for ax in axes_data:\n",
    "        ax.legend()\n",
    "\n",
    "    for e, exp_name in enumerate(cfg.experiments):\n",
    "        experiment = globals()[exp_name]()\n",
    "        time_start = time.time()\n",
    "        dataset1 = dataset_gt\n",
    "        ax = axes[e, d]\n",
    "        ax.set_xscale('log')\n",
    "        for dc, data_comp in enumerate([dataset_intra, dataset_inter]):\n",
    "            dataset2 = data_comp\n",
    "            assert dataset1.shape == dataset2.shape, f\"Dataset shapes do not match: {dataset1.shape} vs. {dataset2.shape}\"\n",
    "            if mapping[exp_name]  == 'MMD':\n",
    "                print(f'MMD {cfg.data} {d} {cfg.mmd_bandwidth[d]}')\n",
    "                output = experiment.run_experiment(dataset1=dataset1,\n",
    "                                                dataset2=dataset2,\n",
    "                                                dataset_size = cfg.n[0],\n",
    "                                                dim_sizes=cfg.dim_sizes,\n",
    "                                                nb_runs = cfg.runs,\n",
    "                                                bandwidth=cfg.mmd_bandwidth[d])\n",
    "            else:\n",
    "                output = experiment.run_experiment(dataset1=dataset1,\n",
    "                                                    dataset2=dataset2,\n",
    "                                                    dataset_size = cfg.n[0],\n",
    "                                                    dim_sizes=cfg.dim_sizes,\n",
    "                                                    nb_runs = cfg.runs)\n",
    "            time_end = time.time()\n",
    "            print(f\"Experiment {exp_name} finished in {time_end - time_start}\")\n",
    "\n",
    "            log_path = get_log_path(cfg)\n",
    "            os.makedirs(os.path.dirname(log_path), exist_ok=True)\n",
    "            experiment.log_results(output, log_path)\n",
    "            print(f\"Numerical results saved to {log_path}\")\n",
    "            experiment.plot_experiment(*output,\n",
    "                cfg.data[0],\n",
    "                ax=ax,\n",
    "                color=color_list[dc][exp_name],\n",
    "                label=label_list[dc][cfg.data[0]],\n",
    "                linestyle='-' if dc == 0 else '--',lw=2, marker='o'\n",
    "            )\n",
    "            if mapping[exp_name]  == 'MMD':\n",
    "                ax.set_ylabel(mapping[exp_name]+ str(int(cfg.mmd_bandwidth[d])))\n",
    "            else:\n",
    "                ax.set_ylabel(mapping[exp_name])\n",
    "            ax.set_xlabel('')\n",
    "            if mapping[exp_name]  == 'C2ST':\n",
    "                ax.set_ylim([0.45,1.1])\n",
    "                ax.set_yticks([0.5,1.1])\n",
    "            \n",
    "        ax.legend()\n",
    "\n",
    "axes[-1, 0].set_xlabel('dimensions')\n",
    "axes[-1, 1].set_xlabel('dimensions')\n",
    "axes[-1, 2].set_xlabel('dimensions')\n",
    "\n",
    "fig.tight_layout()\n",
    "print(f\"Plots saved to {cfg.data[0]}.png\")\n",
    "fig.savefig(f\"../../plots/metric_comparison_sim_budget_{cfg.n[0]}_dim_size_{cfg.data[0]}_NEW.png\", dpi=300)\n",
    "fig.savefig(f\"../../plots/metric_comparison_sim_budget_{cfg.n[0]}_dim_size_{cfg.data[0]}_NEW.pdf\", dpi=300)\n",
    "\n",
    "print(\"Finished running experiments.\")\n"
   ]
  }
 ],
 "metadata": {
  "kernelspec": {
   "display_name": "labproject",
   "language": "python",
   "name": "python3"
  },
  "language_info": {
   "codemirror_mode": {
    "name": "ipython",
    "version": 3
   },
   "file_extension": ".py",
   "mimetype": "text/x-python",
   "name": "python",
   "nbconvert_exporter": "python",
   "pygments_lexer": "ipython3",
   "version": "3.9.18"
  }
 },
 "nbformat": 4,
 "nbformat_minor": 2
}
