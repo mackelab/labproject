{
 "cells": [
  {
   "cell_type": "code",
   "execution_count": 95,
   "metadata": {},
   "outputs": [],
   "source": [
    "import torch\n",
    "from labproject.data import get_dataset, DATASETS\n",
    "from labproject.metrics import METRICS\n",
    "\n",
    "from labproject.metrics.utils import get_metric\n",
    "\n",
    "import matplotlib.pyplot as plt"
   ]
  },
  {
   "cell_type": "code",
   "execution_count": 52,
   "metadata": {},
   "outputs": [
    {
     "data": {
      "text/plain": [
       "{'random': <function labproject.data.random_dataset(n=1000, d=10)>,\n",
       " 'multivariate_normal': <function labproject.data.multivariate_normal(n=3000, dims=100, means=None, vars=None, distort=None)>,\n",
       " 'toy_2d': <function labproject.data.toy_2d(n=1000, d=2)>,\n",
       " 'cifar10_train': <function labproject.data.cifar10_train(n=1000, d=2048, save_path='data', device='cpu', return_labels=False)>,\n",
       " 'cifar10_test': <function labproject.data.cifar10_test(n=1000, d=2048, save_path='data', device='cpu', return_labels=False)>,\n",
       " 'imagenet_real_embeddings': <function labproject.data.imagenet_real_embeddings(n=1000, d=2048)>,\n",
       " 'imagenet_uncond_embeddings': <function labproject.data.imagenet_uncond_embeddings(n=1000, d=2048)>,\n",
       " 'imagenet_unconditional_model_embedding': <function labproject.data.imagenet_unconditional_model_embedding(n, d=2048, device='cpu', save_path='data')>,\n",
       " 'imagenet_test_embedding': <function labproject.data.imagenet_test_embedding(n, d=2048, device='cpu', save_path='data')>,\n",
       " 'imagenet_validation_embedding': <function labproject.data.imagenet_validation_embedding(n, d=2048, device='cpu', save_path='data')>,\n",
       " 'imagenet_conditional_model': <function labproject.data.imagenet_conditional_model(n, d=2048, label: Optional[int] = None, device='cpu', permute_if_no_label=True, save_path='data')>,\n",
       " 'imagenet_biggan_embedding': <function labproject.data.imagenet_biggan_embedding(n, d=2048, device='cpu', save_path='data', permute=False)>,\n",
       " 'imagenet_sdv4_embedding': <function labproject.data.imagenet_sdv4_embedding(n, d=2048, device='cpu', save_path='data', permute=False)>,\n",
       " 'imagenet_sdv5_embedding': <function labproject.data.imagenet_sdv5_embedding(n, d=2048, device='cpu', save_path='data', permute=False)>,\n",
       " 'imagenet_vqdm_embedding': <function labproject.data.imagenet_vqdm_embedding(n, d=2048, device='cpu', save_path='data', permute=False)>,\n",
       " 'imagenet_wukong_embedding': <function labproject.data.imagenet_wukong_embedding(n, d=2048, device='cpu', save_path='data', permute=False)>,\n",
       " 'imagenet_adm_embedding': <function labproject.data.imagenet_adm_embedding(n, d=2048, device='cpu', save_path='data', permute=False)>,\n",
       " 'imagenet_midjourney_embedding': <function labproject.data.imagenet_midjourney_embedding(n, d=2048, device='cpu', save_path='data', permute=False)>,\n",
       " 'imagenet_cs1_embedding': <function labproject.data.imagenet_cs1_embedding(n, d=2048, device='cpu', save_path='data', permute=False)>,\n",
       " 'imagenet_cs3_embedding': <function labproject.data.imagenet_cs3_embedding(n, d=2048, device='cpu', save_path='data', permute=False)>,\n",
       " 'imagenet_cs10_embedding': <function labproject.data.imagenet_cs10_embedding(n, d=2048, device='cpu', save_path='data', permute=False)>,\n",
       " 'imagenet_cs100_embedding': <function labproject.data.imagenet_cs10_embedding(n, d=2048, device='cpu', save_path='data', permute=False)>}"
      ]
     },
     "execution_count": 52,
     "metadata": {},
     "output_type": "execute_result"
    }
   ],
   "source": [
    "DATASETS"
   ]
  },
  {
   "cell_type": "code",
   "execution_count": 96,
   "metadata": {},
   "outputs": [
    {
     "data": {
      "text/plain": [
       "{'mmd_rbf': <function labproject.metrics.MMD_torch.compute_rbf_mmd(x, y, bandwidth=1.0)>,\n",
       " 'mmd_rbf_median_heuristic': <function labproject.metrics.MMD_torch.compute_rbf_mmd_median_heuristic(x, y)>,\n",
       " 'mmd_rbf_auto': <function labproject.metrics.MMD_torch.compute_rbf_mmd_auto(x, y, bandwidth=1.0)>,\n",
       " 'mmd_polynomial': <function labproject.metrics.MMD_torch.compute_polynomial_mmd(x, y, degree=2, bias=0)>,\n",
       " 'mmd_linear_naive': <function labproject.metrics.MMD_torch.compute_linear_mmd_naive(x, y)>,\n",
       " 'mmd_linear': <function labproject.metrics.MMD_torch.compute_linear_mmd(x, y)>,\n",
       " 'c2st_nn': <function labproject.metrics.c2st.c2st_nn(X: torch.Tensor, Y: torch.Tensor, seed: int = 1, n_folds: int = 5, metric: str = 'accuracy', z_score: bool = True, activation: Literal['identity', 'logistic', 'tanh', 'relu'] = 'relu', clf_kwargs: dict[str, typing.Any] = {}) -> torch.Tensor>,\n",
       " 'c2st_rf': <function labproject.metrics.c2st.c2st_rf(X: torch.Tensor, Y: torch.Tensor, seed: int = 1, n_folds: int = 5, metric: str = 'accuracy', z_score: bool = True, n_estimators: int = 100, clf_kwargs: dict[str, typing.Any] = {}) -> torch.Tensor>,\n",
       " 'c2st_knn': <function labproject.metrics.c2st.c2st_knn(X: torch.Tensor, Y: torch.Tensor, seed: int = 1, n_folds: int = 5, metric: str = 'accuracy', z_score: bool = True, n_neighbors: int = 5, clf_kwargs: dict = {}) -> torch.Tensor>,\n",
       " 'gaussian_kl_divergence': <function labproject.metrics.gaussian_kl.gaussian_kl_divergence(real_samples: torch.Tensor, fake_samples: torch.Tensor) -> torch.Tensor>,\n",
       " 'wasserstein_gauss_squared': <function labproject.metrics.gaussian_squared_wasserstein.gaussian_squared_w2_distance(real_samples: torch.Tensor, fake_samples: torch.Tensor, real_mu=None, real_cov=None) -> torch.Tensor>,\n",
       " 'sliced_wasserstein': <function labproject.metrics.sliced_wasserstein.sliced_wasserstein_distance(encoded_samples: torch.Tensor, distribution_samples: torch.Tensor, num_projections: int = 50, p: int = 2, device: str = 'cpu') -> torch.Tensor>,\n",
       " 'wasserstein_kuhn': <function labproject.metrics.wasserstein_kuhn.wasserstein_kuhn(x: torch.Tensor, y: torch.Tensor, norm: Union[Callable, str, int] = 2) -> torch.Tensor>,\n",
       " 'wasserstein_sinkhorn': <function labproject.metrics.wasserstein_sinkhorn.sinkhorn_loss(x: torch.Tensor, y: torch.Tensor, epsilon: float = 0.001, niter: int = 1000, p: int = 2) -> torch.Tensor>}"
      ]
     },
     "execution_count": 96,
     "metadata": {},
     "output_type": "execute_result"
    }
   ],
   "source": [
    "METRICS"
   ]
  },
  {
   "cell_type": "code",
   "execution_count": 91,
   "metadata": {},
   "outputs": [],
   "source": [
    "metric_fn = get_metric(\"wasserstein_gauss_squared\")\n",
    "metric_fn2 = get_metric(\"sliced_wasserstein\")"
   ]
  },
  {
   "cell_type": "code",
   "execution_count": 92,
   "metadata": {},
   "outputs": [],
   "source": [
    "datasets = [\"imagenet_unconditional_model_embedding\",\"imagenet_cs1_embedding\", \"imagenet_cs10_embedding\", \"imagenet_biggan_embedding\", \"imagenet_sdv4_embedding\", \"imagenet_sdv5_embedding\", \"imagenet_vqdm_embedding\", \"imagenet_wukong_embedding\", \"imagenet_adm_embedding\", \"imagenet_midjourney_embedding\"]"
   ]
  },
  {
   "cell_type": "code",
   "execution_count": 93,
   "metadata": {},
   "outputs": [],
   "source": [
    "testset_fn = get_dataset(\"imagenet_test_embedding\")"
   ]
  },
  {
   "cell_type": "code",
   "execution_count": 94,
   "metadata": {},
   "outputs": [],
   "source": [
    "testset = testset_fn(100_000, 2048)\n",
    "idx = torch.randperm(len(testset))\n",
    "testset = testset[idx]"
   ]
  },
  {
   "cell_type": "code",
   "execution_count": null,
   "metadata": {},
   "outputs": [],
   "source": [
    "results = {}"
   ]
  },
  {
   "cell_type": "code",
   "execution_count": 89,
   "metadata": {},
   "outputs": [],
   "source": [
    "for dname in datasets:\n",
    "    data = get_dataset(dname)(20_000, 2048, permute=True)\n",
    "    "
   ]
  },
  {
   "cell_type": "code",
   "execution_count": 83,
   "metadata": {},
   "outputs": [
    {
     "data": {
      "text/plain": [
       "(array([190., 351., 418., 528., 509., 581., 534., 547., 529., 488., 459.,\n",
       "        437., 401., 343., 318., 306., 272., 235., 217., 221., 175., 176.,\n",
       "        158., 124., 151., 121., 105.,  91.,  92.,  76.,  66.,  77.,  72.,\n",
       "         60.,  42.,  38.,  42.,  37.,  42.,  32.,  23.,  21.,  29.,  26.,\n",
       "         23.,  22.,  25.,  18.,  17.,  11.,  10.,  13.,  17.,  11.,   4.,\n",
       "          8.,   6.,   3.,   5.,   6.,   1.,   3.,   4.,   2.,   1.,   3.,\n",
       "          3.,   1.,   1.,   3.,   0.,   1.,   2.,   5.,   1.,   1.,   0.,\n",
       "          0.,   2.,   0.,   3.,   0.,   0.,   1.,   0.,   0.,   0.,   0.,\n",
       "          0.,   1.,   0.,   1.,   0.,   0.,   0.,   0.,   0.,   0.,   0.,\n",
       "          1.]),\n",
       " array([0.        , 0.0224842 , 0.0449684 , 0.0674526 , 0.0899368 ,\n",
       "        0.112421  , 0.1349052 , 0.1573894 , 0.1798736 , 0.2023578 ,\n",
       "        0.224842  , 0.2473262 , 0.26981041, 0.29229459, 0.3147788 ,\n",
       "        0.33726299, 0.3597472 , 0.38223141, 0.4047156 , 0.42719981,\n",
       "        0.44968399, 0.47216821, 0.49465239, 0.51713657, 0.53962082,\n",
       "        0.562105  , 0.58458918, 0.60707343, 0.62955761, 0.65204179,\n",
       "        0.67452598, 0.69701022, 0.7194944 , 0.74197859, 0.76446283,\n",
       "        0.78694701, 0.8094312 , 0.83191538, 0.85439962, 0.8768838 ,\n",
       "        0.89936799, 0.92185217, 0.94433641, 0.9668206 , 0.98930478,\n",
       "        1.01178896, 1.03427315, 1.05675745, 1.07924163, 1.10172582,\n",
       "        1.12421   , 1.14669418, 1.16917837, 1.19166255, 1.21414685,\n",
       "        1.23663104, 1.25911522, 1.2815994 , 1.30408359, 1.32656777,\n",
       "        1.34905195, 1.37153625, 1.39402044, 1.41650462, 1.4389888 ,\n",
       "        1.46147299, 1.48395717, 1.50644135, 1.52892566, 1.55140984,\n",
       "        1.57389402, 1.59637821, 1.61886239, 1.64134657, 1.66383076,\n",
       "        1.68631506, 1.70879924, 1.73128343, 1.75376761, 1.77625179,\n",
       "        1.79873598, 1.82122016, 1.84370434, 1.86618865, 1.88867283,\n",
       "        1.91115701, 1.9336412 , 1.95612538, 1.97860956, 2.00109386,\n",
       "        2.02357793, 2.04606223, 2.0685463 , 2.0910306 , 2.1135149 ,\n",
       "        2.13599896, 2.15848327, 2.18096733, 2.20345163, 2.2259357 ,\n",
       "        2.24842   ]),\n",
       " <BarContainer object of 100 artists>)"
      ]
     },
     "execution_count": 83,
     "metadata": {},
     "output_type": "execute_result"
    },
    {
     "data": {
      "image/png": "[encoded data removed]",
      "text/plain": [
       "<Figure size 640x480 with 1 Axes>"
      ]
     },
     "metadata": {},
     "output_type": "display_data"
    }
   ],
   "source": [
    "plt.hist(data[:, 0].numpy(), bins=100, alpha=0.5, label=\"data\")\n",
    "plt.hist(testset[:10_000, 0].numpy(), bins=100, alpha=0.5, label=\"testset\")"
   ]
  },
  {
   "cell_type": "code",
   "execution_count": 90,
   "metadata": {},
   "outputs": [
    {
     "data": {
      "text/plain": [
       "tensor(6.3563)"
      ]
     },
     "execution_count": 90,
     "metadata": {},
     "output_type": "execute_result"
    }
   ],
   "source": [
    "metric_fn(testset[:20_000], data)"
   ]
  },
  {
   "cell_type": "code",
   "execution_count": 88,
   "metadata": {},
   "outputs": [
    {
     "data": {
      "text/plain": [
       "tensor(0.0216)"
      ]
     },
     "execution_count": 88,
     "metadata": {},
     "output_type": "execute_result"
    }
   ],
   "source": [
    "metric_fn2(testset[:data.shape[0]], data, num_projections=5000)"
   ]
  },
  {
   "cell_type": "code",
   "execution_count": null,
   "metadata": {},
   "outputs": [],
   "source": []
  }
 ],
 "metadata": {
  "kernelspec": {
   "display_name": "labproject",
   "language": "python",
   "name": "python3"
  },
  "language_info": {
   "codemirror_mode": {
    "name": "ipython",
    "version": 3
   },
   "file_extension": ".py",
   "mimetype": "text/x-python",
   "name": "python",
   "nbconvert_exporter": "python",
   "pygments_lexer": "ipython3",
   "version": "3.9.18"
  }
 },
 "nbformat": 4,
 "nbformat_minor": 2
}
