{
 "cells": [
  {
   "cell_type": "markdown",
   "metadata": {},
   "source": [
    "# Dogs-vs-not-dogs evaluation in Imagenet\n",
    "\n",
    "\n",
    "The two subsets of the imagenet dataset are from this [Dropbox link](https://www.dropbox.com/sh/yrfmp7hwa2w9gxz/AAATMrfWNLctPq1vnRa3mtZPa?dl=0). We use the `dogs50A-train.tar.gz` and `non-dogs-val.tar.gz` subsets. Extract these into the respective folders and change the paths accordingly int his script."
   ]
  },
  {
   "cell_type": "code",
   "execution_count": null,
   "metadata": {},
   "outputs": [],
   "source": [
    "%load_ext autoreload\n",
    "%autoreload 2"
   ]
  },
  {
   "cell_type": "code",
   "execution_count": null,
   "metadata": {},
   "outputs": [],
   "source": [
    "import matplotlib.pyplot as plt\n",
    "import torch"
   ]
  },
  {
   "cell_type": "code",
   "execution_count": null,
   "metadata": {},
   "outputs": [],
   "source": [
    "from PIL import Image\n",
    "class ImagePathDataset(torch.utils.data.Dataset):\n",
    "    def __init__(self, files, transforms=None):\n",
    "        self.files = files\n",
    "        self.transforms = transforms\n",
    "\n",
    "    def __len__(self):\n",
    "        return len(self.files)\n",
    "\n",
    "    def __getitem__(self, i):\n",
    "        path = self.files[i]\n",
    "        img = Image.open(path).convert('RGB')\n",
    "        if self.transforms is not None:\n",
    "            img = self.transforms(img)\n",
    "        return img\n"
   ]
  },
  {
   "cell_type": "code",
   "execution_count": null,
   "metadata": {},
   "outputs": [],
   "source": [
    "import os\n",
    "import glob\n",
    "\n",
    "def list_file_types(directory):\n",
    "    # ensure the directory path ends with a separator\n",
    "    if not directory.endswith(os.path.sep):\n",
    "        directory += os.path.sep\n",
    "    \n",
    "    # recursive glob pattern to match all files\n",
    "    glob_pattern = directory + '**/*.*'\n",
    "    \n",
    "    # set to store unique file extensions\n",
    "    file_types = set()\n",
    "    \n",
    "    # recursively search for all files with an extension\n",
    "    for file in glob.glob(glob_pattern, recursive=True):\n",
    "        # extract file extension and add to the set\n",
    "        _, ext = os.path.splitext(file)\n",
    "        if ext:  # check if extension is not empty\n",
    "            file_types.add(ext.lower())  # add extension in lowercase to ensure uniqueness\n",
    "    \n",
    "    return file_types\n",
    "\n"
   ]
  },
  {
   "cell_type": "code",
   "execution_count": null,
   "metadata": {},
   "outputs": [],
   "source": [
    "from torchvision import transforms\n",
    "\n",
    "dog_folder = '/mnt/dogs50A-train'\n",
    "dog_files = []\n",
    "for root, dirs, files in os.walk(dog_folder):\n",
    "    for file in files:\n",
    "        if file.endswith('.png') or file.endswith('.jpg') or file.endswith('.jpeg'):\n",
    "            dog_files.append(os.path.join(root, file))\n",
    "print(len(dog_files))\n",
    "\n",
    "nondog_folder = '/mnt/non-dogs-val'\n",
    "nondog_files = []\n",
    "for root, dirs, files in os.walk(nondog_folder):\n",
    "    for file in files:\n",
    "        if file.endswith('.png') or file.endswith('.jpg') or file.endswith('.jpeg'):\n",
    "            nondog_files.append(os.path.join(root, file))\n",
    "print(len(nondog_files))\n",
    "\n",
    "transform_inception_with_crop = transforms.Compose([\n",
    "    # transform,\n",
    "    transforms.Resize(64),  # Inception models expect a 299x299 input size\n",
    "    transforms.CenterCrop(64),\n",
    "    transforms.ToTensor(),\n",
    "    transforms.Normalize(mean=[0.485, 0.456, 0.406], std=[0.229, 0.224, 0.225]),\n",
    "])\n",
    "\n",
    "dog_dataset = ImagePathDataset(dog_files, transforms=transform_inception_with_crop)\n",
    "nondog_dataset = ImagePathDataset(nondog_files, transforms=transform_inception_with_crop)\n",
    "\n",
    "\n"
   ]
  },
  {
   "cell_type": "code",
   "execution_count": null,
   "metadata": {},
   "outputs": [],
   "source": [
    "plt.imshow(dog_dataset[0].permute(1, 2, 0))\n",
    "plt.show()\n",
    "plt.imshow(nondog_dataset[0].permute(1, 2, 0))\n",
    "plt.show()"
   ]
  },
  {
   "cell_type": "code",
   "execution_count": null,
   "metadata": {},
   "outputs": [],
   "source": [
    "from labproject.embeddings import FIDEmbeddingNet\n",
    "net = FIDEmbeddingNet(device='cuda')\n",
    "\n"
   ]
  },
  {
   "cell_type": "code",
   "execution_count": null,
   "metadata": {},
   "outputs": [],
   "source": [
    "\n",
    "dataloader = torch.utils.data.DataLoader(dog_dataset, batch_size=100, shuffle=False, num_workers=4)\n",
    "dog_embeddings = net.get_embeddings(dataloader)\n",
    "\n",
    "dataloader = torch.utils.data.DataLoader(nondog_dataset, batch_size=100, shuffle=False, num_workers=4)\n",
    "nondog_embeddings = net.get_embeddings(dataloader)"
   ]
  },
  {
   "cell_type": "code",
   "execution_count": null,
   "metadata": {},
   "outputs": [],
   "source": [
    "dog_embeddings.shape, nondog_embeddings.shape"
   ]
  },
  {
   "cell_type": "code",
   "execution_count": null,
   "metadata": {},
   "outputs": [],
   "source": [
    "torch.save(dog_embeddings, '/mnt/dog_embeddings.pt')\n",
    "torch.save(nondog_embeddings, '/mnt/nondog_embeddings.pt')"
   ]
  },
  {
   "cell_type": "code",
   "execution_count": null,
   "metadata": {},
   "outputs": [],
   "source": [
    "dog_embeddings = torch.load('/mnt/dog_embeddings.pt')\n",
    "nondog_embeddings = torch.load('/mnt/nondog_embeddings.pt')"
   ]
  },
  {
   "cell_type": "code",
   "execution_count": null,
   "metadata": {},
   "outputs": [],
   "source": [
    "from labproject.metrics.gaussian_squared_wasserstein import gaussian_squared_w2_distance\n",
    "\n",
    "print('dog nondog', gaussian_squared_w2_distance(dog_embeddings, nondog_embeddings))\n",
    "print('dog dog', gaussian_squared_w2_distance(dog_embeddings[:3004], dog_embeddings[3004:]))\n",
    "print('nondog nondog', gaussian_squared_w2_distance(nondog_embeddings[:2405], nondog_embeddings[2405:]))"
   ]
  },
  {
   "cell_type": "code",
   "execution_count": null,
   "metadata": {},
   "outputs": [],
   "source": [
    "from labproject.metrics.MMD_torch import compute_rbf_mmd\n",
    "print('dog nondog', compute_rbf_mmd(dog_embeddings, nondog_embeddings, 64))\n",
    "print('dog dog', compute_rbf_mmd(dog_embeddings[:3004], dog_embeddings[3004:], 64))\n",
    "print('nondog nondog', compute_rbf_mmd(nondog_embeddings[:2405], nondog_embeddings[2405:], 64))\n"
   ]
  },
  {
   "cell_type": "code",
   "execution_count": null,
   "metadata": {},
   "outputs": [],
   "source": [
    "from labproject.metrics.c2st import c2st_nn\n",
    "print('dog nondog', c2st_nn(dog_embeddings, nondog_embeddings))\n",
    "dog_embeddings_shuffled = dog_embeddings[torch.randperm(dog_embeddings.size(0))]\n",
    "print('dog dog', c2st_nn(dog_embeddings_shuffled[:3004], dog_embeddings_shuffled[3004:]))\n",
    "nondog_embeddings_shuffled = nondog_embeddings[torch.randperm(nondog_embeddings.size(0))]\n",
    "print('nondog nondog', c2st_nn(nondog_embeddings_shuffled[:2405], nondog_embeddings_shuffled[2405:]))\n"
   ]
  },
  {
   "cell_type": "code",
   "execution_count": null,
   "metadata": {},
   "outputs": [],
   "source": [
    "from labproject.metrics.sliced_wasserstein import sliced_wasserstein_distance\n",
    "print('dog nondog', sliced_wasserstein_distance(dog_embeddings[:4809], nondog_embeddings, 5000))\n",
    "print('dog dog', sliced_wasserstein_distance(dog_embeddings[:3004], dog_embeddings[3004:], 5000))\n",
    "print('nondog nondog', sliced_wasserstein_distance(nondog_embeddings[:2404], nondog_embeddings[2405:], 5000))\n"
   ]
  },
  {
   "cell_type": "code",
   "execution_count": 1,
   "metadata": {},
   "outputs": [
    {
     "data": {
      "image/png": "[encoded data removed]",
      "text/plain": [
       "<Figure size 1062.99x944.882 with 4 Axes>"
      ]
     },
     "metadata": {},
     "output_type": "display_data"
    }
   ],
   "source": [
    "## plotting\n",
    "\n",
    "from labproject.plotting import generate_palette\n",
    "color_dict = {\"SW\": \"#cc241d\",\n",
    "              \"C2ST\": \"#458588\",\n",
    "              \"MMD\": \"#eebd35\",\n",
    "              \"FID\": \"#8ec07c\"}\n",
    "\n",
    "\n",
    "from omegaconf import OmegaConf\n",
    "from labproject.experiments import *\n",
    "from labproject.plotting import cm2inch\n",
    "import time\n",
    "import matplotlib.pyplot as plt\n",
    "import sklearn\n",
    "\n",
    "\n",
    "col_dark = {}\n",
    "col_light = {}\n",
    "for metric, color in color_dict.items():\n",
    "    col_dark[metric] = generate_palette(color, saturation='dark')[2]\n",
    "    col_light[metric] = generate_palette(color, saturation='light')[-1]\n",
    "\n",
    "\n",
    "\n",
    "\n",
    "# precomputed metrics\n",
    "intra_data = {metric:None for metric in [\"C2ST\", \"MMD\", \"FID\", \"SW\"]}\n",
    "intra_data[\"FID\"] = {\"dog_nodog\": 20.39, \"dog_dog\": 15.06, \"nodog_nodog\": 22.31}\n",
    "intra_data[\"C2ST\"] = {\"dog_nodog\": 0.92, \"dog_dog\": 0.50, \"nodog_nodog\": 0.49}\n",
    "intra_data[\"MMD\"] = {\"dog_dog\": 1.6689e-06, \"dog_nodog\": 3.0637e-05, \"nodog_nodog\": 2.1458e-06}\n",
    "intra_data[\"SW\"] = {\"dog_dog\": 0.0072, \"dog_nodog\": 0.0223, \"nodog_nodog\": 0.0077}\n",
    "\n",
    "col_dark = {}\n",
    "col_light = {}\n",
    "col_lightest = {}\n",
    "for metric, color in color_dict.items():\n",
    "    col_dark[metric] = generate_palette(color, n_colors=6, saturation='dark')[3]\n",
    "    col_light[metric] = generate_palette(color, n_colors=6, saturation='light')[-1]\n",
    "    col_lightest[metric] = generate_palette(color, n_colors=6,saturation='light')[0]\n",
    "\n",
    "# make comparison plots\n",
    "fig, axes = plt.subplots(2, 2, figsize=cm2inch((9, 8)), dpi=300, sharex='col')\n",
    "\n",
    "for ax in axes.flatten():\n",
    "    # move spines outward\n",
    "    ax.spines['bottom'].set_position(('outward', 4))\n",
    "    ax.spines['left'].set_position(('outward', 4))\n",
    "    ax.locator_params(nbins=3)\n",
    "\n",
    "# set fontsize to 10\n",
    "plt.rcParams.update({'font.size': 10})\n",
    "for i, (ax, metric) in enumerate(zip(axes.flatten(), color_dict.keys())):\n",
    "    # move spines outward\n",
    "    ax.spines['bottom'].set_position(('outward', 4))\n",
    "    ax.spines['left'].set_position(('outward', 4))\n",
    "    ax.locator_params(nbins=3)\n",
    "\n",
    "    intraclass1 = intra_data[metric][\"dog_dog\"]\n",
    "    intraclass2 = intra_data[metric][\"nodog_nodog\"]\n",
    "    interclass = intra_data[metric][\"dog_nodog\"]\n",
    "\n",
    "    # barplot with different shadings\n",
    "    ax.bar([0, 1, 2], [interclass, intraclass1, intraclass2], color=[col_dark[metric], col_light[metric], col_lightest[metric]], edgecolor='black')\n",
    "\n",
    "    ax.set_ylabel(metric, color=col_dark[metric])\n",
    "    if metric == 'C2ST':\n",
    "        ax.set_ylim([0.4,1])\n",
    "        ax.set_yticks([0.5,1])\n",
    "    if metric == 'FID':\n",
    "        ax.set_ylim([-0.5,30])\n",
    "        ax.set_yticks([0,15,30])\n",
    "    if metric == 'MMD':\n",
    "        ax.set_ylim([-5e-7,3.2e-5])\n",
    "        ax.set_yticks([0,1e-5,2e-5,3e-5])\n",
    "    if metric == 'SW':\n",
    "        ax.set_ylim([-0.001,0.03])\n",
    "        ax.set_yticks([0,0.01,0.03])\n",
    "\n",
    "    if i >=2:\n",
    "        ax.set_xticks([0, 1, 2])\n",
    "        ax.set_xticklabels(['D vs.\\n~D', 'D vs.\\nD', '~D vs.\\n~D'])\n",
    "    else:\n",
    "        ax.set_xticks([])\n",
    "\n",
    "    \n",
    "fig.tight_layout()\n",
    "plt.show()\n"
   ]
  },
  {
   "cell_type": "code",
   "execution_count": null,
   "metadata": {},
   "outputs": [],
   "source": []
  }
 ],
 "metadata": {
  "kernelspec": {
   "display_name": "labproject",
   "language": "python",
   "name": "python3"
  },
  "language_info": {
   "codemirror_mode": {
    "name": "ipython",
    "version": 3
   },
   "file_extension": ".py",
   "mimetype": "text/x-python",
   "name": "python",
   "nbconvert_exporter": "python",
   "pygments_lexer": "ipython3",
   "version": "3.9.18"
  }
 },
 "nbformat": 4,
 "nbformat_minor": 2
}
