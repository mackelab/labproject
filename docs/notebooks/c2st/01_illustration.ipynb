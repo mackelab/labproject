{
  "nbformat": 4,
  "nbformat_minor": 0,
  "metadata": {
    "colab": {
      "provenance": [],
      "toc_visible": true
    },
    "kernelspec": {
      "name": "python3",
      "display_name": "Python 3"
    },
    "language_info": {
      "name": "python"
    }
  },
  "cells": [
    {
      "cell_type": "markdown",
      "source": [
        "# Figure 4: Classifier two-sample test basic visualization"
      ],
      "metadata": {
        "id": "K4t90XSUHvEb"
      }
    },
    {
      "cell_type": "code",
      "execution_count": null,
      "metadata": {
        "id": "rn0KdSQg292I"
      },
      "outputs": [],
      "source": [
        "import torch\n",
        "import numpy as np\n",
        "from torch import ones, zeros, float32, as_tensor, tensor, eye, sum, Tensor, manual_seed\n",
        "from torch.distributions import MultivariateNormal, Normal, Categorical\n",
        "from typing import Any\n",
        "import matplotlib as mpl\n",
        "import matplotlib.pyplot as plt\n",
        "import seaborn as sns"
      ]
    },
    {
      "cell_type": "code",
      "source": [
        "from labproject.data import toy_mog_2d"
      ],
      "metadata": {
        "id": "fgwRepKG_Rub"
      },
      "execution_count": null,
      "outputs": []
    },
    {
      "cell_type": "markdown",
      "source": [
        "## 1-d densities and optimal classification\n",
        "\n",
        "We plot two different univariate Gaussian distributions. The optimal classifier takes the central gray line as the decision boundary, resulting in the shaded misclassified regions but still guaranteeing a classification accuracy over 50%."
      ],
      "metadata": {
        "id": "NYMG64oaIgvS"
      }
    },
    {
      "cell_type": "code",
      "source": [
        "x = np.arange(-7.74, 8.26, 0.01)\n",
        "gaussian = lambda x, mu=0.0, std=1.0: np.exp(-0.5 * ((x - mu) / std) ** 2) / std / np.sqrt(2 * np.pi)\n",
        "with mpl.rc_context(fname=\"matplotlibrc\"):\n",
        "    fig, ax = plt.subplots(ncols=1, nrows=1, figsize=(1.4, 1.2))\n",
        "    # plot pdfs\n",
        "    plt.plot(x, gaussian(x, mu=-1.0, std=1.5), color=\"#2b7cba\")\n",
        "    plt.plot(x, gaussian(x, mu=1.0, std=2.0), color=\"#d52221\")\n",
        "    # shade classification areas\n",
        "    plt.fill_between(x[:len(x) // 2], gaussian(x[:len(x) // 2], mu=-1.0, std=1.5), color=\"#2b7cba\", alpha=0.2)\n",
        "    plt.fill_between(x[len(x) // 2:], gaussian(x[len(x) // 2:], mu=1.0, std=2.0), color=\"#d52221\", alpha=0.2)\n",
        "    # hatch misclassified areas\n",
        "    plt.fill_between(x[:len(x) // 2], gaussian(x[:len(x) // 2], mu=1.0, std=2.0), color=\"#d52221\", facecolor=\"none\", alpha=0.7, hatch=\"///\")\n",
        "    plt.fill_between(x[len(x) // 2:], gaussian(x[len(x) // 2:], mu=-1.0, std=1.5), color=\"#2b7cba\", facecolor=\"none\", alpha=0.7, hatch=\"///\")\n",
        "    # bounds\n",
        "    plt.ylim(0)\n",
        "    plt.xlim(-7.74, 8.26)\n",
        "    plt.axvline(0.26, color='grey', linewidth=1.0)\n",
        "    # labels\n",
        "    plt.text(-6.7, 0.125, \"$p_1(x)$\", color=\"#2b7cba\")\n",
        "    plt.text(3.4, 0.125, \"$p_2(x)$\", color=\"#d52221\")\n",
        "    # clean axes\n",
        "    plt.xticks([])\n",
        "    plt.yticks([])\n",
        "    plt.gca().spines['left'].set_visible(False)\n",
        "    plt.gca().spines['bottom'].set_visible(False)\n",
        "    # legend\n",
        "    legend_elements = [mpl.patches.Patch(facecolor='none', edgecolor='gray', hatch='///',\n",
        "                         label='misclassified')]\n",
        "    plt.legend(handles=legend_elements, handleheight=0.8, loc=(0.10, -0.18))\n",
        "    plt.savefig(\"svg/fig1_panel_a.svg\", bbox_inches=\"tight\")\n",
        "    plt.show()"
      ],
      "metadata": {
        "colab": {
          "base_uri": "https://localhost:8080/",
          "height": 146
        },
        "id": "RN0g70TDrDHr",
        "outputId": "b6a6970d-5dd4-4234-de47-7a76a77758a2"
      },
      "execution_count": null,
      "outputs": [
        {
          "output_type": "display_data",
          "data": {
            "text/plain": [
              "<Figure size 140x120 with 1 Axes>"
            ],
            "image/png": "[encoded data removed]"
          },
          "metadata": {}
        }
      ]
    },
    {
      "cell_type": "markdown",
      "source": [
        "## Classifier problem and training depiction\n",
        "\n",
        "We plot samples from a multivariate Gaussian and a mixture of Gaussians to depict the training task of the classifier."
      ],
      "metadata": {
        "id": "iHhOGKRKJBhH"
      }
    },
    {
      "cell_type": "code",
      "source": [
        "# generate samples from mixture to compute single-gaussian approximation\n",
        "n_samples = 5000\n",
        "toy = toy_mog_2d()\n",
        "samples_mog = toy.sample((n_samples,))\n",
        "samples_np = samples_mog.numpy()\n",
        "samples_normal_approx = Normal(samples_mog.mean(dim=0), samples_mog.std(dim=0)).sample((n_samples,)).numpy()\n",
        "\n",
        "# subselect samples to plot and prepare plot params\n",
        "n_plot = 10\n",
        "samples_to_plot = samples_np[0:10,:]\n",
        "\n",
        "al=0.4\n",
        "ms=6\n",
        "mec='k'\n",
        "\n",
        "densities = [samples_np, samples_normal_approx]\n",
        "samples_plot = [samples_np[:20], samples_normal_approx[:20]]\n",
        "titles = [r'$p_{true}(x)$', r'$p_{1}(x)$']\n",
        "cmaps = ['Blues', 'Reds']"
      ],
      "metadata": {
        "id": "1vCSJcDk3dcP"
      },
      "execution_count": null,
      "outputs": []
    },
    {
      "cell_type": "code",
      "source": [
        "# plot densities and samples\n",
        "with mpl.rc_context(fname=\"matplotlibrc\"):\n",
        "    fig, axs = plt.subplots(ncols=1, nrows=2, figsize=(0.8, 1.8))\n",
        "    for i_a, ax in enumerate(axs):\n",
        "        density, samples, cmap, title = densities[i_a], samples_plot[i_a], cmaps[i_a], titles[i_a]\n",
        "        sns.kdeplot(x=density[:,0], y=density[:,1], fill=True, thresh=0.05, levels=10, cmap=cmap, ax=ax, alpha=al)\n",
        "        ax.plot(samples[:, 0], samples[:, 1], 'w.', ms=ms, mec=mec, alpha=0.8)\n",
        "        ax.set_xticks([]); ax.set_yticks([])\n",
        "        # ttl = ax.set_title(title, fontsize=12);\n",
        "        ax.set_xlim([-7,4]); ax.set_ylim([-6,4])\n",
        "\n",
        "    for i in range(2):\n",
        "        axs[i].set_ylabel('dim2')\n",
        "    axs[1].set_xlabel('dim1')\n",
        "\n",
        "    fig.tight_layout(pad=4.0, w_pad=1)\n",
        "    plt.savefig(\"svg/fig1_panel_b1.svg\", bbox_inches=\"tight\")\n",
        "    plt.show()"
      ],
      "metadata": {
        "colab": {
          "base_uri": "https://localhost:8080/",
          "height": 246
        },
        "id": "5wg7XbqU3iHi",
        "outputId": "4c1cac7f-3f5a-4cfe-afe9-12c1836783ed"
      },
      "execution_count": null,
      "outputs": [
        {
          "output_type": "stream",
          "name": "stderr",
          "text": [
            "<ipython-input-9-06f4992e5502>:15: UserWarning: Tight layout not applied. The left and right margins cannot be made large enough to accommodate all axes decorations.\n",
            "  fig.tight_layout(pad=4.0, w_pad=1)\n"
          ]
        },
        {
          "output_type": "display_data",
          "data": {
            "text/plain": [
              "<Figure size 80x180 with 2 Axes>"
            ],
            "image/png": "[encoded data removed]"
          },
          "metadata": {}
        }
      ]
    },
    {
      "cell_type": "code",
      "source": [
        "# plot densities again in small as target classes\n",
        "with mpl.rc_context(fname=\"matplotlibrc\"):\n",
        "    for i in range(2):\n",
        "        fig, ax = plt.subplots(ncols=1, nrows=1, figsize=(0.3, 0.3))\n",
        "        density, cmap = densities[i], cmaps[i]\n",
        "        sns.kdeplot(x=density[:,0], y=density[:,1], fill=True, thresh=0.05, levels=10, cmap=cmap, ax=ax, alpha=1.0)\n",
        "        ax.set_xticks([]); ax.set_yticks([])\n",
        "        ax.set_xlim([-7,4]); ax.set_ylim([-6,4])\n",
        "        _ = ax.spines[\"left\"].set_visible(False)\n",
        "        _ = ax.spines[\"bottom\"].set_visible(False)\n",
        "\n",
        "        plt.savefig(f\"svg/fig1_panel_b2_{i}.svg\", bbox_inches=\"tight\", transparent=True)\n",
        "        plt.show()"
      ],
      "metadata": {
        "colab": {
          "base_uri": "https://localhost:8080/",
          "height": 103
        },
        "id": "PF7ela0w9gU1",
        "outputId": "2977120e-56da-4301-dab0-3ea0575f07e0"
      },
      "execution_count": null,
      "outputs": [
        {
          "output_type": "display_data",
          "data": {
            "text/plain": [
              "<Figure size 30x30 with 1 Axes>"
            ],
            "image/png": "[encoded data removed]"
          },
          "metadata": {}
        },
        {
          "output_type": "display_data",
          "data": {
            "text/plain": [
              "<Figure size 30x30 with 1 Axes>"
            ],
            "image/png": "[encoded data removed]"
          },
          "metadata": {}
        }
      ]
    },
    {
      "cell_type": "markdown",
      "source": [
        "## Intuition on C2ST score interpretation\n",
        "\n",
        "### C2ST = 0.5\n",
        "\n",
        "C2ST = 0.5 when the distributions are not distinguishable by the classifier."
      ],
      "metadata": {
        "id": "s_oAeWI3Js6T"
      }
    },
    {
      "cell_type": "code",
      "source": [
        "np.random.seed(0)\n",
        "from scipy.stats import multivariate_normal\n",
        "rv1 = multivariate_normal([0.0, 0.0], [[0.6, 0.3], [0.3, 1.0]])\n",
        "rv2 = multivariate_normal([0.0, 0.0], [[0.57, 0.285], [0.285, 0.95]])\n",
        "x, y = np.meshgrid(\n",
        "    np.linspace(-3.5, 3.5, 1000),\n",
        "    np.linspace(-3.5, 3.5, 1000),\n",
        ")\n",
        "pos = np.dstack((x, y))\n",
        "with mpl.rc_context(fname=\"matplotlibrc\"):\n",
        "    fig = plt.figure(figsize=(1.6, 1.6))\n",
        "    plt.contour(x, y, rv1.pdf(pos), colors='#2b7cba', linewidths=0.5)\n",
        "    plt.contour(x, y, rv2.pdf(pos), colors='#d52221', linewidths=0.5)\n",
        "    plt.scatter(*rv1.rvs(size=25).T, color='#2b7cba', s=1.0)\n",
        "    plt.scatter(*rv2.rvs(size=25).T, color='#d52221', s=1.0)\n",
        "    plt.xticks([])\n",
        "    plt.yticks([])\n",
        "    plt.gca().spines['left'].set_visible(False)\n",
        "    plt.gca().spines['bottom'].set_visible(False)\n",
        "    plt.text(0.0, 2.8, \"C2ST = 0.5\", ha='center', va='center')\n",
        "    plt.savefig(\"svg/fig1_panel_c1.svg\", bbox_inches=\"tight\", transparent=True)\n",
        "    plt.show()"
      ],
      "metadata": {
        "colab": {
          "base_uri": "https://localhost:8080/",
          "height": 160
        },
        "id": "I7THB5Bj3z69",
        "outputId": "53c995cc-2165-414d-edc5-bba5cbc79197"
      },
      "execution_count": null,
      "outputs": [
        {
          "output_type": "display_data",
          "data": {
            "text/plain": [
              "<Figure size 160x160 with 1 Axes>"
            ],
            "image/png": "[encoded data removed]"
          },
          "metadata": {}
        }
      ]
    },
    {
      "cell_type": "markdown",
      "source": [
        "### C2ST = 0.7\n",
        "\n",
        "C2ST is around 0.7 or 0.8 when the distributions are distinguishable but still overlapping."
      ],
      "metadata": {
        "id": "KYCgsPfSKDEi"
      }
    },
    {
      "cell_type": "code",
      "source": [
        "np.random.seed(0)\n",
        "rv1 = multivariate_normal([-0.5, 0.1], [[0.6, 0.3], [0.3, 1.0]])\n",
        "rv2 = multivariate_normal([0.5, -0.1], [[0.55, 0.15], [0.15, 0.95]])\n",
        "x, y = np.meshgrid(\n",
        "    np.linspace(-3.5, 3.5, 1000),\n",
        "    np.linspace(-3.5, 3.5, 1000),\n",
        ")\n",
        "pos = np.dstack((x, y))\n",
        "with mpl.rc_context(fname=\"matplotlibrc\"):\n",
        "    fig = plt.figure(figsize=(1.6, 1.6))\n",
        "    plt.contour(x, y, rv1.pdf(pos), colors='#2b7cba', linewidths=0.5)\n",
        "    plt.contour(x, y, rv2.pdf(pos), colors='#d52221', linewidths=0.5)\n",
        "    plt.scatter(*rv1.rvs(size=25).T, color='#2b7cba', s=1.0)\n",
        "    plt.scatter(*rv2.rvs(size=25).T, color='#d52221', s=1.0)\n",
        "    plt.xticks([])\n",
        "    plt.yticks([])\n",
        "    plt.gca().spines['left'].set_visible(False)\n",
        "    plt.gca().spines['bottom'].set_visible(False)\n",
        "    plt.text(0.0, 2.8, \"C2ST = 0.7\", ha='center', va='center')\n",
        "    plt.savefig(\"svg/fig1_panel_c2.svg\", bbox_inches=\"tight\", transparent=True)\n",
        "    plt.show()"
      ],
      "metadata": {
        "id": "Zz0BfSyi9jPq",
        "colab": {
          "base_uri": "https://localhost:8080/",
          "height": 160
        },
        "outputId": "dba96e86-b8fa-4428-c1aa-8420bd145de9"
      },
      "execution_count": null,
      "outputs": [
        {
          "output_type": "display_data",
          "data": {
            "text/plain": [
              "<Figure size 160x160 with 1 Axes>"
            ],
            "image/png": "[encoded data removed]"
          },
          "metadata": {}
        }
      ]
    },
    {
      "cell_type": "markdown",
      "source": [
        "### C2ST = 1.0\n",
        "\n",
        "C2ST is 1.0 when the two distributions are completely non-overlapping and the classifier can classify every sample correctly."
      ],
      "metadata": {
        "id": "eSoq2UB6KNPB"
      }
    },
    {
      "cell_type": "code",
      "source": [
        "np.random.seed(1)\n",
        "rv1 = multivariate_normal([-1.5, 0.3], [[0.5, 0.2], [0.2, 1.0]])\n",
        "rv2 = multivariate_normal([1.5, -0.3], [[0.5, 0.05], [0.05, 1.0]])\n",
        "x, y = np.meshgrid(\n",
        "    np.linspace(-3.5, 3.5, 1000),\n",
        "    np.linspace(-3.5, 3.5, 1000),\n",
        ")\n",
        "pos = np.dstack((x, y))\n",
        "with mpl.rc_context(fname=\"matplotlibrc\"):\n",
        "    fig = plt.figure(figsize=(1.6, 1.6))\n",
        "    plt.contour(x, y, rv1.pdf(pos), colors='#2b7cba', linewidths=0.5)\n",
        "    plt.contour(x, y, rv2.pdf(pos), colors='#d52221', linewidths=0.5)\n",
        "    plt.scatter(*rv1.rvs(size=25).T, color='#2b7cba', s=1.0)\n",
        "    plt.scatter(*rv2.rvs(size=25).T, color='#d52221', s=1.0)\n",
        "    plt.xticks([])\n",
        "    plt.yticks([])\n",
        "    plt.gca().spines['left'].set_visible(False)\n",
        "    plt.gca().spines['bottom'].set_visible(False)\n",
        "    plt.text(0.0, 2.8, \"C2ST = 1.0\", ha='center', va='center')\n",
        "    plt.savefig(\"svg/fig1_panel_c3.svg\", bbox_inches=\"tight\", transparent=True)\n",
        "    plt.show()"
      ],
      "metadata": {
        "colab": {
          "base_uri": "https://localhost:8080/",
          "height": 160
        },
        "id": "QPqZNHiqsUvO",
        "outputId": "0be24fd1-cfd7-4a85-e5b3-1697ab8f00b2"
      },
      "execution_count": null,
      "outputs": [
        {
          "output_type": "display_data",
          "data": {
            "text/plain": [
              "<Figure size 160x160 with 1 Axes>"
            ],
            "image/png": "[encoded data removed]"
          },
          "metadata": {}
        }
      ]
    },
    {
      "cell_type": "markdown",
      "source": [
        "## Construct figure with svgutils"
      ],
      "metadata": {
        "id": "msndPseMKXo7"
      }
    },
    {
      "cell_type": "code",
      "source": [
        "import time\n",
        "from svgutils.compose import *\n",
        "import IPython.display as IPd\n",
        "\n",
        "def svg(img):\n",
        "    IPd.display(IPd.HTML('<img src=\"{}\" / >'.format(img, time.time())))\n",
        "\n",
        "svg_scale = 1.25  # set this to 1.25 for Inkscape, 1.0 otherwise\n",
        "\n",
        "# Panel letters in Helvetica Neue, 12pt, Medium\n",
        "kwargs_caption = {'size': '10pt', 'font': 'Arial', 'weight': '800'}\n",
        "kwargs_text = {'size': '7.75pt', 'font': 'Arial'}\n",
        "\n",
        "f = Figure(\n",
        "    \"16.6cm\",\n",
        "    \"4.2cm\",\n",
        "    Panel(SVG(\"svg/fig1_panel_a.svg\").scale(svg_scale).move(5, 15), Text(\"a\", 0, 25.0, **kwargs_caption).move(10, -10)),\n",
        "    Panel(SVG(\"svg/fig1_panel_b1.svg\").scale(svg_scale).move(10, 5), Text(\"b\", 0, 25.0, **kwargs_caption)).move(130, -10),\n",
        "    Panel(SVG(\"svg/fig1_illustration.svg\").scale(1.5).move(10, 5)).move(220, 20),\n",
        "    Panel(Text(\"?\", 0, 25.0, **kwargs_text)).move(338, 49),\n",
        "    Panel(SVG(\"svg/fig1_panel_b2_0.svg\")).move(315, 49),\n",
        "    Panel(SVG(\"svg/fig1_panel_b2_1.svg\")).move(315, 61),\n",
        "    Panel(SVG(\"svg/fig1_panel_c1.svg\").scale(svg_scale).move(10, 15), Text(\"c\", 20, 25.0, **kwargs_caption).move(10, -10)).move(320, 0),\n",
        "    Panel(SVG(\"svg/fig1_panel_c2.svg\").scale(svg_scale).move(10, 15)).move(405, 0),\n",
        "    Panel(SVG(\"svg/fig1_panel_c3.svg\").scale(svg_scale).move(10, 15)).move(500, 0),\n",
        ")\n",
        "\n",
        "f.save(\"fig/fig1.svg\")\n",
        "svg(\"fig/fig1.svg\")"
      ],
      "metadata": {
        "colab": {
          "resources": {
            "http://localhost:8080/fig/fig1.svg": {
              "data": "CjwhRE9DVFlQRSBodG1sPgo8aHRtbCBsYW5nPWVuPgogIDxtZXRhIGNoYXJzZXQ9dXRmLTg+CiAgPG1ldGEgbmFtZT12aWV3cG9ydCBjb250ZW50PSJpbml0aWFsLXNjYWxlPTEsIG1pbmltdW0tc2NhbGU9MSwgd2lkdGg9ZGV2aWNlLXdpZHRoIj4KICA8dGl0bGU+RXJyb3IgNDA0IChOb3QgRm91bmQpISExPC90aXRsZT4KICA8c3R5bGU+CiAgICAqe21hcmdpbjowO3BhZGRpbmc6MH1odG1sLGNvZGV7Zm9udDoxNXB4LzIycHggYXJpYWwsc2Fucy1zZXJpZn1odG1se2JhY2tncm91bmQ6I2ZmZjtjb2xvcjojMjIyO3BhZGRpbmc6MTVweH1ib2R5e21hcmdpbjo3JSBhdXRvIDA7bWF4LXdpZHRoOjM5MHB4O21pbi1oZWlnaHQ6MTgwcHg7cGFkZGluZzozMHB4IDAgMTVweH0qID4gYm9keXtiYWNrZ3JvdW5kOnVybCgvL3d3dy5nb29nbGUuY29tL2ltYWdlcy9lcnJvcnMvcm9ib3QucG5nKSAxMDAlIDVweCBuby1yZXBlYXQ7cGFkZGluZy1yaWdodDoyMDVweH1we21hcmdpbjoxMXB4IDAgMjJweDtvdmVyZmxvdzpoaWRkZW59aW5ze2NvbG9yOiM3Nzc7dGV4dC1kZWNvcmF0aW9uOm5vbmV9YSBpbWd7Ym9yZGVyOjB9QG1lZGlhIHNjcmVlbiBhbmQgKG1heC13aWR0aDo3NzJweCl7Ym9keXtiYWNrZ3JvdW5kOm5vbmU7bWFyZ2luLXRvcDowO21heC13aWR0aDpub25lO3BhZGRpbmctcmlnaHQ6MH19I2xvZ297YmFja2dyb3VuZDp1cmwoLy93d3cuZ29vZ2xlLmNvbS9pbWFnZXMvbG9nb3MvZXJyb3JwYWdlL2Vycm9yX2xvZ28tMTUweDU0LnBuZykgbm8tcmVwZWF0O21hcmdpbi1sZWZ0Oi01cHh9QG1lZGlhIG9ubHkgc2NyZWVuIGFuZCAobWluLXJlc29sdXRpb246MTkyZHBpKXsjbG9nb3tiYWNrZ3JvdW5kOnVybCgvL3d3dy5nb29nbGUuY29tL2ltYWdlcy9sb2dvcy9lcnJvcnBhZ2UvZXJyb3JfbG9nby0xNTB4NTQtMngucG5nKSBuby1yZXBlYXQgMCUgMCUvMTAwJSAxMDAlOy1tb3otYm9yZGVyLWltYWdlOnVybCgvL3d3dy5nb29nbGUuY29tL2ltYWdlcy9sb2dvcy9lcnJvcnBhZ2UvZXJyb3JfbG9nby0xNTB4NTQtMngucG5nKSAwfX1AbWVkaWEgb25seSBzY3JlZW4gYW5kICgtd2Via2l0LW1pbi1kZXZpY2UtcGl4ZWwtcmF0aW86Mil7I2xvZ297YmFja2dyb3VuZDp1cmwoLy93d3cuZ29vZ2xlLmNvbS9pbWFnZXMvbG9nb3MvZXJyb3JwYWdlL2Vycm9yX2xvZ28tMTUweDU0LTJ4LnBuZykgbm8tcmVwZWF0Oy13ZWJraXQtYmFja2dyb3VuZC1zaXplOjEwMCUgMTAwJX19I2xvZ297ZGlzcGxheTppbmxpbmUtYmxvY2s7aGVpZ2h0OjU0cHg7d2lkdGg6MTUwcHh9CiAgPC9zdHlsZT4KICA8YSBocmVmPS8vd3d3Lmdvb2dsZS5jb20vPjxzcGFuIGlkPWxvZ28gYXJpYS1sYWJlbD1Hb29nbGU+PC9zcGFuPjwvYT4KICA8cD48Yj40MDQuPC9iPiA8aW5zPlRoYXTigJlzIGFuIGVycm9yLjwvaW5zPgogIDxwPiAgPGlucz5UaGF04oCZcyBhbGwgd2Uga25vdy48L2lucz4K",
              "ok": false,
              "headers": [
                [
                  "content-length",
                  "1449"
                ],
                [
                  "content-type",
                  "text/html; charset=utf-8"
                ]
              ],
              "status": 404,
              "status_text": ""
            }
          },
          "base_uri": "https://localhost:8080/",
          "height": 37
        },
        "id": "qyUBQm0hsbza",
        "outputId": "9cd377f5-9d8a-4f0f-affc-616b15817939"
      },
      "execution_count": null,
      "outputs": [
        {
          "output_type": "display_data",
          "data": {
            "text/plain": [
              "<IPython.core.display.HTML object>"
            ],
            "text/html": [
              "<img src=\"fig/fig1.svg\" / >"
            ]
          },
          "metadata": {}
        }
      ]
    },
    {
      "cell_type": "code",
      "source": [],
      "metadata": {
        "id": "S2mgqStGtPJZ"
      },
      "execution_count": null,
      "outputs": []
    }
  ]
}