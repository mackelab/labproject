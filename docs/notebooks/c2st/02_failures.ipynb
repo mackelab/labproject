{
 "cells": [
  {
   "cell_type": "code",
   "execution_count": 1,
   "id": "39c4d6b8-9316-4eba-a648-3095ed4b5d22",
   "metadata": {},
   "outputs": [],
   "source": [
    "import torch\n",
    "from torch import ones, zeros, float32, as_tensor, tensor, eye, sum, Tensor, manual_seed\n",
    "from torch.distributions import MultivariateNormal, Normal\n",
    "from typing import Any\n",
    "import matplotlib as mpl\n",
    "import seaborn as sns\n",
    "import numpy as np\n",
    "from sklearn.neural_network import MLPClassifier\n",
    "\n",
    "import time\n",
    "import IPython.display as IPd\n",
    "from svgutils.compose import *\n",
    "\n",
    "from sklearn.datasets import fetch_openml\n",
    "from sklearn.model_selection import train_test_split\n",
    "from sklearn.mixture import GaussianMixture\n",
    "import numpy as np\n",
    "import matplotlib.pyplot as plt\n",
    "import pickle"
   ]
  },
  {
   "cell_type": "code",
   "execution_count": 3,
   "id": "a215b377-4ddb-4f7f-a6fa-2e2ea93ef155",
   "metadata": {},
   "outputs": [],
   "source": [
    "from labproject.metrics.c2st import c2st_optimal, c2st_nn, c2st_knn, c2st_rf, c2st_scores\n",
    "from labproject.data import toy_mog_2d"
   ]
  },
  {
   "cell_type": "markdown",
   "id": "f3f6191a-b33e-4536-b511-310304c7708e",
   "metadata": {},
   "source": [
    "# Visualize data and fit"
   ]
  },
  {
   "cell_type": "code",
   "execution_count": 4,
   "id": "f79753b9-4d8b-4118-aa62-b74704e03745",
   "metadata": {},
   "outputs": [],
   "source": [
    "_ = torch.manual_seed(0)\n",
    "_ = np.random.seed(0)"
   ]
  },
  {
   "cell_type": "code",
   "execution_count": 5,
   "id": "ff550e7b-23a3-429b-b68a-7d4c0d3aeb69",
   "metadata": {},
   "outputs": [],
   "source": [
    "data = toy_mog_2d()\n",
    "data_samples = data.sample((10_000,))"
   ]
  },
  {
   "cell_type": "code",
   "execution_count": 6,
   "id": "243aa674-446d-4fb0-80eb-012024c472a7",
   "metadata": {},
   "outputs": [],
   "source": [
    "mean = torch.mean(data_samples, dim=0)\n",
    "cov = torch.cov(data_samples.T)\n",
    "gen_model = MultivariateNormal(mean, cov)"
   ]
  },
  {
   "cell_type": "code",
   "execution_count": 7,
   "id": "f66a5f10-e716-4fcd-a683-3836b7fb5b52",
   "metadata": {},
   "outputs": [
    {
     "data": {
      "image/png": "[encoded data removed]",
      "text/plain": [
       "<Figure size 90x215 with 2 Axes>"
      ]
     },
     "metadata": {},
     "output_type": "display_data"
    }
   ],
   "source": [
    "_ = torch.manual_seed(0)\n",
    "\n",
    "with mpl.rc_context(fname=\"../../../matplotlibrc\"):\n",
    "    n_samples = 10000\n",
    "    samples_mog = data_samples\n",
    "    samples_np = samples_mog.numpy()\n",
    "    samples_normal_approx = gen_model.sample((100_000,)).numpy()\n",
    "    \n",
    "    n_plot = 10\n",
    "    samples_to_plot = samples_np[0:10,:]\n",
    "    \n",
    "    al=0.8\n",
    "    ms=8\n",
    "    mec='k'\n",
    "    \n",
    "    densities = [samples_np, samples_normal_approx]\n",
    "    cmaps = ['Blues', 'BuGn']\n",
    "    \n",
    "    fig, axs = plt.subplots(2, 1, figsize=(0.9, 2.15))\n",
    "    for i_a, ax in enumerate(axs):\n",
    "        density, cmap = densities[i_a], cmaps[i_a]\n",
    "        sns.kdeplot(x=density[:,0], y=density[:,1], fill=True, thresh=0.05, levels=10, cmap=cmap, ax=ax, alpha=al)\n",
    "        ax.set_xticks([]); ax.set_yticks([])\n",
    "\n",
    "        ax.set_xlim([-7,4]); ax.set_ylim([-6,4])\n",
    "\n",
    "    axs[1].set_xlabel('dim1')\n",
    "    axs[0].set_ylabel('dim2')\n",
    "    axs[1].set_ylabel('dim2')\n",
    "\n",
    "    plt.subplots_adjust(hspace=0.3)\n",
    "\n",
    "    plt.savefig(\"svg/fig2_illustration.svg\", bbox_inches=\"tight\", transparent=True)\n",
    "    plt.show()"
   ]
  },
  {
   "cell_type": "markdown",
   "id": "52f43874-52df-4ce4-9579-ef66a68fb546",
   "metadata": {},
   "source": [
    "# Failure modes of c2st"
   ]
  },
  {
   "cell_type": "markdown",
   "id": "6d4745a2-51ae-428d-a0a0-4cc746bc51db",
   "metadata": {},
   "source": [
    "### Too few samples"
   ]
  },
  {
   "cell_type": "code",
   "execution_count": 8,
   "id": "813f4fdb-e500-49f7-97b9-340937e15336",
   "metadata": {},
   "outputs": [],
   "source": [
    "c2st_gt = c2st_optimal(data, gen_model)"
   ]
  },
  {
   "cell_type": "code",
   "execution_count": 9,
   "id": "742ca764-e77d-494c-a5cc-052e3c3b9c9d",
   "metadata": {},
   "outputs": [],
   "source": [
    "budgets = [10, 100, 1000, 10_000]"
   ]
  },
  {
   "cell_type": "code",
   "execution_count": 10,
   "id": "507fde3e-dc26-4c24-9c01-c4e364dccab2",
   "metadata": {},
   "outputs": [],
   "source": [
    "estimates = []\n",
    "for budget in budgets:\n",
    "    _ = torch.manual_seed(0)\n",
    "    estimates.append(c2st_nn(data.sample((budget,)), gen_model.sample((budget,)), seed=0).item())"
   ]
  },
  {
   "cell_type": "code",
   "execution_count": 11,
   "id": "4035cc12-7753-4760-8a67-4451d50b5602",
   "metadata": {},
   "outputs": [
    {
     "data": {
      "image/png": "[encoded data removed]",
      "text/plain": [
       "<Figure size 160x70 with 1 Axes>"
      ]
     },
     "metadata": {},
     "output_type": "display_data"
    }
   ],
   "source": [
    "good_vals = [c2st_gt for _ in range(len(budgets))]\n",
    "\n",
    "with mpl.rc_context(fname=\"../../../matplotlibrc\"):\n",
    "    fig, ax = plt.subplots(1, 1, figsize=(1.6, 0.7))\n",
    "    _ = ax.axhline(c2st_gt, color=\"gray\", alpha=0.6)\n",
    "    _ = ax.plot(budgets, estimates, c=\"#458588\")\n",
    "    _ = ax.scatter(budgets, estimates, c=\"#458588\", s=15.0)\n",
    "    _ = ax.fill_between(budgets, good_vals, estimates, color=\"#458588\", alpha=0.1)\n",
    "    _ = ax.set_ylim([0.5, 1.0])\n",
    "    _ = ax.set_xlim([10, 12200])\n",
    "    _ = ax.legend([\"Ground truth\", \"Neural net\"], handlelength=0.7, handletextpad=0.4, labelspacing=0.1, loc=\"upper right\", bbox_to_anchor=[1.1, 1.2, 0.0, 0.0])\n",
    "    _ = ax.set_ylabel(\"C2ST\", labelpad=-5)\n",
    "    _ = ax.set_xscale(\"log\")\n",
    "    _ = ax.set_xticks(budgets)\n",
    "    _ = ax.set_xticklabels([r\"$10^1$\", \"\", \"\", r\"$10^4$\"])\n",
    "    _ = ax.set_yticks([0.5, 1.0])\n",
    "    _ = ax.set_xlabel(\"#samples\", labelpad=-8.0)\n",
    "\n",
    "    locmin = mpl.ticker.LogLocator(base=10.0,subs=np.arange(0, 1.0, 0.1),numticks=12)\n",
    "    ax.xaxis.set_minor_locator(locmin)\n",
    "    ax.xaxis.set_minor_formatter(mpl.ticker.NullFormatter())\n",
    "\n",
    "    plt.savefig(\"svg/fig2_panel_a.svg\", bbox_inches=\"tight\", transparent=True)\n",
    "    plt.show()"
   ]
  },
  {
   "cell_type": "markdown",
   "id": "c08cd877-0baf-4c94-9336-0fc37afae320",
   "metadata": {},
   "source": [
    "### A too poor classifier"
   ]
  },
  {
   "cell_type": "code",
   "execution_count": 12,
   "id": "22aa6528-e5f9-4b4c-a0de-261542c7c60a",
   "metadata": {},
   "outputs": [],
   "source": [
    "def poor_c2st(\n",
    "    X: Tensor,\n",
    "    Y: Tensor,\n",
    "    seed: int = 1,\n",
    "    n_folds: int = 5,\n",
    "    metric: str = \"accuracy\",\n",
    "    hidden_size: int = 5,\n",
    "    clf_kwargs: dict[str, Any] = {}\n",
    "):\n",
    "    clf_class = MLPClassifier\n",
    "    ndim = X.shape[-1]\n",
    "    defaults = {\n",
    "        \"activation\": \"relu\",\n",
    "        \"hidden_layer_sizes\": (hidden_size * ndim),\n",
    "        \"max_iter\": 1000,\n",
    "        \"solver\": \"adam\",\n",
    "        \"early_stopping\": True,\n",
    "        \"n_iter_no_change\": 50,\n",
    "    }\n",
    "    defaults.update(clf_kwargs)\n",
    "    \n",
    "    scores_ = c2st_scores(\n",
    "        X,\n",
    "        Y,\n",
    "        seed=seed,\n",
    "        n_folds=n_folds,\n",
    "        metric=metric,\n",
    "        z_score=True,\n",
    "        noise_scale=None,\n",
    "        verbosity=0,\n",
    "        clf_class=clf_class,\n",
    "        clf_kwargs=defaults,\n",
    "    )\n",
    "    \n",
    "    scores = np.mean(scores_).astype(np.float32)\n",
    "    value = torch.from_numpy(np.atleast_1d(scores))\n",
    "    return value"
   ]
  },
  {
   "cell_type": "code",
   "execution_count": 13,
   "id": "6e6dbc38-46a0-46e8-b9c7-433a7cf1a8c0",
   "metadata": {},
   "outputs": [],
   "source": [
    "budget = 10_000\n",
    "\n",
    "hidden_sizes = [1, 2, 4, 8, 16]\n",
    "poors = []\n",
    "for hidden_size in hidden_sizes:\n",
    "    _ = torch.manual_seed(1)\n",
    "    poors.append(poor_c2st(data.sample((budget,)), gen_model.sample((budget,)), hidden_size=hidden_size, seed=1).item())"
   ]
  },
  {
   "cell_type": "code",
   "execution_count": 14,
   "id": "39910e45-fcc9-46f1-88d4-13f58d193a9a",
   "metadata": {},
   "outputs": [
    {
     "data": {
      "image/png": "[encoded data removed]",
      "text/plain": [
       "<Figure size 160x70 with 1 Axes>"
      ]
     },
     "metadata": {},
     "output_type": "display_data"
    }
   ],
   "source": [
    "good_vals = [c2st_gt for _ in range(len(hidden_sizes))]\n",
    "\n",
    "with mpl.rc_context(fname=\"../../../matplotlibrc\"):\n",
    "    fig, ax = plt.subplots(1, 1, figsize=(1.6, 0.7))\n",
    "    _ = ax.axhline(c2st_gt, color=\"gray\", alpha=0.6)\n",
    "    _ = ax.plot(hidden_sizes, poors, c=\"#458588\")\n",
    "    _ = ax.scatter(hidden_sizes, poors, c=\"#458588\", s=15.0)\n",
    "    _ = ax.fill_between(hidden_sizes, good_vals, poors, color=\"#458588\", alpha=0.1)\n",
    "    _ = ax.set_ylim([0.5, 1.0])\n",
    "    _ = ax.set_ylabel(\"C2ST\", labelpad=-5)\n",
    "    _ = ax.set_xscale(\"log\")\n",
    "\n",
    "    _ = ax.set_xticks([1, 2, 4, 8, 16])\n",
    "    _ = ax.set_xticklabels([\"1\", \"2\", \"4\", \"8\", \"16\"])\n",
    "    _ = ax.minorticks_off()\n",
    "    _ = ax.set_xlim([1, 17.4])\n",
    "    _ = ax.set_yticks([0.5, 1.0])\n",
    "    _ = ax.set_xlabel(\"Hidden layer size\", labelpad=7.4)\n",
    "    plt.savefig(\"svg/fig2_panel_b.svg\", bbox_inches=\"tight\", transparent=True)\n",
    "    plt.show()"
   ]
  },
  {
   "cell_type": "markdown",
   "id": "5e7594ab-d765-4f86-b114-6382b442ac56",
   "metadata": {},
   "source": [
    "### High-D Gaussian behavior"
   ]
  },
  {
   "cell_type": "code",
   "execution_count": 15,
   "id": "b6f297c6-2857-47d2-b6c9-a014d0430939",
   "metadata": {},
   "outputs": [
    {
     "data": {
      "image/png": "[encoded data removed]",
      "text/plain": [
       "<Figure size 120x70 with 1 Axes>"
      ]
     },
     "metadata": {},
     "output_type": "display_data"
    }
   ],
   "source": [
    "with mpl.rc_context(fname=\"../../../matplotlibrc\"):\n",
    "    fig, ax = plt.subplots(1, 1, figsize=(1.2, 0.7))\n",
    "    x = np.linspace(-3, 3, 100)\n",
    "    gaussian = lambda x, mu=0.0: np.exp(-0.5 * (x - mu) ** 2) / np.sqrt(2 * np.pi)\n",
    "    _ = ax.plot(x, gaussian(x), label=r'$\\mathcal{N}(0, 1)$', c=\"k\")\n",
    "    _ = ax.plot(x, gaussian(x, 0.25), label='$\\mathcal{N}(0.25, 1)$', c=\"gray\")\n",
    "    _ = ax.set_xlabel(r\"$x_i$\", labelpad=-5)\n",
    "    _ = ax.set_ylabel(r\"$p(x_i)$\", labelpad=-5)\n",
    "    _ = ax.set_ylim([0, 0.5])\n",
    "    _ = ax.set_yticks([0, 0.5])\n",
    "    _ = ax.set_xlim([-3, 3])\n",
    "    _ = ax.set_xticks([-3, 3])\n",
    "    plt.savefig(\"svg/fig2_panel_c1.svg\", bbox_inches=\"tight\", transparent=True)\n",
    "    plt.show()"
   ]
  },
  {
   "cell_type": "code",
   "execution_count": 16,
   "id": "14b9348b-9da4-48b1-bbb7-43d49d452d84",
   "metadata": {},
   "outputs": [
    {
     "name": "stdout",
     "output_type": "stream",
     "text": [
      "1 Tue Feb  6 17:05:47 2024\n",
      "2 Tue Feb  6 17:05:47 2024\n",
      "4 Tue Feb  6 17:05:47 2024\n",
      "8 Tue Feb  6 17:05:47 2024\n",
      "16 Tue Feb  6 17:05:47 2024\n",
      "32 Tue Feb  6 17:05:47 2024\n",
      "64 Tue Feb  6 17:05:47 2024\n",
      "128 Tue Feb  6 17:05:47 2024\n"
     ]
    }
   ],
   "source": [
    "import pandas as pd\n",
    "\n",
    "df = []\n",
    "for dim in [1, 2, 4, 8, 16, 32, 64, 128]:\n",
    "    print(dim, time.ctime())\n",
    "    true = MultivariateNormal(0.0 * ones(dim), eye(dim))\n",
    "    model = MultivariateNormal(0.25 * ones(dim), eye(dim))\n",
    "\n",
    "    c2st_optimal_score = c2st_optimal(true, model, 100_000)\n",
    "    \n",
    "    df.append(dict(\n",
    "        dim=dim,\n",
    "        c2st_optimal_score=c2st_optimal_score.item(),\n",
    "    ))\n",
    "df = pd.DataFrame(df)"
   ]
  },
  {
   "cell_type": "code",
   "execution_count": 17,
   "id": "3e6c9080-63c2-4f57-9b96-4a1d6ca07323",
   "metadata": {},
   "outputs": [
    {
     "data": {
      "image/png": "[encoded data removed]",
      "text/plain": [
       "<Figure size 120x70 with 1 Axes>"
      ]
     },
     "metadata": {},
     "output_type": "display_data"
    }
   ],
   "source": [
    "with mpl.rc_context(fname=\"../../../matplotlibrc\"):\n",
    "    fig, ax = plt.subplots(1, 1, figsize=(1.2, 0.7))\n",
    "    _ = ax.plot(df['dim'], df['c2st_optimal_score'], label='gt', color='k')\n",
    "    _ = ax.scatter(df['dim'], df['c2st_optimal_score'], label='gt', color='k')\n",
    "    \n",
    "    _ = ax.set_xlabel(r\"Dimensionality\")\n",
    "    _ = ax.set_ylabel(\"C2ST\", labelpad=-4)\n",
    "    _ = ax.set_xscale('log')\n",
    "    _ = ax.set_ylim([0.5, 1.0])\n",
    "    _ = ax.set_yticks([0.5, 1.0])\n",
    "    \n",
    "    plt.savefig(\"svg/fig2_panel_c2.svg\", bbox_inches=\"tight\", transparent=True)\n",
    "    plt.show()"
   ]
  },
  {
   "cell_type": "markdown",
   "id": "29aee1c5-fd0c-4153-91db-9dc4505914cd",
   "metadata": {},
   "source": [
    "### MNIST behavior"
   ]
  },
  {
   "cell_type": "code",
   "execution_count": 31,
   "id": "b4090aaa-3067-4e40-90af-0228325dd5ea",
   "metadata": {},
   "outputs": [],
   "source": [
    "mnist = fetch_openml('mnist_784', as_frame=False, cache=False)"
   ]
  },
  {
   "cell_type": "code",
   "execution_count": 32,
   "id": "012c157c-6767-49f3-83ce-9426116043a2",
   "metadata": {},
   "outputs": [],
   "source": [
    "X = mnist.data.astype('float32')\n",
    "X /= 255.0\n",
    "y = mnist.target.astype('int64')"
   ]
  },
  {
   "cell_type": "code",
   "execution_count": 33,
   "id": "ae75703b-4407-41ff-963d-6f348e2a5c3c",
   "metadata": {},
   "outputs": [],
   "source": [
    "mask = (y == 1)\n",
    "X = X[mask]\n",
    "y = y[mask]"
   ]
  },
  {
   "cell_type": "code",
   "execution_count": 34,
   "id": "36faf67d-78b8-4cb9-bab7-c53d5a014c59",
   "metadata": {},
   "outputs": [
    {
     "data": {
      "text/html": [
       "<style>#sk-container-id-2 {\n",
       "  /* Definition of color scheme common for light and dark mode */\n",
       "  --sklearn-color-text: black;\n",
       "  --sklearn-color-line: gray;\n",
       "  /* Definition of color scheme for unfitted estimators */\n",
       "  --sklearn-color-unfitted-level-0: #fff5e6;\n",
       "  --sklearn-color-unfitted-level-1: #f6e4d2;\n",
       "  --sklearn-color-unfitted-level-2: #ffe0b3;\n",
       "  --sklearn-color-unfitted-level-3: chocolate;\n",
       "  /* Definition of color scheme for fitted estimators */\n",
       "  --sklearn-color-fitted-level-0: #f0f8ff;\n",
       "  --sklearn-color-fitted-level-1: #d4ebff;\n",
       "  --sklearn-color-fitted-level-2: #b3dbfd;\n",
       "  --sklearn-color-fitted-level-3: cornflowerblue;\n",
       "\n",
       "  /* Specific color for light theme */\n",
       "  --sklearn-color-text-on-default-background: var(--sg-text-color, var(--theme-code-foreground, var(--jp-content-font-color1, black)));\n",
       "  --sklearn-color-background: var(--sg-background-color, var(--theme-background, var(--jp-layout-color0, white)));\n",
       "  --sklearn-color-border-box: var(--sg-text-color, var(--theme-code-foreground, var(--jp-content-font-color1, black)));\n",
       "  --sklearn-color-icon: #696969;\n",
       "\n",
       "  @media (prefers-color-scheme: dark) {\n",
       "    /* Redefinition of color scheme for dark theme */\n",
       "    --sklearn-color-text-on-default-background: var(--sg-text-color, var(--theme-code-foreground, var(--jp-content-font-color1, white)));\n",
       "    --sklearn-color-background: var(--sg-background-color, var(--theme-background, var(--jp-layout-color0, #111)));\n",
       "    --sklearn-color-border-box: var(--sg-text-color, var(--theme-code-foreground, var(--jp-content-font-color1, white)));\n",
       "    --sklearn-color-icon: #878787;\n",
       "  }\n",
       "}\n",
       "\n",
       "#sk-container-id-2 {\n",
       "  color: var(--sklearn-color-text);\n",
       "}\n",
       "\n",
       "#sk-container-id-2 pre {\n",
       "  padding: 0;\n",
       "}\n",
       "\n",
       "#sk-container-id-2 input.sk-hidden--visually {\n",
       "  border: 0;\n",
       "  clip: rect(1px 1px 1px 1px);\n",
       "  clip: rect(1px, 1px, 1px, 1px);\n",
       "  height: 1px;\n",
       "  margin: -1px;\n",
       "  overflow: hidden;\n",
       "  padding: 0;\n",
       "  position: absolute;\n",
       "  width: 1px;\n",
       "}\n",
       "\n",
       "#sk-container-id-2 div.sk-dashed-wrapped {\n",
       "  border: 1px dashed var(--sklearn-color-line);\n",
       "  margin: 0 0.4em 0.5em 0.4em;\n",
       "  box-sizing: border-box;\n",
       "  padding-bottom: 0.4em;\n",
       "  background-color: var(--sklearn-color-background);\n",
       "}\n",
       "\n",
       "#sk-container-id-2 div.sk-container {\n",
       "  /* jupyter's `normalize.less` sets `[hidden] { display: none; }`\n",
       "     but bootstrap.min.css set `[hidden] { display: none !important; }`\n",
       "     so we also need the `!important` here to be able to override the\n",
       "     default hidden behavior on the sphinx rendered scikit-learn.org.\n",
       "     See: https://github.com/scikit-learn/scikit-learn/issues/21755 */\n",
       "  display: inline-block !important;\n",
       "  position: relative;\n",
       "}\n",
       "\n",
       "#sk-container-id-2 div.sk-text-repr-fallback {\n",
       "  display: none;\n",
       "}\n",
       "\n",
       "div.sk-parallel-item,\n",
       "div.sk-serial,\n",
       "div.sk-item {\n",
       "  /* draw centered vertical line to link estimators */\n",
       "  background-image: linear-gradient(var(--sklearn-color-text-on-default-background), var(--sklearn-color-text-on-default-background));\n",
       "  background-size: 2px 100%;\n",
       "  background-repeat: no-repeat;\n",
       "  background-position: center center;\n",
       "}\n",
       "\n",
       "/* Parallel-specific style estimator block */\n",
       "\n",
       "#sk-container-id-2 div.sk-parallel-item::after {\n",
       "  content: \"\";\n",
       "  width: 100%;\n",
       "  border-bottom: 2px solid var(--sklearn-color-text-on-default-background);\n",
       "  flex-grow: 1;\n",
       "}\n",
       "\n",
       "#sk-container-id-2 div.sk-parallel {\n",
       "  display: flex;\n",
       "  align-items: stretch;\n",
       "  justify-content: center;\n",
       "  background-color: var(--sklearn-color-background);\n",
       "  position: relative;\n",
       "}\n",
       "\n",
       "#sk-container-id-2 div.sk-parallel-item {\n",
       "  display: flex;\n",
       "  flex-direction: column;\n",
       "}\n",
       "\n",
       "#sk-container-id-2 div.sk-parallel-item:first-child::after {\n",
       "  align-self: flex-end;\n",
       "  width: 50%;\n",
       "}\n",
       "\n",
       "#sk-container-id-2 div.sk-parallel-item:last-child::after {\n",
       "  align-self: flex-start;\n",
       "  width: 50%;\n",
       "}\n",
       "\n",
       "#sk-container-id-2 div.sk-parallel-item:only-child::after {\n",
       "  width: 0;\n",
       "}\n",
       "\n",
       "/* Serial-specific style estimator block */\n",
       "\n",
       "#sk-container-id-2 div.sk-serial {\n",
       "  display: flex;\n",
       "  flex-direction: column;\n",
       "  align-items: center;\n",
       "  background-color: var(--sklearn-color-background);\n",
       "  padding-right: 1em;\n",
       "  padding-left: 1em;\n",
       "}\n",
       "\n",
       "\n",
       "/* Toggleable style: style used for estimator/Pipeline/ColumnTransformer box that is\n",
       "clickable and can be expanded/collapsed.\n",
       "- Pipeline and ColumnTransformer use this feature and define the default style\n",
       "- Estimators will overwrite some part of the style using the `sk-estimator` class\n",
       "*/\n",
       "\n",
       "/* Pipeline and ColumnTransformer style (default) */\n",
       "\n",
       "#sk-container-id-2 div.sk-toggleable {\n",
       "  /* Default theme specific background. It is overwritten whether we have a\n",
       "  specific estimator or a Pipeline/ColumnTransformer */\n",
       "  background-color: var(--sklearn-color-background);\n",
       "}\n",
       "\n",
       "/* Toggleable label */\n",
       "#sk-container-id-2 label.sk-toggleable__label {\n",
       "  cursor: pointer;\n",
       "  display: block;\n",
       "  width: 100%;\n",
       "  margin-bottom: 0;\n",
       "  padding: 0.5em;\n",
       "  box-sizing: border-box;\n",
       "  text-align: center;\n",
       "}\n",
       "\n",
       "#sk-container-id-2 label.sk-toggleable__label-arrow:before {\n",
       "  /* Arrow on the left of the label */\n",
       "  content: \"▸\";\n",
       "  float: left;\n",
       "  margin-right: 0.25em;\n",
       "  color: var(--sklearn-color-icon);\n",
       "}\n",
       "\n",
       "#sk-container-id-2 label.sk-toggleable__label-arrow:hover:before {\n",
       "  color: var(--sklearn-color-text);\n",
       "}\n",
       "\n",
       "/* Toggleable content - dropdown */\n",
       "\n",
       "#sk-container-id-2 div.sk-toggleable__content {\n",
       "  max-height: 0;\n",
       "  max-width: 0;\n",
       "  overflow: hidden;\n",
       "  text-align: left;\n",
       "  /* unfitted */\n",
       "  background-color: var(--sklearn-color-unfitted-level-0);\n",
       "}\n",
       "\n",
       "#sk-container-id-2 div.sk-toggleable__content.fitted {\n",
       "  /* fitted */\n",
       "  background-color: var(--sklearn-color-fitted-level-0);\n",
       "}\n",
       "\n",
       "#sk-container-id-2 div.sk-toggleable__content pre {\n",
       "  margin: 0.2em;\n",
       "  border-radius: 0.25em;\n",
       "  color: var(--sklearn-color-text);\n",
       "  /* unfitted */\n",
       "  background-color: var(--sklearn-color-unfitted-level-0);\n",
       "}\n",
       "\n",
       "#sk-container-id-2 div.sk-toggleable__content.fitted pre {\n",
       "  /* unfitted */\n",
       "  background-color: var(--sklearn-color-fitted-level-0);\n",
       "}\n",
       "\n",
       "#sk-container-id-2 input.sk-toggleable__control:checked~div.sk-toggleable__content {\n",
       "  /* Expand drop-down */\n",
       "  max-height: 200px;\n",
       "  max-width: 100%;\n",
       "  overflow: auto;\n",
       "}\n",
       "\n",
       "#sk-container-id-2 input.sk-toggleable__control:checked~label.sk-toggleable__label-arrow:before {\n",
       "  content: \"▾\";\n",
       "}\n",
       "\n",
       "/* Pipeline/ColumnTransformer-specific style */\n",
       "\n",
       "#sk-container-id-2 div.sk-label input.sk-toggleable__control:checked~label.sk-toggleable__label {\n",
       "  color: var(--sklearn-color-text);\n",
       "  background-color: var(--sklearn-color-unfitted-level-2);\n",
       "}\n",
       "\n",
       "#sk-container-id-2 div.sk-label.fitted input.sk-toggleable__control:checked~label.sk-toggleable__label {\n",
       "  background-color: var(--sklearn-color-fitted-level-2);\n",
       "}\n",
       "\n",
       "/* Estimator-specific style */\n",
       "\n",
       "/* Colorize estimator box */\n",
       "#sk-container-id-2 div.sk-estimator input.sk-toggleable__control:checked~label.sk-toggleable__label {\n",
       "  /* unfitted */\n",
       "  background-color: var(--sklearn-color-unfitted-level-2);\n",
       "}\n",
       "\n",
       "#sk-container-id-2 div.sk-estimator.fitted input.sk-toggleable__control:checked~label.sk-toggleable__label {\n",
       "  /* fitted */\n",
       "  background-color: var(--sklearn-color-fitted-level-2);\n",
       "}\n",
       "\n",
       "#sk-container-id-2 div.sk-label label.sk-toggleable__label,\n",
       "#sk-container-id-2 div.sk-label label {\n",
       "  /* The background is the default theme color */\n",
       "  color: var(--sklearn-color-text-on-default-background);\n",
       "}\n",
       "\n",
       "/* On hover, darken the color of the background */\n",
       "#sk-container-id-2 div.sk-label:hover label.sk-toggleable__label {\n",
       "  color: var(--sklearn-color-text);\n",
       "  background-color: var(--sklearn-color-unfitted-level-2);\n",
       "}\n",
       "\n",
       "/* Label box, darken color on hover, fitted */\n",
       "#sk-container-id-2 div.sk-label.fitted:hover label.sk-toggleable__label.fitted {\n",
       "  color: var(--sklearn-color-text);\n",
       "  background-color: var(--sklearn-color-fitted-level-2);\n",
       "}\n",
       "\n",
       "/* Estimator label */\n",
       "\n",
       "#sk-container-id-2 div.sk-label label {\n",
       "  font-family: monospace;\n",
       "  font-weight: bold;\n",
       "  display: inline-block;\n",
       "  line-height: 1.2em;\n",
       "}\n",
       "\n",
       "#sk-container-id-2 div.sk-label-container {\n",
       "  text-align: center;\n",
       "}\n",
       "\n",
       "/* Estimator-specific */\n",
       "#sk-container-id-2 div.sk-estimator {\n",
       "  font-family: monospace;\n",
       "  border: 1px dotted var(--sklearn-color-border-box);\n",
       "  border-radius: 0.25em;\n",
       "  box-sizing: border-box;\n",
       "  margin-bottom: 0.5em;\n",
       "  /* unfitted */\n",
       "  background-color: var(--sklearn-color-unfitted-level-0);\n",
       "}\n",
       "\n",
       "#sk-container-id-2 div.sk-estimator.fitted {\n",
       "  /* fitted */\n",
       "  background-color: var(--sklearn-color-fitted-level-0);\n",
       "}\n",
       "\n",
       "/* on hover */\n",
       "#sk-container-id-2 div.sk-estimator:hover {\n",
       "  /* unfitted */\n",
       "  background-color: var(--sklearn-color-unfitted-level-2);\n",
       "}\n",
       "\n",
       "#sk-container-id-2 div.sk-estimator.fitted:hover {\n",
       "  /* fitted */\n",
       "  background-color: var(--sklearn-color-fitted-level-2);\n",
       "}\n",
       "\n",
       "/* Specification for estimator info (e.g. \"i\" and \"?\") */\n",
       "\n",
       "/* Common style for \"i\" and \"?\" */\n",
       "\n",
       ".sk-estimator-doc-link,\n",
       "a:link.sk-estimator-doc-link,\n",
       "a:visited.sk-estimator-doc-link {\n",
       "  float: right;\n",
       "  font-size: smaller;\n",
       "  line-height: 1em;\n",
       "  font-family: monospace;\n",
       "  background-color: var(--sklearn-color-background);\n",
       "  border-radius: 1em;\n",
       "  height: 1em;\n",
       "  width: 1em;\n",
       "  text-decoration: none !important;\n",
       "  margin-left: 1ex;\n",
       "  /* unfitted */\n",
       "  border: var(--sklearn-color-unfitted-level-1) 1pt solid;\n",
       "  color: var(--sklearn-color-unfitted-level-1);\n",
       "}\n",
       "\n",
       ".sk-estimator-doc-link.fitted,\n",
       "a:link.sk-estimator-doc-link.fitted,\n",
       "a:visited.sk-estimator-doc-link.fitted {\n",
       "  /* fitted */\n",
       "  border: var(--sklearn-color-fitted-level-1) 1pt solid;\n",
       "  color: var(--sklearn-color-fitted-level-1);\n",
       "}\n",
       "\n",
       "/* On hover */\n",
       "div.sk-estimator:hover .sk-estimator-doc-link:hover,\n",
       ".sk-estimator-doc-link:hover,\n",
       "div.sk-label-container:hover .sk-estimator-doc-link:hover,\n",
       ".sk-estimator-doc-link:hover {\n",
       "  /* unfitted */\n",
       "  background-color: var(--sklearn-color-unfitted-level-3);\n",
       "  color: var(--sklearn-color-background);\n",
       "  text-decoration: none;\n",
       "}\n",
       "\n",
       "div.sk-estimator.fitted:hover .sk-estimator-doc-link.fitted:hover,\n",
       ".sk-estimator-doc-link.fitted:hover,\n",
       "div.sk-label-container:hover .sk-estimator-doc-link.fitted:hover,\n",
       ".sk-estimator-doc-link.fitted:hover {\n",
       "  /* fitted */\n",
       "  background-color: var(--sklearn-color-fitted-level-3);\n",
       "  color: var(--sklearn-color-background);\n",
       "  text-decoration: none;\n",
       "}\n",
       "\n",
       "/* Span, style for the box shown on hovering the info icon */\n",
       ".sk-estimator-doc-link span {\n",
       "  display: none;\n",
       "  z-index: 9999;\n",
       "  position: relative;\n",
       "  font-weight: normal;\n",
       "  right: .2ex;\n",
       "  padding: .5ex;\n",
       "  margin: .5ex;\n",
       "  width: min-content;\n",
       "  min-width: 20ex;\n",
       "  max-width: 50ex;\n",
       "  color: var(--sklearn-color-text);\n",
       "  box-shadow: 2pt 2pt 4pt #999;\n",
       "  /* unfitted */\n",
       "  background: var(--sklearn-color-unfitted-level-0);\n",
       "  border: .5pt solid var(--sklearn-color-unfitted-level-3);\n",
       "}\n",
       "\n",
       ".sk-estimator-doc-link.fitted span {\n",
       "  /* fitted */\n",
       "  background: var(--sklearn-color-fitted-level-0);\n",
       "  border: var(--sklearn-color-fitted-level-3);\n",
       "}\n",
       "\n",
       ".sk-estimator-doc-link:hover span {\n",
       "  display: block;\n",
       "}\n",
       "\n",
       "/* \"?\"-specific style due to the `<a>` HTML tag */\n",
       "\n",
       "#sk-container-id-2 a.estimator_doc_link {\n",
       "  float: right;\n",
       "  font-size: 1rem;\n",
       "  line-height: 1em;\n",
       "  font-family: monospace;\n",
       "  background-color: var(--sklearn-color-background);\n",
       "  border-radius: 1rem;\n",
       "  height: 1rem;\n",
       "  width: 1rem;\n",
       "  text-decoration: none;\n",
       "  /* unfitted */\n",
       "  color: var(--sklearn-color-unfitted-level-1);\n",
       "  border: var(--sklearn-color-unfitted-level-1) 1pt solid;\n",
       "}\n",
       "\n",
       "#sk-container-id-2 a.estimator_doc_link.fitted {\n",
       "  /* fitted */\n",
       "  border: var(--sklearn-color-fitted-level-1) 1pt solid;\n",
       "  color: var(--sklearn-color-fitted-level-1);\n",
       "}\n",
       "\n",
       "/* On hover */\n",
       "#sk-container-id-2 a.estimator_doc_link:hover {\n",
       "  /* unfitted */\n",
       "  background-color: var(--sklearn-color-unfitted-level-3);\n",
       "  color: var(--sklearn-color-background);\n",
       "  text-decoration: none;\n",
       "}\n",
       "\n",
       "#sk-container-id-2 a.estimator_doc_link.fitted:hover {\n",
       "  /* fitted */\n",
       "  background-color: var(--sklearn-color-fitted-level-3);\n",
       "}\n",
       "</style><div id=\"sk-container-id-2\" class=\"sk-top-container\"><div class=\"sk-text-repr-fallback\"><pre>GaussianMixture(n_components=20, random_state=1)</pre><b>In a Jupyter environment, please rerun this cell to show the HTML representation or trust the notebook. <br />On GitHub, the HTML representation is unable to render, please try loading this page with nbviewer.org.</b></div><div class=\"sk-container\" hidden><div class=\"sk-item\"><div class=\"sk-estimator fitted sk-toggleable\"><input class=\"sk-toggleable__control sk-hidden--visually\" id=\"sk-estimator-id-2\" type=\"checkbox\" checked><label for=\"sk-estimator-id-2\" class=\"sk-toggleable__label fitted sk-toggleable__label-arrow fitted\">&nbsp;&nbsp;GaussianMixture<a class=\"sk-estimator-doc-link fitted\" rel=\"noreferrer\" target=\"_blank\" href=\"https://scikit-learn.org/1.4/modules/generated/sklearn.mixture.GaussianMixture.html\">?<span>Documentation for GaussianMixture</span></a><span class=\"sk-estimator-doc-link fitted\">i<span>Fitted</span></span></label><div class=\"sk-toggleable__content fitted\"><pre>GaussianMixture(n_components=20, random_state=1)</pre></div> </div></div></div></div>"
      ],
      "text/plain": [
       "GaussianMixture(n_components=20, random_state=1)"
      ]
     },
     "execution_count": 34,
     "metadata": {},
     "output_type": "execute_result"
    }
   ],
   "source": [
    "_ = torch.manual_seed(1)\n",
    "_ = np.random.seed(1)\n",
    "\n",
    "X_train, X_test, y_train, y_test = train_test_split(X, y, test_size=0.3, random_state=1)\n",
    "gmm = GaussianMixture(\n",
    "    n_components=20,\n",
    "    random_state=1,\n",
    ")\n",
    "gmm.fit(X_train)"
   ]
  },
  {
   "cell_type": "code",
   "execution_count": 35,
   "id": "7901813d-055a-4c84-90c3-0e162f45663b",
   "metadata": {},
   "outputs": [],
   "source": [
    "gmm_samples = gmm.sample(10_000)[0]"
   ]
  },
  {
   "cell_type": "code",
   "execution_count": 36,
   "id": "1291ae79-0bb9-47df-87a2-8298b6401685",
   "metadata": {},
   "outputs": [],
   "source": [
    "with open(\"many_gmm_samples.pkl\", \"wb\") as handle:\n",
    "    pickle.dump(gmm_samples, handle)"
   ]
  },
  {
   "cell_type": "code",
   "execution_count": 38,
   "id": "c1ec0e40-1e6e-4030-8187-89ac3ec5e0c2",
   "metadata": {},
   "outputs": [
    {
     "data": {
      "image/png": "[encoded data removed]",
      "text/plain": [
       "<Figure size 65x65 with 1 Axes>"
      ]
     },
     "metadata": {},
     "output_type": "display_data"
    },
    {
     "data": {
      "image/png": "[encoded data removed]",
      "text/plain": [
       "<Figure size 65x65 with 1 Axes>"
      ]
     },
     "metadata": {},
     "output_type": "display_data"
    },
    {
     "data": {
      "image/png": "[encoded data removed]",
      "text/plain": [
       "<Figure size 65x65 with 1 Axes>"
      ]
     },
     "metadata": {},
     "output_type": "display_data"
    }
   ],
   "source": [
    "with mpl.rc_context(fname=\"../../../matplotlibrc\"):\n",
    "    for i in range(3):\n",
    "        fig, ax = plt.subplots(1, 1, figsize=(0.65, 0.65))\n",
    "        _ = ax.imshow(gmm_samples[i].reshape(28, 28), clim=[0, 1])\n",
    "        _ = ax.spines[\"bottom\"].set_visible(False)\n",
    "        _ = ax.spines[\"left\"].set_visible(False)\n",
    "        _ = ax.set_xticks([])\n",
    "        _ = ax.set_yticks([])\n",
    "        plt.savefig(f\"svg/fig2_gmm_mnist_{i}.svg\", bbox_inches=\"tight\")\n",
    "        plt.show()"
   ]
  },
  {
   "cell_type": "code",
   "execution_count": 39,
   "id": "6252d5f8-ea29-4a3b-8db0-e174f363d598",
   "metadata": {},
   "outputs": [],
   "source": [
    "X_train, X_test, y_train, y_test = train_test_split(X, y, test_size=0.3, random_state=1)\n",
    "cov = torch.cov(torch.as_tensor(X_train.T))\n",
    "cov += torch.eye(len(cov)) * 1e-6\n",
    "mean = torch.mean(torch.as_tensor(X_train), dim=0)\n",
    "gaussian_fit = MultivariateNormal(mean, cov)\n",
    "\n",
    "gaussian_samples = gaussian_fit.sample((100,))"
   ]
  },
  {
   "cell_type": "code",
   "execution_count": 40,
   "id": "8e99ad03-7d04-4c62-ba66-220bb515a0b6",
   "metadata": {},
   "outputs": [
    {
     "data": {
      "image/png": "[encoded data removed]",
      "text/plain": [
       "<Figure size 65x65 with 1 Axes>"
      ]
     },
     "metadata": {},
     "output_type": "display_data"
    },
    {
     "data": {
      "image/png": "[encoded data removed]",
      "text/plain": [
       "<Figure size 65x65 with 1 Axes>"
      ]
     },
     "metadata": {},
     "output_type": "display_data"
    },
    {
     "data": {
      "image/png": "[encoded data removed]",
      "text/plain": [
       "<Figure size 65x65 with 1 Axes>"
      ]
     },
     "metadata": {},
     "output_type": "display_data"
    }
   ],
   "source": [
    "with mpl.rc_context(fname=\"../../../matplotlibrc\"):\n",
    "    for i in range(3):\n",
    "        fig, ax = plt.subplots(1, 1, figsize=(0.65, 0.65))\n",
    "        _ = ax.imshow(gaussian_samples[i].reshape(28, 28), clim=[0, 1])\n",
    "        _ = ax.spines[\"bottom\"].set_visible(False)\n",
    "        _ = ax.spines[\"left\"].set_visible(False)\n",
    "        _ = ax.set_xticks([])\n",
    "        _ = ax.set_yticks([])\n",
    "        plt.savefig(f\"svg/fig2_gauss_mnist_{i}.svg\", bbox_inches=\"tight\")\n",
    "        plt.show()"
   ]
  },
  {
   "cell_type": "code",
   "execution_count": 41,
   "id": "226df20a-8dab-419c-9278-c0c747f56a42",
   "metadata": {},
   "outputs": [
    {
     "data": {
      "image/png": "[encoded data removed]",
      "text/plain": [
       "<Figure size 65x65 with 1 Axes>"
      ]
     },
     "metadata": {},
     "output_type": "display_data"
    },
    {
     "data": {
      "image/png": "[encoded data removed]",
      "text/plain": [
       "<Figure size 65x65 with 1 Axes>"
      ]
     },
     "metadata": {},
     "output_type": "display_data"
    },
    {
     "data": {
      "image/png": "[encoded data removed]",
      "text/plain": [
       "<Figure size 65x65 with 1 Axes>"
      ]
     },
     "metadata": {},
     "output_type": "display_data"
    }
   ],
   "source": [
    "with mpl.rc_context(fname=\"../../../matplotlibrc\"):\n",
    "    for i in range(3):\n",
    "        fig, ax = plt.subplots(1, 1, figsize=(0.65, 0.65))\n",
    "        _ = ax.imshow(X_train[i].reshape(28, 28), clim=[0, 1])\n",
    "        _ = ax.spines[\"bottom\"].set_visible(False)\n",
    "        _ = ax.spines[\"left\"].set_visible(False)\n",
    "        _ = ax.set_xticks([])\n",
    "        _ = ax.set_yticks([])\n",
    "        plt.savefig(f\"svg/fig2_mnist_{i}.svg\", bbox_inches=\"tight\")\n",
    "        plt.show()"
   ]
  },
  {
   "cell_type": "code",
   "execution_count": 42,
   "id": "f1441a82-f838-410c-bb15-bb360514e339",
   "metadata": {},
   "outputs": [
    {
     "data": {
      "text/html": [
       "<img src=\"fig/fig2.svg\" / >"
      ],
      "text/plain": [
       "<IPython.core.display.HTML object>"
      ]
     },
     "metadata": {},
     "output_type": "display_data"
    }
   ],
   "source": [
    "def svg(img):\n",
    "    IPd.display(IPd.HTML('<img src=\"{}\" / >'.format(img, time.time())))\n",
    "\n",
    "# > Inkscape pixel is 1/90 of an inch, other software usually uses 1/72.\n",
    "# > http://www.inkscapeforum.com/viewtopic.php?f=6&t=5964\n",
    "svg_scale = 1.25  # set this to 1.25 for Inkscape, 1.0 otherwise\n",
    "\n",
    "# Panel letters in Helvetica Neue, 12pt, Medium\n",
    "kwargs_caption = {'size': '10pt', 'font': 'Arial', 'weight': '800'}\n",
    "kwargs_text = {'size': '7.75pt', 'font': 'Arial'}\n",
    "\n",
    "f = Figure(\n",
    "    \"16.6cm\",\n",
    "    \"5.6cm\",\n",
    "    Panel(SVG(\"svg/fig2_panel_a.svg\").scale(svg_scale)).move(102, 26.4),\n",
    "    Panel(Text(\"Data\", 23, 32.0, **kwargs_text)),\n",
    "    Panel(SVG(\"svg/fig2_panel_b.svg\").scale(svg_scale)).move(102, 111.5),\n",
    "    Panel(Text(\"Model\", 23, 117.0, **kwargs_text)),\n",
    "    Panel(SVG(\"svg/fig2_illustration.svg\").scale(svg_scale).move(0, 5)).move(-3, 10),\n",
    "    Panel(Text(\"a\", 5, 12.0, **kwargs_caption), Text(\"Failure of C2ST to discriminate classes\", 45, 12.0, **kwargs_text)).move(-4, 0),\n",
    "    \n",
    "    Panel(Text(\"b\", -35, -8.5, **kwargs_caption), Text(\"C2STs for high-D data\", -12, -8.5, **kwargs_text)).move(342, 20.5),\n",
    "    Panel(SVG(\"svg/fig2_panel_c1.svg\").scale(svg_scale)).move(305, 27.6),\n",
    "    Panel(SVG(\"svg/fig2_panel_c2.svg\").scale(svg_scale)).move(305, 111.8),\n",
    "\n",
    "    Panel(Text(\"c\", -25, 12, **kwargs_caption), Text(\"High C2ST on MNIST\", 3, 12, **kwargs_text)).move(502, 0.0),\n",
    "    Panel(SVG(\"svg/fig2_mnist_0.svg\")).move(485, 25.5),\n",
    "    Panel(SVG(\"svg/fig2_mnist_1.svg\")).move(532.5, 25.5),\n",
    "    Panel(SVG(\"svg/fig2_mnist_2.svg\")).move(580, 25.5),\n",
    "    Panel(Text(\"Data\", 491, 31, **kwargs_text)),\n",
    "\n",
    "    Panel(SVG(\"svg/fig2_gauss_mnist_0.svg\")).move(485, 78),\n",
    "    Panel(SVG(\"svg/fig2_gauss_mnist_1.svg\")).move(532.5, 78),\n",
    "    Panel(SVG(\"svg/fig2_gauss_mnist_2.svg\")).move(580, 78),\n",
    "    Panel(Text(\"Gaussian: C2ST=1.0\", 491, 83.5, **kwargs_text)),\n",
    "\n",
    "    Panel(SVG(\"svg/fig2_gmm_mnist_0.svg\")).move(485, 130.5),\n",
    "    Panel(SVG(\"svg/fig2_gmm_mnist_1.svg\")).move(532.5, 130.5),\n",
    "    Panel(SVG(\"svg/fig2_gmm_mnist_2.svg\")).move(580, 130.5),\n",
    "    Panel(Text(\"MoG: C2ST=1.0\", 491, 135.5, **kwargs_text)),\n",
    ")\n",
    "\n",
    "!mkdir -p fig\n",
    "f.save(\"fig/fig2.svg\")\n",
    "svg(\"fig/fig2.svg\")"
   ]
  },
  {
   "cell_type": "code",
   "execution_count": null,
   "id": "b6c2ca94-64fc-4f2c-bb1a-c3e054f6f7ed",
   "metadata": {},
   "outputs": [],
   "source": []
  }
 ],
 "metadata": {
  "kernelspec": {
   "display_name": "Python 3 (ipykernel)",
   "language": "python",
   "name": "python3"
  },
  "language_info": {
   "codemirror_mode": {
    "name": "ipython",
    "version": 3
   },
   "file_extension": ".py",
   "mimetype": "text/x-python",
   "name": "python",
   "nbconvert_exporter": "python",
   "pygments_lexer": "ipython3",
   "version": "3.9.18"
  }
 },
 "nbformat": 4,
 "nbformat_minor": 5
}
