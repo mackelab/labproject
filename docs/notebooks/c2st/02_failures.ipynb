{
  "cells": [
    {
      "cell_type": "markdown",
      "source": [
        "# Figure 5: Failure modes of C2ST\n",
        "\n"
      ],
      "metadata": {
        "id": "wjEBWMQXKv7z"
      },
      "id": "wjEBWMQXKv7z"
    },
    {
      "cell_type": "code",
      "execution_count": 1,
      "id": "39c4d6b8-9316-4eba-a648-3095ed4b5d22",
      "metadata": {
        "id": "39c4d6b8-9316-4eba-a648-3095ed4b5d22"
      },
      "outputs": [],
      "source": [
        "import torch\n",
        "from torch import ones, zeros, float32, as_tensor, tensor, eye, sum, Tensor, manual_seed\n",
        "from torch.distributions import MultivariateNormal, Normal\n",
        "from typing import Any\n",
        "import matplotlib as mpl\n",
        "import seaborn as sns\n",
        "import numpy as np\n",
        "from sklearn.neural_network import MLPClassifier\n",
        "\n",
        "import time\n",
        "import IPython.display as IPd\n",
        "from svgutils.compose import *\n",
        "\n",
        "from sklearn.datasets import fetch_openml\n",
        "from sklearn.model_selection import train_test_split\n",
        "from sklearn.mixture import GaussianMixture\n",
        "import numpy as np\n",
        "import matplotlib.pyplot as plt\n",
        "import pickle"
      ]
    },
    {
      "cell_type": "code",
      "execution_count": 2,
      "id": "a215b377-4ddb-4f7f-a6fa-2e2ea93ef155",
      "metadata": {
        "id": "a215b377-4ddb-4f7f-a6fa-2e2ea93ef155"
      },
      "outputs": [],
      "source": [
        "from labproject.metrics.c2st import c2st_optimal, c2st_nn, c2st_knn, c2st_rf, c2st_scores\n",
        "from labproject.data import toy_mog_2d"
      ]
    },
    {
      "cell_type": "markdown",
      "id": "f3f6191a-b33e-4536-b511-310304c7708e",
      "metadata": {
        "id": "f3f6191a-b33e-4536-b511-310304c7708e"
      },
      "source": [
        "## Visualize data and fit"
      ]
    },
    {
      "cell_type": "code",
      "execution_count": 3,
      "id": "f79753b9-4d8b-4118-aa62-b74704e03745",
      "metadata": {
        "id": "f79753b9-4d8b-4118-aa62-b74704e03745"
      },
      "outputs": [],
      "source": [
        "# seed for reproducibility\n",
        "_ = torch.manual_seed(0)\n",
        "_ = np.random.seed(0)"
      ]
    },
    {
      "cell_type": "code",
      "execution_count": 4,
      "id": "ff550e7b-23a3-429b-b68a-7d4c0d3aeb69",
      "metadata": {
        "id": "ff550e7b-23a3-429b-b68a-7d4c0d3aeb69"
      },
      "outputs": [],
      "source": [
        "# sample from mog\n",
        "data = toy_mog_2d()\n",
        "data_samples = data.sample((10_000,))"
      ]
    },
    {
      "cell_type": "code",
      "execution_count": 5,
      "id": "243aa674-446d-4fb0-80eb-012024c472a7",
      "metadata": {
        "id": "243aa674-446d-4fb0-80eb-012024c472a7"
      },
      "outputs": [],
      "source": [
        "# make gaussian approx\n",
        "mean = torch.mean(data_samples, dim=0)\n",
        "cov = torch.cov(data_samples.T)\n",
        "gen_model = MultivariateNormal(mean, cov)"
      ]
    },
    {
      "cell_type": "code",
      "execution_count": 14,
      "id": "f66a5f10-e716-4fcd-a683-3836b7fb5b52",
      "metadata": {
        "colab": {
          "base_uri": "https://localhost:8080/",
          "height": 218
        },
        "id": "f66a5f10-e716-4fcd-a683-3836b7fb5b52",
        "outputId": "ad6d6d50-bb8a-4421-ea9c-8a6377276d41"
      },
      "outputs": [
        {
          "output_type": "display_data",
          "data": {
            "text/plain": [
              "<Figure size 90x215 with 2 Axes>"
            ],
            "image/png": "[encoded data removed]"
          },
          "metadata": {}
        }
      ],
      "source": [
        "# plot density\n",
        "\n",
        "_ = torch.manual_seed(0)\n",
        "\n",
        "with mpl.rc_context(fname=\"matplotlibrc\"):\n",
        "    n_samples = 10000\n",
        "    samples_mog = data_samples\n",
        "    samples_np = samples_mog.numpy()\n",
        "    samples_normal_approx = gen_model.sample((100_000,)).numpy()\n",
        "\n",
        "    n_plot = 10\n",
        "    samples_to_plot = samples_np[0:10,:]\n",
        "\n",
        "    al=0.8\n",
        "    ms=8\n",
        "    mec='k'\n",
        "\n",
        "    densities = [samples_np, samples_normal_approx]\n",
        "    cmaps = ['Blues', 'BuGn']\n",
        "\n",
        "    fig, axs = plt.subplots(2, 1, figsize=(0.9, 2.15))\n",
        "    for i_a, ax in enumerate(axs):\n",
        "        density, cmap = densities[i_a], cmaps[i_a]\n",
        "        sns.kdeplot(x=density[:,0], y=density[:,1], fill=True, thresh=0.05, levels=10, cmap=cmap, ax=ax, alpha=al)\n",
        "        ax.set_xticks([]); ax.set_yticks([])\n",
        "\n",
        "        ax.set_xlim([-7,4]); ax.set_ylim([-6,4])\n",
        "\n",
        "    axs[1].set_xlabel('dim1')\n",
        "    axs[0].set_ylabel('dim2')\n",
        "    axs[1].set_ylabel('dim2')\n",
        "\n",
        "    plt.subplots_adjust(hspace=0.3)\n",
        "\n",
        "    plt.savefig(\"svg/fig2_illustration.svg\", bbox_inches=\"tight\", transparent=True)\n",
        "    plt.show()"
      ]
    },
    {
      "cell_type": "markdown",
      "id": "6d4745a2-51ae-428d-a0a0-4cc746bc51db",
      "metadata": {
        "id": "6d4745a2-51ae-428d-a0a0-4cc746bc51db"
      },
      "source": [
        "## Too few samples"
      ]
    },
    {
      "cell_type": "code",
      "execution_count": 9,
      "id": "813f4fdb-e500-49f7-97b9-340937e15336",
      "metadata": {
        "id": "813f4fdb-e500-49f7-97b9-340937e15336"
      },
      "outputs": [],
      "source": [
        "# get true c2st\n",
        "c2st_gt = c2st_optimal(data, gen_model)"
      ]
    },
    {
      "cell_type": "code",
      "execution_count": 10,
      "id": "742ca764-e77d-494c-a5cc-052e3c3b9c9d",
      "metadata": {
        "id": "742ca764-e77d-494c-a5cc-052e3c3b9c9d"
      },
      "outputs": [],
      "source": [
        "# set sample sizes\n",
        "budgets = [10, 100, 1000, 10_000]"
      ]
    },
    {
      "cell_type": "code",
      "execution_count": 11,
      "id": "507fde3e-dc26-4c24-9c01-c4e364dccab2",
      "metadata": {
        "id": "507fde3e-dc26-4c24-9c01-c4e364dccab2"
      },
      "outputs": [],
      "source": [
        "# compute c2sts for all sample sizes\n",
        "estimates = []\n",
        "for budget in budgets:\n",
        "    _ = torch.manual_seed(0)\n",
        "    estimates.append(c2st_nn(data.sample((budget,)), gen_model.sample((budget,)), seed=0).item())"
      ]
    },
    {
      "cell_type": "code",
      "execution_count": 15,
      "id": "4035cc12-7753-4760-8a67-4451d50b5602",
      "metadata": {
        "colab": {
          "base_uri": "https://localhost:8080/",
          "height": 123
        },
        "id": "4035cc12-7753-4760-8a67-4451d50b5602",
        "outputId": "f838c863-9f09-4877-9837-e5783ada214c"
      },
      "outputs": [
        {
          "output_type": "display_data",
          "data": {
            "text/plain": [
              "<Figure size 160x70 with 1 Axes>"
            ],
            "image/png": "[encoded data removed]"
          },
          "metadata": {}
        }
      ],
      "source": [
        "# plot curve\n",
        "\n",
        "good_vals = [c2st_gt for _ in range(len(budgets))]\n",
        "\n",
        "with mpl.rc_context(fname=\"matplotlibrc\"):\n",
        "    fig, ax = plt.subplots(1, 1, figsize=(1.6, 0.7))\n",
        "    _ = ax.axhline(c2st_gt, color=\"gray\", alpha=0.6)\n",
        "    _ = ax.plot(budgets, estimates, c=\"#458588\")\n",
        "    _ = ax.scatter(budgets, estimates, c=\"#458588\", s=15.0)\n",
        "    _ = ax.fill_between(budgets, good_vals, estimates, color=\"#458588\", alpha=0.1)\n",
        "    _ = ax.set_ylim([0.5, 1.0])\n",
        "    _ = ax.set_xlim([10, 12200])\n",
        "    _ = ax.legend([\"Ground truth\", \"Neural net\"], handlelength=0.7, handletextpad=0.4, labelspacing=0.1, loc=\"upper right\", bbox_to_anchor=[1.1, 1.2, 0.0, 0.0])\n",
        "    _ = ax.set_ylabel(\"C2ST\", labelpad=-5)\n",
        "    _ = ax.set_xscale(\"log\")\n",
        "    _ = ax.set_xticks(budgets)\n",
        "    _ = ax.set_xticklabels([r\"$10^1$\", \"\", \"\", r\"$10^4$\"])\n",
        "    _ = ax.set_yticks([0.5, 1.0])\n",
        "    _ = ax.set_xlabel(\"#samples\", labelpad=-8.0)\n",
        "\n",
        "    locmin = mpl.ticker.LogLocator(base=10.0,subs=np.arange(0, 1.0, 0.1),numticks=12)\n",
        "    ax.xaxis.set_minor_locator(locmin)\n",
        "    ax.xaxis.set_minor_formatter(mpl.ticker.NullFormatter())\n",
        "\n",
        "    plt.savefig(\"svg/fig2_panel_a.svg\", bbox_inches=\"tight\", transparent=True)\n",
        "    plt.show()"
      ]
    },
    {
      "cell_type": "markdown",
      "id": "c08cd877-0baf-4c94-9336-0fc37afae320",
      "metadata": {
        "id": "c08cd877-0baf-4c94-9336-0fc37afae320"
      },
      "source": [
        "## A too poor classifier"
      ]
    },
    {
      "cell_type": "code",
      "execution_count": 16,
      "id": "22aa6528-e5f9-4b4c-a0de-261542c7c60a",
      "metadata": {
        "id": "22aa6528-e5f9-4b4c-a0de-261542c7c60a"
      },
      "outputs": [],
      "source": [
        "# create bad c2st metric with control of hidden layer size\n",
        "\n",
        "def poor_c2st(\n",
        "    X: Tensor,\n",
        "    Y: Tensor,\n",
        "    seed: int = 1,\n",
        "    n_folds: int = 5,\n",
        "    metric: str = \"accuracy\",\n",
        "    hidden_size: int = 5,\n",
        "    clf_kwargs: dict[str, Any] = {}\n",
        "):\n",
        "    clf_class = MLPClassifier\n",
        "    ndim = X.shape[-1]\n",
        "    defaults = {\n",
        "        \"activation\": \"relu\",\n",
        "        \"hidden_layer_sizes\": (hidden_size * ndim),\n",
        "        \"max_iter\": 1000,\n",
        "        \"solver\": \"adam\",\n",
        "        \"early_stopping\": True,\n",
        "        \"n_iter_no_change\": 50,\n",
        "    }\n",
        "    defaults.update(clf_kwargs)\n",
        "\n",
        "    scores_ = c2st_scores(\n",
        "        X,\n",
        "        Y,\n",
        "        seed=seed,\n",
        "        n_folds=n_folds,\n",
        "        metric=metric,\n",
        "        z_score=True,\n",
        "        noise_scale=None,\n",
        "        verbosity=0,\n",
        "        clf_class=clf_class,\n",
        "        clf_kwargs=defaults,\n",
        "    )\n",
        "\n",
        "    scores = np.mean(scores_).astype(np.float32)\n",
        "    value = torch.from_numpy(np.atleast_1d(scores))\n",
        "    return value"
      ]
    },
    {
      "cell_type": "code",
      "execution_count": 17,
      "id": "6e6dbc38-46a0-46e8-b9c7-433a7cf1a8c0",
      "metadata": {
        "id": "6e6dbc38-46a0-46e8-b9c7-433a7cf1a8c0"
      },
      "outputs": [],
      "source": [
        "# compute c2st with various neural net hidden sizes\n",
        "\n",
        "budget = 10_000\n",
        "\n",
        "hidden_sizes = [1, 2, 4, 8, 16]\n",
        "poors = []\n",
        "for hidden_size in hidden_sizes:\n",
        "    _ = torch.manual_seed(1)\n",
        "    poors.append(poor_c2st(data.sample((budget,)), gen_model.sample((budget,)), hidden_size=hidden_size, seed=1).item())"
      ]
    },
    {
      "cell_type": "code",
      "execution_count": 18,
      "id": "39910e45-fcc9-46f1-88d4-13f58d193a9a",
      "metadata": {
        "colab": {
          "base_uri": "https://localhost:8080/",
          "height": 134
        },
        "id": "39910e45-fcc9-46f1-88d4-13f58d193a9a",
        "outputId": "c462a12b-981e-4587-cfbf-2cc49139133e"
      },
      "outputs": [
        {
          "output_type": "display_data",
          "data": {
            "text/plain": [
              "<Figure size 160x70 with 1 Axes>"
            ],
            "image/png": "[encoded data removed]"
          },
          "metadata": {}
        }
      ],
      "source": [
        "# plot curve\n",
        "\n",
        "good_vals = [c2st_gt for _ in range(len(hidden_sizes))]\n",
        "\n",
        "with mpl.rc_context(fname=\"matplotlibrc\"):\n",
        "    fig, ax = plt.subplots(1, 1, figsize=(1.6, 0.7))\n",
        "    _ = ax.axhline(c2st_gt, color=\"gray\", alpha=0.6)\n",
        "    _ = ax.plot(hidden_sizes, poors, c=\"#458588\")\n",
        "    _ = ax.scatter(hidden_sizes, poors, c=\"#458588\", s=15.0)\n",
        "    _ = ax.fill_between(hidden_sizes, good_vals, poors, color=\"#458588\", alpha=0.1)\n",
        "    _ = ax.set_ylim([0.5, 1.0])\n",
        "    _ = ax.set_ylabel(\"C2ST\", labelpad=-5)\n",
        "    _ = ax.set_xscale(\"log\")\n",
        "\n",
        "    _ = ax.set_xticks([1, 2, 4, 8, 16])\n",
        "    _ = ax.set_xticklabels([\"1\", \"2\", \"4\", \"8\", \"16\"])\n",
        "    _ = ax.minorticks_off()\n",
        "    _ = ax.set_xlim([1, 17.4])\n",
        "    _ = ax.set_yticks([0.5, 1.0])\n",
        "    _ = ax.set_xlabel(\"Hidden layer size\", labelpad=7.4)\n",
        "    plt.savefig(\"svg/fig2_panel_b.svg\", bbox_inches=\"tight\", transparent=True)\n",
        "    plt.show()"
      ]
    },
    {
      "cell_type": "markdown",
      "id": "5e7594ab-d765-4f86-b114-6382b442ac56",
      "metadata": {
        "id": "5e7594ab-d765-4f86-b114-6382b442ac56"
      },
      "source": [
        "## High-D Gaussian behavior"
      ]
    },
    {
      "cell_type": "code",
      "execution_count": 19,
      "id": "b6f297c6-2857-47d2-b6c9-a014d0430939",
      "metadata": {
        "colab": {
          "base_uri": "https://localhost:8080/",
          "height": 120
        },
        "id": "b6f297c6-2857-47d2-b6c9-a014d0430939",
        "outputId": "23917f3d-4cfc-4504-8951-7bed05d04159"
      },
      "outputs": [
        {
          "output_type": "display_data",
          "data": {
            "text/plain": [
              "<Figure size 120x70 with 1 Axes>"
            ],
            "image/png": "[encoded data removed]"
          },
          "metadata": {}
        }
      ],
      "source": [
        "# visualize marginal densities\n",
        "\n",
        "with mpl.rc_context(fname=\"matplotlibrc\"):\n",
        "    fig, ax = plt.subplots(1, 1, figsize=(1.2, 0.7))\n",
        "    x = np.linspace(-3, 3, 100)\n",
        "    gaussian = lambda x, mu=0.0: np.exp(-0.5 * (x - mu) ** 2) / np.sqrt(2 * np.pi)\n",
        "    _ = ax.plot(x, gaussian(x), label=r'$\\mathcal{N}(0, 1)$', c=\"k\")\n",
        "    _ = ax.plot(x, gaussian(x, 0.25), label='$\\mathcal{N}(0.25, 1)$', c=\"gray\")\n",
        "    _ = ax.set_xlabel(r\"$x_i$\", labelpad=-5)\n",
        "    _ = ax.set_ylabel(r\"$p(x_i)$\", labelpad=-5)\n",
        "    _ = ax.set_ylim([0, 0.5])\n",
        "    _ = ax.set_yticks([0, 0.5])\n",
        "    _ = ax.set_xlim([-3, 3])\n",
        "    _ = ax.set_xticks([-3, 3])\n",
        "    plt.savefig(\"svg/fig2_panel_c1.svg\", bbox_inches=\"tight\", transparent=True)\n",
        "    plt.show()"
      ]
    },
    {
      "cell_type": "code",
      "execution_count": 20,
      "id": "14b9348b-9da4-48b1-bbb7-43d49d452d84",
      "metadata": {
        "colab": {
          "base_uri": "https://localhost:8080/"
        },
        "id": "14b9348b-9da4-48b1-bbb7-43d49d452d84",
        "outputId": "baa5c96e-20d2-4e62-d16b-2a72556d4cb9"
      },
      "outputs": [
        {
          "output_type": "stream",
          "name": "stdout",
          "text": [
            "1 Wed Mar  6 15:06:45 2024\n",
            "2 Wed Mar  6 15:06:45 2024\n",
            "4 Wed Mar  6 15:06:45 2024\n",
            "8 Wed Mar  6 15:06:45 2024\n",
            "16 Wed Mar  6 15:06:45 2024\n",
            "32 Wed Mar  6 15:06:45 2024\n",
            "64 Wed Mar  6 15:06:45 2024\n",
            "128 Wed Mar  6 15:06:46 2024\n"
          ]
        }
      ],
      "source": [
        "# compute true c2sts across dimensionalities\n",
        "\n",
        "import pandas as pd\n",
        "\n",
        "df = []\n",
        "for dim in [1, 2, 4, 8, 16, 32, 64, 128]:\n",
        "    print(dim, time.ctime())\n",
        "    true = MultivariateNormal(0.0 * ones(dim), eye(dim))\n",
        "    model = MultivariateNormal(0.25 * ones(dim), eye(dim))\n",
        "\n",
        "    c2st_optimal_score = c2st_optimal(true, model, 100_000)\n",
        "\n",
        "    df.append(dict(\n",
        "        dim=dim,\n",
        "        c2st_optimal_score=c2st_optimal_score.item(),\n",
        "    ))\n",
        "df = pd.DataFrame(df)"
      ]
    },
    {
      "cell_type": "code",
      "execution_count": 21,
      "id": "3e6c9080-63c2-4f57-9b96-4a1d6ca07323",
      "metadata": {
        "colab": {
          "base_uri": "https://localhost:8080/",
          "height": 137
        },
        "id": "3e6c9080-63c2-4f57-9b96-4a1d6ca07323",
        "outputId": "54823ef2-d6f7-464d-fb7b-510e24473c3a"
      },
      "outputs": [
        {
          "output_type": "display_data",
          "data": {
            "text/plain": [
              "<Figure size 120x70 with 1 Axes>"
            ],
            "image/png": "[encoded data removed]"
          },
          "metadata": {}
        }
      ],
      "source": [
        "# plot curve\n",
        "\n",
        "with mpl.rc_context(fname=\"matplotlibrc\"):\n",
        "    fig, ax = plt.subplots(1, 1, figsize=(1.2, 0.7))\n",
        "    _ = ax.plot(df['dim'], df['c2st_optimal_score'], label='gt', color='k')\n",
        "    _ = ax.scatter(df['dim'], df['c2st_optimal_score'], label='gt', color='k')\n",
        "\n",
        "    _ = ax.set_xlabel(r\"Dimensionality\")\n",
        "    _ = ax.set_ylabel(\"C2ST\", labelpad=-4)\n",
        "    _ = ax.set_xscale('log')\n",
        "    _ = ax.set_ylim([0.5, 1.0])\n",
        "    _ = ax.set_yticks([0.5, 1.0])\n",
        "\n",
        "    plt.savefig(\"svg/fig2_panel_c2.svg\", bbox_inches=\"tight\", transparent=True)\n",
        "    plt.show()"
      ]
    },
    {
      "cell_type": "markdown",
      "id": "29aee1c5-fd0c-4153-91db-9dc4505914cd",
      "metadata": {
        "id": "29aee1c5-fd0c-4153-91db-9dc4505914cd"
      },
      "source": [
        "## MNIST behavior"
      ]
    },
    {
      "cell_type": "code",
      "execution_count": 22,
      "id": "b4090aaa-3067-4e40-90af-0228325dd5ea",
      "metadata": {
        "colab": {
          "base_uri": "https://localhost:8080/"
        },
        "id": "b4090aaa-3067-4e40-90af-0228325dd5ea",
        "outputId": "c38e7e71-5c43-4a39-b40d-b1ccab58be73"
      },
      "outputs": [
        {
          "output_type": "stream",
          "name": "stderr",
          "text": [
            "/usr/local/lib/python3.10/dist-packages/sklearn/datasets/_openml.py:968: FutureWarning: The default value of `parser` will change from `'liac-arff'` to `'auto'` in 1.4. You can set `parser='auto'` to silence this warning. Therefore, an `ImportError` will be raised from 1.4 if the dataset is dense and pandas is not installed. Note that the pandas parser may return different data types. See the Notes Section in fetch_openml's API doc for details.\n",
            "  warn(\n"
          ]
        }
      ],
      "source": [
        "# download mnist\n",
        "\n",
        "mnist = fetch_openml('mnist_784', as_frame=False, cache=False)"
      ]
    },
    {
      "cell_type": "code",
      "execution_count": 23,
      "id": "012c157c-6767-49f3-83ce-9426116043a2",
      "metadata": {
        "id": "012c157c-6767-49f3-83ce-9426116043a2"
      },
      "outputs": [],
      "source": [
        "# preprocess data\n",
        "\n",
        "X = mnist.data.astype('float32')\n",
        "X /= 255.0\n",
        "y = mnist.target.astype('int64')"
      ]
    },
    {
      "cell_type": "code",
      "execution_count": 24,
      "id": "ae75703b-4407-41ff-963d-6f348e2a5c3c",
      "metadata": {
        "id": "ae75703b-4407-41ff-963d-6f348e2a5c3c"
      },
      "outputs": [],
      "source": [
        "# restrict to ones\n",
        "\n",
        "mask = (y == 1)\n",
        "X = X[mask]\n",
        "y = y[mask]"
      ]
    },
    {
      "cell_type": "code",
      "execution_count": 25,
      "id": "36faf67d-78b8-4cb9-bab7-c53d5a014c59",
      "metadata": {
        "colab": {
          "base_uri": "https://localhost:8080/",
          "height": 74
        },
        "id": "36faf67d-78b8-4cb9-bab7-c53d5a014c59",
        "outputId": "3a853b1b-2a35-4d16-b7f1-18545942f11b"
      },
      "outputs": [
        {
          "output_type": "execute_result",
          "data": {
            "text/plain": [
              "GaussianMixture(n_components=20, random_state=1)"
            ],
            "text/html": [
              "<style>#sk-container-id-1 {color: black;background-color: white;}#sk-container-id-1 pre{padding: 0;}#sk-container-id-1 div.sk-toggleable {background-color: white;}#sk-container-id-1 label.sk-toggleable__label {cursor: pointer;display: block;width: 100%;margin-bottom: 0;padding: 0.3em;box-sizing: border-box;text-align: center;}#sk-container-id-1 label.sk-toggleable__label-arrow:before {content: \"▸\";float: left;margin-right: 0.25em;color: #696969;}#sk-container-id-1 label.sk-toggleable__label-arrow:hover:before {color: black;}#sk-container-id-1 div.sk-estimator:hover label.sk-toggleable__label-arrow:before {color: black;}#sk-container-id-1 div.sk-toggleable__content {max-height: 0;max-width: 0;overflow: hidden;text-align: left;background-color: #f0f8ff;}#sk-container-id-1 div.sk-toggleable__content pre {margin: 0.2em;color: black;border-radius: 0.25em;background-color: #f0f8ff;}#sk-container-id-1 input.sk-toggleable__control:checked~div.sk-toggleable__content {max-height: 200px;max-width: 100%;overflow: auto;}#sk-container-id-1 input.sk-toggleable__control:checked~label.sk-toggleable__label-arrow:before {content: \"▾\";}#sk-container-id-1 div.sk-estimator input.sk-toggleable__control:checked~label.sk-toggleable__label {background-color: #d4ebff;}#sk-container-id-1 div.sk-label input.sk-toggleable__control:checked~label.sk-toggleable__label {background-color: #d4ebff;}#sk-container-id-1 input.sk-hidden--visually {border: 0;clip: rect(1px 1px 1px 1px);clip: rect(1px, 1px, 1px, 1px);height: 1px;margin: -1px;overflow: hidden;padding: 0;position: absolute;width: 1px;}#sk-container-id-1 div.sk-estimator {font-family: monospace;background-color: #f0f8ff;border: 1px dotted black;border-radius: 0.25em;box-sizing: border-box;margin-bottom: 0.5em;}#sk-container-id-1 div.sk-estimator:hover {background-color: #d4ebff;}#sk-container-id-1 div.sk-parallel-item::after {content: \"\";width: 100%;border-bottom: 1px solid gray;flex-grow: 1;}#sk-container-id-1 div.sk-label:hover label.sk-toggleable__label {background-color: #d4ebff;}#sk-container-id-1 div.sk-serial::before {content: \"\";position: absolute;border-left: 1px solid gray;box-sizing: border-box;top: 0;bottom: 0;left: 50%;z-index: 0;}#sk-container-id-1 div.sk-serial {display: flex;flex-direction: column;align-items: center;background-color: white;padding-right: 0.2em;padding-left: 0.2em;position: relative;}#sk-container-id-1 div.sk-item {position: relative;z-index: 1;}#sk-container-id-1 div.sk-parallel {display: flex;align-items: stretch;justify-content: center;background-color: white;position: relative;}#sk-container-id-1 div.sk-item::before, #sk-container-id-1 div.sk-parallel-item::before {content: \"\";position: absolute;border-left: 1px solid gray;box-sizing: border-box;top: 0;bottom: 0;left: 50%;z-index: -1;}#sk-container-id-1 div.sk-parallel-item {display: flex;flex-direction: column;z-index: 1;position: relative;background-color: white;}#sk-container-id-1 div.sk-parallel-item:first-child::after {align-self: flex-end;width: 50%;}#sk-container-id-1 div.sk-parallel-item:last-child::after {align-self: flex-start;width: 50%;}#sk-container-id-1 div.sk-parallel-item:only-child::after {width: 0;}#sk-container-id-1 div.sk-dashed-wrapped {border: 1px dashed gray;margin: 0 0.4em 0.5em 0.4em;box-sizing: border-box;padding-bottom: 0.4em;background-color: white;}#sk-container-id-1 div.sk-label label {font-family: monospace;font-weight: bold;display: inline-block;line-height: 1.2em;}#sk-container-id-1 div.sk-label-container {text-align: center;}#sk-container-id-1 div.sk-container {/* jupyter's `normalize.less` sets `[hidden] { display: none; }` but bootstrap.min.css set `[hidden] { display: none !important; }` so we also need the `!important` here to be able to override the default hidden behavior on the sphinx rendered scikit-learn.org. See: https://github.com/scikit-learn/scikit-learn/issues/21755 */display: inline-block !important;position: relative;}#sk-container-id-1 div.sk-text-repr-fallback {display: none;}</style><div id=\"sk-container-id-1\" class=\"sk-top-container\"><div class=\"sk-text-repr-fallback\"><pre>GaussianMixture(n_components=20, random_state=1)</pre><b>In a Jupyter environment, please rerun this cell to show the HTML representation or trust the notebook. <br />On GitHub, the HTML representation is unable to render, please try loading this page with nbviewer.org.</b></div><div class=\"sk-container\" hidden><div class=\"sk-item\"><div class=\"sk-estimator sk-toggleable\"><input class=\"sk-toggleable__control sk-hidden--visually\" id=\"sk-estimator-id-1\" type=\"checkbox\" checked><label for=\"sk-estimator-id-1\" class=\"sk-toggleable__label sk-toggleable__label-arrow\">GaussianMixture</label><div class=\"sk-toggleable__content\"><pre>GaussianMixture(n_components=20, random_state=1)</pre></div></div></div></div></div>"
            ]
          },
          "metadata": {},
          "execution_count": 25
        }
      ],
      "source": [
        "# fit 20-component gmm\n",
        "\n",
        "_ = torch.manual_seed(1)\n",
        "_ = np.random.seed(1)\n",
        "\n",
        "X_train, X_test, y_train, y_test = train_test_split(X, y, test_size=0.3, random_state=1)\n",
        "gmm = GaussianMixture(\n",
        "    n_components=20,\n",
        "    random_state=1,\n",
        ")\n",
        "gmm.fit(X_train)"
      ]
    },
    {
      "cell_type": "code",
      "execution_count": 26,
      "id": "7901813d-055a-4c84-90c3-0e162f45663b",
      "metadata": {
        "id": "7901813d-055a-4c84-90c3-0e162f45663b"
      },
      "outputs": [],
      "source": [
        "# sample from gmm\n",
        "\n",
        "gmm_samples = gmm.sample(10_000)[0]"
      ]
    },
    {
      "cell_type": "code",
      "execution_count": 27,
      "id": "1291ae79-0bb9-47df-87a2-8298b6401685",
      "metadata": {
        "id": "1291ae79-0bb9-47df-87a2-8298b6401685"
      },
      "outputs": [],
      "source": [
        "# save for later use\n",
        "\n",
        "with open(\"many_gmm_samples.pkl\", \"wb\") as handle:\n",
        "    pickle.dump(gmm_samples, handle)"
      ]
    },
    {
      "cell_type": "code",
      "execution_count": 36,
      "id": "c1ec0e40-1e6e-4030-8187-89ac3ec5e0c2",
      "metadata": {
        "colab": {
          "base_uri": "https://localhost:8080/",
          "height": 227
        },
        "id": "c1ec0e40-1e6e-4030-8187-89ac3ec5e0c2",
        "outputId": "71598c19-bdda-49a3-ada8-adb878efa943"
      },
      "outputs": [
        {
          "output_type": "display_data",
          "data": {
            "text/plain": [
              "<Figure size 65x65 with 1 Axes>"
            ],
            "image/png": "[encoded data removed]"
          },
          "metadata": {}
        },
        {
          "output_type": "display_data",
          "data": {
            "text/plain": [
              "<Figure size 65x65 with 1 Axes>"
            ],
            "image/png": "[encoded data removed]"
          },
          "metadata": {}
        },
        {
          "output_type": "display_data",
          "data": {
            "text/plain": [
              "<Figure size 65x65 with 1 Axes>"
            ],
            "image/png": "[encoded data removed]"
          },
          "metadata": {}
        }
      ],
      "source": [
        "# visualize gmm samples\n",
        "\n",
        "with mpl.rc_context(fname=\"matplotlibrc\"):\n",
        "    for i in range(3):\n",
        "        fig, ax = plt.subplots(1, 1, figsize=(0.65, 0.65))\n",
        "        _ = ax.imshow(gmm_samples[i].reshape(28, 28), clim=[0, 1])\n",
        "        _ = ax.spines[\"bottom\"].set_visible(False)\n",
        "        _ = ax.spines[\"left\"].set_visible(False)\n",
        "        _ = ax.set_xticks([])\n",
        "        _ = ax.set_yticks([])\n",
        "        plt.savefig(f\"svg/fig2_gmm_mnist_{i}.svg\", bbox_inches=\"tight\")\n",
        "        plt.show()"
      ]
    },
    {
      "cell_type": "code",
      "execution_count": 29,
      "id": "6252d5f8-ea29-4a3b-8db0-e174f363d598",
      "metadata": {
        "id": "6252d5f8-ea29-4a3b-8db0-e174f363d598"
      },
      "outputs": [],
      "source": [
        "# make single gaussian approximation\n",
        "\n",
        "X_train, X_test, y_train, y_test = train_test_split(X, y, test_size=0.3, random_state=1)\n",
        "cov = torch.cov(torch.as_tensor(X_train.T))\n",
        "cov += torch.eye(len(cov)) * 1e-6\n",
        "mean = torch.mean(torch.as_tensor(X_train), dim=0)\n",
        "gaussian_fit = MultivariateNormal(mean, cov)\n",
        "\n",
        "gaussian_samples = gaussian_fit.sample((100,))"
      ]
    },
    {
      "cell_type": "code",
      "execution_count": 30,
      "id": "8e99ad03-7d04-4c62-ba66-220bb515a0b6",
      "metadata": {
        "colab": {
          "base_uri": "https://localhost:8080/",
          "height": 227
        },
        "id": "8e99ad03-7d04-4c62-ba66-220bb515a0b6",
        "outputId": "781d51d6-08bb-4654-8895-09a3b2e13015"
      },
      "outputs": [
        {
          "output_type": "display_data",
          "data": {
            "text/plain": [
              "<Figure size 65x65 with 1 Axes>"
            ],
            "image/png": "[encoded data removed]"
          },
          "metadata": {}
        },
        {
          "output_type": "display_data",
          "data": {
            "text/plain": [
              "<Figure size 65x65 with 1 Axes>"
            ],
            "image/png": "[encoded data removed]"
          },
          "metadata": {}
        },
        {
          "output_type": "display_data",
          "data": {
            "text/plain": [
              "<Figure size 65x65 with 1 Axes>"
            ],
            "image/png": "[encoded data removed]"
          },
          "metadata": {}
        }
      ],
      "source": [
        "# visualize single gaussian samples\n",
        "\n",
        "with mpl.rc_context(fname=\"matplotlibrc\"):\n",
        "    for i in range(3):\n",
        "        fig, ax = plt.subplots(1, 1, figsize=(0.65, 0.65))\n",
        "        _ = ax.imshow(gaussian_samples[i].reshape(28, 28), clim=[0, 1])\n",
        "        _ = ax.spines[\"bottom\"].set_visible(False)\n",
        "        _ = ax.spines[\"left\"].set_visible(False)\n",
        "        _ = ax.set_xticks([])\n",
        "        _ = ax.set_yticks([])\n",
        "        plt.savefig(f\"svg/fig2_gauss_mnist_{i}.svg\", bbox_inches=\"tight\")\n",
        "        plt.show()"
      ]
    },
    {
      "cell_type": "code",
      "execution_count": 31,
      "id": "226df20a-8dab-419c-9278-c0c747f56a42",
      "metadata": {
        "colab": {
          "base_uri": "https://localhost:8080/",
          "height": 227
        },
        "id": "226df20a-8dab-419c-9278-c0c747f56a42",
        "outputId": "ca96a337-901e-4902-cd6d-96173d362ea9"
      },
      "outputs": [
        {
          "output_type": "display_data",
          "data": {
            "text/plain": [
              "<Figure size 65x65 with 1 Axes>"
            ],
            "image/png": "[encoded data removed]"
          },
          "metadata": {}
        },
        {
          "output_type": "display_data",
          "data": {
            "text/plain": [
              "<Figure size 65x65 with 1 Axes>"
            ],
            "image/png": "[encoded data removed]"
          },
          "metadata": {}
        },
        {
          "output_type": "display_data",
          "data": {
            "text/plain": [
              "<Figure size 65x65 with 1 Axes>"
            ],
            "image/png": "[encoded data removed]"
          },
          "metadata": {}
        }
      ],
      "source": [
        "# visualize true digits\n",
        "\n",
        "with mpl.rc_context(fname=\"matplotlibrc\"):\n",
        "    for i in range(3):\n",
        "        fig, ax = plt.subplots(1, 1, figsize=(0.65, 0.65))\n",
        "        _ = ax.imshow(X_train[i].reshape(28, 28), clim=[0, 1])\n",
        "        _ = ax.spines[\"bottom\"].set_visible(False)\n",
        "        _ = ax.spines[\"left\"].set_visible(False)\n",
        "        _ = ax.set_xticks([])\n",
        "        _ = ax.set_yticks([])\n",
        "        plt.savefig(f\"svg/fig2_mnist_{i}.svg\", bbox_inches=\"tight\")\n",
        "        plt.show()"
      ]
    },
    {
      "cell_type": "markdown",
      "source": [
        "## Compose figure"
      ],
      "metadata": {
        "id": "rwkh-ZK3Oa6v"
      },
      "id": "rwkh-ZK3Oa6v"
    },
    {
      "cell_type": "code",
      "execution_count": 37,
      "id": "f1441a82-f838-410c-bb15-bb360514e339",
      "metadata": {
        "colab": {
          "resources": {
            "http://localhost:8080/fig/fig2.svg": {
              "data": "CjwhRE9DVFlQRSBodG1sPgo8aHRtbCBsYW5nPWVuPgogIDxtZXRhIGNoYXJzZXQ9dXRmLTg+CiAgPG1ldGEgbmFtZT12aWV3cG9ydCBjb250ZW50PSJpbml0aWFsLXNjYWxlPTEsIG1pbmltdW0tc2NhbGU9MSwgd2lkdGg9ZGV2aWNlLXdpZHRoIj4KICA8dGl0bGU+RXJyb3IgNDA0IChOb3QgRm91bmQpISExPC90aXRsZT4KICA8c3R5bGU+CiAgICAqe21hcmdpbjowO3BhZGRpbmc6MH1odG1sLGNvZGV7Zm9udDoxNXB4LzIycHggYXJpYWwsc2Fucy1zZXJpZn1odG1se2JhY2tncm91bmQ6I2ZmZjtjb2xvcjojMjIyO3BhZGRpbmc6MTVweH1ib2R5e21hcmdpbjo3JSBhdXRvIDA7bWF4LXdpZHRoOjM5MHB4O21pbi1oZWlnaHQ6MTgwcHg7cGFkZGluZzozMHB4IDAgMTVweH0qID4gYm9keXtiYWNrZ3JvdW5kOnVybCgvL3d3dy5nb29nbGUuY29tL2ltYWdlcy9lcnJvcnMvcm9ib3QucG5nKSAxMDAlIDVweCBuby1yZXBlYXQ7cGFkZGluZy1yaWdodDoyMDVweH1we21hcmdpbjoxMXB4IDAgMjJweDtvdmVyZmxvdzpoaWRkZW59aW5ze2NvbG9yOiM3Nzc7dGV4dC1kZWNvcmF0aW9uOm5vbmV9YSBpbWd7Ym9yZGVyOjB9QG1lZGlhIHNjcmVlbiBhbmQgKG1heC13aWR0aDo3NzJweCl7Ym9keXtiYWNrZ3JvdW5kOm5vbmU7bWFyZ2luLXRvcDowO21heC13aWR0aDpub25lO3BhZGRpbmctcmlnaHQ6MH19I2xvZ297YmFja2dyb3VuZDp1cmwoLy93d3cuZ29vZ2xlLmNvbS9pbWFnZXMvbG9nb3MvZXJyb3JwYWdlL2Vycm9yX2xvZ28tMTUweDU0LnBuZykgbm8tcmVwZWF0O21hcmdpbi1sZWZ0Oi01cHh9QG1lZGlhIG9ubHkgc2NyZWVuIGFuZCAobWluLXJlc29sdXRpb246MTkyZHBpKXsjbG9nb3tiYWNrZ3JvdW5kOnVybCgvL3d3dy5nb29nbGUuY29tL2ltYWdlcy9sb2dvcy9lcnJvcnBhZ2UvZXJyb3JfbG9nby0xNTB4NTQtMngucG5nKSBuby1yZXBlYXQgMCUgMCUvMTAwJSAxMDAlOy1tb3otYm9yZGVyLWltYWdlOnVybCgvL3d3dy5nb29nbGUuY29tL2ltYWdlcy9sb2dvcy9lcnJvcnBhZ2UvZXJyb3JfbG9nby0xNTB4NTQtMngucG5nKSAwfX1AbWVkaWEgb25seSBzY3JlZW4gYW5kICgtd2Via2l0LW1pbi1kZXZpY2UtcGl4ZWwtcmF0aW86Mil7I2xvZ297YmFja2dyb3VuZDp1cmwoLy93d3cuZ29vZ2xlLmNvbS9pbWFnZXMvbG9nb3MvZXJyb3JwYWdlL2Vycm9yX2xvZ28tMTUweDU0LTJ4LnBuZykgbm8tcmVwZWF0Oy13ZWJraXQtYmFja2dyb3VuZC1zaXplOjEwMCUgMTAwJX19I2xvZ297ZGlzcGxheTppbmxpbmUtYmxvY2s7aGVpZ2h0OjU0cHg7d2lkdGg6MTUwcHh9CiAgPC9zdHlsZT4KICA8YSBocmVmPS8vd3d3Lmdvb2dsZS5jb20vPjxzcGFuIGlkPWxvZ28gYXJpYS1sYWJlbD1Hb29nbGU+PC9zcGFuPjwvYT4KICA8cD48Yj40MDQuPC9iPiA8aW5zPlRoYXTigJlzIGFuIGVycm9yLjwvaW5zPgogIDxwPiAgPGlucz5UaGF04oCZcyBhbGwgd2Uga25vdy48L2lucz4K",
              "ok": false,
              "headers": [
                [
                  "content-length",
                  "1449"
                ],
                [
                  "content-type",
                  "text/html; charset=utf-8"
                ]
              ],
              "status": 404,
              "status_text": ""
            }
          },
          "base_uri": "https://localhost:8080/",
          "height": 37
        },
        "id": "f1441a82-f838-410c-bb15-bb360514e339",
        "outputId": "92a402d4-be07-4091-e5a6-48a88aad3660"
      },
      "outputs": [
        {
          "output_type": "display_data",
          "data": {
            "text/plain": [
              "<IPython.core.display.HTML object>"
            ],
            "text/html": [
              "<img src=\"fig/fig2.svg\" / >"
            ]
          },
          "metadata": {}
        }
      ],
      "source": [
        "def svg(img):\n",
        "    IPd.display(IPd.HTML('<img src=\"{}\" / >'.format(img, time.time())))\n",
        "\n",
        "# > Inkscape pixel is 1/90 of an inch, other software usually uses 1/72.\n",
        "# > http://www.inkscapeforum.com/viewtopic.php?f=6&t=5964\n",
        "svg_scale = 1.25  # set this to 1.25 for Inkscape, 1.0 otherwise\n",
        "\n",
        "# Panel letters in Helvetica Neue, 12pt, Medium\n",
        "kwargs_caption = {'size': '10pt', 'font': 'Arial', 'weight': '800'}\n",
        "kwargs_text = {'size': '7.75pt', 'font': 'Arial'}\n",
        "\n",
        "f = Figure(\n",
        "    \"16.6cm\",\n",
        "    \"5.6cm\",\n",
        "    Panel(SVG(\"svg/fig2_panel_a.svg\").scale(svg_scale)).move(102, 26.4),\n",
        "    Panel(Text(\"Data\", 23, 32.0, **kwargs_text)),\n",
        "    Panel(SVG(\"svg/fig2_panel_b.svg\").scale(svg_scale)).move(102, 111.5),\n",
        "    Panel(Text(\"Model\", 23, 117.0, **kwargs_text)),\n",
        "    Panel(SVG(\"svg/fig2_illustration.svg\").scale(svg_scale).move(0, 5)).move(-3, 10),\n",
        "    Panel(Text(\"a\", 5, 12.0, **kwargs_caption), Text(\"Failure of C2ST to discriminate classes\", 45, 12.0, **kwargs_text)).move(-4, 0),\n",
        "\n",
        "    Panel(Text(\"b\", -35, -8.5, **kwargs_caption), Text(\"C2STs for high-D data\", -12, -8.5, **kwargs_text)).move(342, 20.5),\n",
        "    Panel(SVG(\"svg/fig2_panel_c1.svg\").scale(svg_scale)).move(305, 27.6),\n",
        "    Panel(SVG(\"svg/fig2_panel_c2.svg\").scale(svg_scale)).move(305, 111.8),\n",
        "\n",
        "    Panel(Text(\"c\", -25, 12, **kwargs_caption), Text(\"High C2ST on MNIST\", 3, 12, **kwargs_text)).move(502, 0.0),\n",
        "    Panel(SVG(\"svg/fig2_mnist_0.svg\")).move(485, 25.5),\n",
        "    Panel(SVG(\"svg/fig2_mnist_1.svg\")).move(532.5, 25.5),\n",
        "    Panel(SVG(\"svg/fig2_mnist_2.svg\")).move(580, 25.5),\n",
        "    Panel(Text(\"Data\", 491, 31, **kwargs_text)),\n",
        "\n",
        "    Panel(SVG(\"svg/fig2_gauss_mnist_0.svg\")).move(485, 78),\n",
        "    Panel(SVG(\"svg/fig2_gauss_mnist_1.svg\")).move(532.5, 78),\n",
        "    Panel(SVG(\"svg/fig2_gauss_mnist_2.svg\")).move(580, 78),\n",
        "    Panel(Text(\"Gaussian: C2ST=1.0\", 491, 83.5, **kwargs_text)),\n",
        "\n",
        "    Panel(SVG(\"svg/fig2_gmm_mnist_0.svg\")).move(485, 130.5),\n",
        "    Panel(SVG(\"svg/fig2_gmm_mnist_1.svg\")).move(532.5, 130.5),\n",
        "    Panel(SVG(\"svg/fig2_gmm_mnist_2.svg\")).move(580, 130.5),\n",
        "    Panel(Text(\"MoG: C2ST=1.0\", 491, 135.5, **kwargs_text)),\n",
        ")\n",
        "\n",
        "!mkdir -p fig\n",
        "f.save(\"fig/fig2.svg\")\n",
        "svg(\"fig/fig2.svg\")"
      ]
    },
    {
      "cell_type": "code",
      "execution_count": null,
      "id": "b6c2ca94-64fc-4f2c-bb1a-c3e054f6f7ed",
      "metadata": {
        "id": "b6c2ca94-64fc-4f2c-bb1a-c3e054f6f7ed"
      },
      "outputs": [],
      "source": []
    }
  ],
  "metadata": {
    "kernelspec": {
      "display_name": "Python 3 (ipykernel)",
      "language": "python",
      "name": "python3"
    },
    "language_info": {
      "codemirror_mode": {
        "name": "ipython",
        "version": 3
      },
      "file_extension": ".py",
      "mimetype": "text/x-python",
      "name": "python",
      "nbconvert_exporter": "python",
      "pygments_lexer": "ipython3",
      "version": "3.9.18"
    },
    "colab": {
      "provenance": []
    }
  },
  "nbformat": 4,
  "nbformat_minor": 5
}