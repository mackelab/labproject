{
 "cells": [
  {
   "cell_type": "code",
   "execution_count": null,
   "metadata": {},
   "outputs": [],
   "source": [
    "import matplotlib.pyplot as plt\n",
    "import seaborn as sns\n",
    "import numpy as np\n",
    "\n",
    "from labproject.plotting import *\n"
   ]
  },
  {
   "cell_type": "code",
   "execution_count": null,
   "metadata": {},
   "outputs": [],
   "source": [
    "generate_palette(color_dict[\"fid\"], n_colors=10)"
   ]
  },
  {
   "cell_type": "code",
   "execution_count": null,
   "metadata": {},
   "outputs": [],
   "source": [
    "generate_palette(color_dict[\"wasserstein\"], n_colors=10)"
   ]
  },
  {
   "cell_type": "code",
   "execution_count": null,
   "metadata": {},
   "outputs": [],
   "source": [
    "generate_palette(color_dict[\"mmd\"], n_colors=10)"
   ]
  },
  {
   "cell_type": "code",
   "execution_count": null,
   "metadata": {},
   "outputs": [],
   "source": [
    "generate_palette(color_dict[\"c2st\"], n_colors=10)"
   ]
  },
  {
   "cell_type": "code",
   "execution_count": null,
   "metadata": {},
   "outputs": [],
   "source": [
    "palette = generate_palette(color_dict[\"c2st\"], n_colors=10)\n",
    "\n",
    "def plot_with_palette(data, palette):\n",
    "    fig, ax = plt.subplots(figsize=(8, 4))\n",
    "    for i, color in enumerate(palette):\n",
    "        ax.plot(data[:, i], color=color, label=f'Color {i+1}')\n",
    "    ax.legend()\n",
    "    plt.show()\n",
    "\n",
    "num_points = 100\n",
    "num_colors = len(palette)\n",
    "data = np.random.randn(num_points, num_colors)\n",
    "\n",
    "plot_with_palette(data, palette)"
   ]
  },
  {
   "cell_type": "code",
   "execution_count": null,
   "metadata": {},
   "outputs": [],
   "source": []
  }
 ],
 "metadata": {
  "kernelspec": {
   "display_name": "labproject",
   "language": "python",
   "name": "python3"
  },
  "language_info": {
   "codemirror_mode": {
    "name": "ipython",
    "version": 3
   },
   "file_extension": ".py",
   "mimetype": "text/x-python",
   "name": "python",
   "nbconvert_exporter": "python",
   "pygments_lexer": "ipython3",
   "version": "3.9.18"
  }
 },
 "nbformat": 4,
 "nbformat_minor": 2
}
