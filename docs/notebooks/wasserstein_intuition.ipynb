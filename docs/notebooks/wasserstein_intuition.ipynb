{
 "cells": [
  {
   "cell_type": "code",
   "execution_count": null,
   "metadata": {},
   "outputs": [],
   "source": [
    "import torch\n",
    "import numpy as np\n",
    "import matplotlib.pyplot as plt\n",
    "from labproject.metrics.wasserstein_sinkhorn import sinkhorn_loss,sinkhorn_algorithm\n",
    "from labproject.data import get_distribution\n",
    "from labproject.utils import set_seed\n",
    "\n",
    "set_seed(0)\n",
    "plt.rcParams['figure.dpi'] = 150\n"
   ]
  },
  {
   "cell_type": "code",
   "execution_count": null,
   "metadata": {},
   "outputs": [],
   "source": [
    "toy_data = get_distribution(\"toy_2d\")\n",
    "datagen = toy_data()\n",
    "data = datagen.sample(1000)\n",
    "\n",
    "def update_toy_mog(datagen,means,covs,weights):\n",
    "    datagen.means = means\n",
    "    datagen.covs = covs\n",
    "    datagen.weights = weights\n",
    "\n",
    "    datagen.gaussians = [\n",
    "        torch.distributions.MultivariateNormal(mean, covariance)\n",
    "        for mean, covariance in zip(datagen.means, datagen.covariances)\n",
    "    ]    \n",
    "    return datagen\n",
    "\n",
    "means2 = torch.Tensor([\n",
    "            [0.0, 2.5],\n",
    "            [-1.0, -0.5],\n",
    "            [1.0, -2.0],\n",
    "            [-2.0, -1.0],\n",
    "        ])\n",
    "            \n",
    "covariances2 = torch.tensor(\n",
    "                        [\n",
    "                            [[1.0, 0.2], [0.2, 1.0]],\n",
    "                            [[1.0, -0.7], [-0.7, 1.0]],\n",
    "                            [[1.0, 0.0], [0.0, 1.0]],\n",
    "                            [[0.5, 0.0], [0.0, 0.5]],\n",
    "                        ]\n",
    "                        )\n",
    "weights2 = torch.tensor([0.3, 0.2, 0.1, 0.5])\n",
    "datagen2 = update_toy_mog(datagen,means2,covariances2,weights2)\n",
    "data2 = datagen2.sample(1000)"
   ]
  },
  {
   "cell_type": "code",
   "execution_count": null,
   "metadata": {},
   "outputs": [],
   "source": [
    "def highlight_cell(x,y, ax=None, **kwargs):\n",
    "    rect = plt.Rectangle((x-.5, y-.5), 1,1, fill=False, **kwargs)\n",
    "    ax = ax or plt.gca()\n",
    "    ax.add_patch(rect)\n",
    "    return rect"
   ]
  },
  {
   "cell_type": "code",
   "execution_count": null,
   "metadata": {},
   "outputs": [],
   "source": [
    "plot_data = data[:10]\n",
    "plot_data2 = data2[:10]\n",
    "pairdist = torch.cdist(plot_data,plot_data2)\n",
    "\n",
    "fig,axs = plt.subplots(1,2,figsize=(10,5))\n",
    "colors = axs[1].imshow(pairdist)\n",
    "axs[1].set_xticks(np.arange(len(pairdist[:,0])),labels=['$x_{}$'.format(i) for i in range(10)])\n",
    "axs[1].set_yticks(np.arange(len(pairdist[:,0])),labels=['$y_{}$'.format(i) for i in range(10)])\n",
    "for i in range(10):\n",
    "    highlight_cell(i,i,ax=axs[1],color=\"r\",alpha=0.5)\n",
    "cbar = fig.colorbar(colors, ax=axs[1], location='right')\n",
    "\n",
    "\n",
    "\n",
    "\n",
    "axs[0].scatter(plot_data[:, 0], plot_data[:, 1],color=\"C3\")\n",
    "axs[0].scatter(plot_data2[:, 0], plot_data2[:, 1],color=\"C1\")\n",
    "axs[0].set_xlim(-5,5)\n",
    "axs[0].set_ylim(-5,5)\n",
    "indices = torch.arange(0,len(plot_data))\n",
    "for ind,p1,p2 in zip(indices,plot_data,plot_data2):\n",
    "    axs[0].arrow(p1[0],p1[1],p2[0]-p1[0],p2[1]-p1[1],head_width=0.2, head_length=0.2,length_includes_head=True,color = cbar.cmap(pairdist[ind,ind].item()/pairdist.max().item()))\n",
    "\n"
   ]
  },
  {
   "cell_type": "code",
   "execution_count": null,
   "metadata": {},
   "outputs": [],
   "source": [
    "cmap = cbar.cmap\n",
    "print(cmap(pairdist[0,0]))"
   ]
  },
  {
   "cell_type": "code",
   "execution_count": null,
   "metadata": {},
   "outputs": [],
   "source": [
    "permutation = torch.randperm(plot_data2.size()[0])\n",
    "print(permutation)\n",
    "plot_data2_copy = plot_data2[permutation]\n",
    "#pairdist = torch.cdist(plot_data,plot_data2)\n",
    "\n",
    "fig,axs = plt.subplots(1,2,figsize=(10,5))\n",
    "\n",
    "colors = axs[1].imshow(pairdist)\n",
    "axs[1].set_xticks(np.arange(len(pairdist[:,0])),labels=['$x_{}$'.format(i) for i in range(10)])\n",
    "axs[1].set_yticks(np.arange(len(pairdist[:,0])),labels=['$y_{}$'.format(i) for i in range(10)])\n",
    "for i in range(10):\n",
    "    highlight_cell(i,permutation[i],ax=axs[1],color=\"r\",alpha=0.5)\n",
    "cbar = fig.colorbar(colors, ax=axs[1], location='right')\n",
    "\n",
    "\n",
    "\n",
    "\n",
    "axs[0].scatter(plot_data[:, 0], plot_data[:, 1],color=\"C3\")\n",
    "axs[0].scatter(plot_data2_copy[:, 0], plot_data2_copy[:, 1],color=\"C1\")\n",
    "axs[0].set_xlim(-5,5)\n",
    "axs[0].set_ylim(-5,5)\n",
    "indices = torch.arange(0,len(plot_data))\n",
    "for ind,p1,p2 in zip(indices,plot_data,plot_data2_copy):\n",
    "    axs[0].arrow(p1[0],p1[1],p2[0]-p1[0],p2[1]-p1[1],head_width=0.2, head_length=0.2,length_includes_head=True,color = cbar.cmap(pairdist[ind,permutation[ind]].item()/pairdist.max().item()))\n",
    "\n"
   ]
  },
  {
   "cell_type": "code",
   "execution_count": null,
   "metadata": {},
   "outputs": [],
   "source": [
    "cost,transport = sinkhorn_algorithm(plot_data,plot_data2,epsilon=1e-3,niter=2000)\n",
    "plt.imshow(transport)\n",
    "print(transport.argmax(dim=1))"
   ]
  },
  {
   "cell_type": "code",
   "execution_count": null,
   "metadata": {},
   "outputs": [],
   "source": [
    "permutation = transport.argmax(dim=1)\n",
    "print(permutation)\n",
    "plot_data2_copy = plot_data2[permutation]\n",
    "# pairdist = torch.cdist(plot_data,plot_data2_copy)\n",
    "\n",
    "fig,axs = plt.subplots(1,2,figsize=(10,5))\n",
    "\n",
    "colors = axs[1].imshow(pairdist)\n",
    "axs[1].set_xticks(np.arange(len(pairdist[:,0])),labels=['$x_{}$'.format(i) for i in range(10)])\n",
    "axs[1].set_yticks(np.arange(len(pairdist[:,0])),labels=['$y_{}$'.format(i) for i in range(10)])\n",
    "for i in range(10):\n",
    "    highlight_cell(i,permutation[i],ax=axs[1],color=\"r\",alpha=0.5)\n",
    "cbar = fig.colorbar(colors, ax=axs[1], location='right')\n",
    "\n",
    "\n",
    "\n",
    "\n",
    "axs[0].scatter(plot_data[:, 0], plot_data[:, 1],color=\"C3\")\n",
    "axs[0].scatter(plot_data2_copy[:, 0], plot_data2_copy[:, 1],color=\"C1\")\n",
    "axs[0].set_xlim(-5,5)\n",
    "axs[0].set_ylim(-5,5)\n",
    "indices = torch.arange(0,len(plot_data))\n",
    "for ind,p1,p2 in zip(indices,plot_data,plot_data2_copy):\n",
    "    axs[0].arrow(p1[0],p1[1],p2[0]-p1[0],p2[1]-p1[1],head_width=0.2, head_length=0.2,length_includes_head=True,color = cbar.cmap(pairdist[ind,permutation[ind]].item()/pairdist.max().item()))\n",
    "\n",
    "\n"
   ]
  },
  {
   "cell_type": "code",
   "execution_count": null,
   "metadata": {},
   "outputs": [],
   "source": []
  }
 ],
 "metadata": {
  "kernelspec": {
   "display_name": "labproject",
   "language": "python",
   "name": "python3"
  },
  "language_info": {
   "codemirror_mode": {
    "name": "ipython",
    "version": 3
   },
   "file_extension": ".py",
   "mimetype": "text/x-python",
   "name": "python",
   "nbconvert_exporter": "python",
   "pygments_lexer": "ipython3",
   "version": "3.9.18"
  }
 },
 "nbformat": 4,
 "nbformat_minor": 2
}
