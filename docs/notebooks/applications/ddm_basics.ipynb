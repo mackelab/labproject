{
 "cells": [
  {
   "cell_type": "code",
   "execution_count": 30,
   "metadata": {},
   "outputs": [],
   "source": [
    "import pandas as pd\n",
    "import matplotlib.pyplot as plt\n",
    "import torch\n",
    "import numpy as np"
   ]
  },
  {
   "cell_type": "markdown",
   "metadata": {},
   "source": [
    "# Experimental data\n",
    "\n",
    "*Roitman, JD and Shadlen, MN (2002), “Response of neurons in the lateral intraparietal area during a combined visual discrimination reaction time task”, Journal of Neuroscience, Vol. 22(21), 9475-9489.*\n",
    "\n",
    "\n",
    "#### additional information:\n",
    "- 'coh'      coherence of trial (multiplied by 10 - ie. 32 is a coherence of 3.2%)\n",
    "- 'correct'  whether the subject was correct (1 - correct, 0 - error)\n",
    "- rt should be in ms (between 5 and 1762, but most in [200,1200])\n",
    "- in Shinn et al. animal N (coded as 0 below) is used for all main figures\n",
    "- per monkey and coherence level: trial number n>500 for animal 0, n>400 for animal 1.\n",
    "\n"
   ]
  },
  {
   "cell_type": "code",
   "execution_count": 17,
   "metadata": {},
   "outputs": [],
   "source": [
    "ddm_data = pd.read_csv(\"../data/roitman_data_clean.csv\")"
   ]
  },
  {
   "cell_type": "code",
   "execution_count": 18,
   "metadata": {},
   "outputs": [
    {
     "data": {
      "text/html": [
       "<div>\n",
       "<style scoped>\n",
       "    .dataframe tbody tr th:only-of-type {\n",
       "        vertical-align: middle;\n",
       "    }\n",
       "\n",
       "    .dataframe tbody tr th {\n",
       "        vertical-align: top;\n",
       "    }\n",
       "\n",
       "    .dataframe thead th {\n",
       "        text-align: right;\n",
       "    }\n",
       "</style>\n",
       "<table border=\"1\" class=\"dataframe\">\n",
       "  <thead>\n",
       "    <tr style=\"text-align: right;\">\n",
       "      <th></th>\n",
       "      <th>rt</th>\n",
       "      <th>coherence</th>\n",
       "      <th>decision</th>\n",
       "      <th>animal</th>\n",
       "    </tr>\n",
       "  </thead>\n",
       "  <tbody>\n",
       "    <tr>\n",
       "      <th>0</th>\n",
       "      <td>464.0</td>\n",
       "      <td>256.0</td>\n",
       "      <td>1.0</td>\n",
       "      <td>0.0</td>\n",
       "    </tr>\n",
       "    <tr>\n",
       "      <th>1</th>\n",
       "      <td>318.0</td>\n",
       "      <td>64.0</td>\n",
       "      <td>1.0</td>\n",
       "      <td>0.0</td>\n",
       "    </tr>\n",
       "    <tr>\n",
       "      <th>2</th>\n",
       "      <td>531.0</td>\n",
       "      <td>128.0</td>\n",
       "      <td>1.0</td>\n",
       "      <td>0.0</td>\n",
       "    </tr>\n",
       "    <tr>\n",
       "      <th>3</th>\n",
       "      <td>567.0</td>\n",
       "      <td>0.0</td>\n",
       "      <td>1.0</td>\n",
       "      <td>0.0</td>\n",
       "    </tr>\n",
       "    <tr>\n",
       "      <th>4</th>\n",
       "      <td>398.0</td>\n",
       "      <td>0.0</td>\n",
       "      <td>1.0</td>\n",
       "      <td>0.0</td>\n",
       "    </tr>\n",
       "    <tr>\n",
       "      <th>...</th>\n",
       "      <td>...</td>\n",
       "      <td>...</td>\n",
       "      <td>...</td>\n",
       "      <td>...</td>\n",
       "    </tr>\n",
       "    <tr>\n",
       "      <th>6143</th>\n",
       "      <td>743.0</td>\n",
       "      <td>64.0</td>\n",
       "      <td>1.0</td>\n",
       "      <td>1.0</td>\n",
       "    </tr>\n",
       "    <tr>\n",
       "      <th>6144</th>\n",
       "      <td>704.0</td>\n",
       "      <td>0.0</td>\n",
       "      <td>1.0</td>\n",
       "      <td>1.0</td>\n",
       "    </tr>\n",
       "    <tr>\n",
       "      <th>6145</th>\n",
       "      <td>490.0</td>\n",
       "      <td>512.0</td>\n",
       "      <td>1.0</td>\n",
       "      <td>1.0</td>\n",
       "    </tr>\n",
       "    <tr>\n",
       "      <th>6146</th>\n",
       "      <td>558.0</td>\n",
       "      <td>256.0</td>\n",
       "      <td>1.0</td>\n",
       "      <td>1.0</td>\n",
       "    </tr>\n",
       "    <tr>\n",
       "      <th>6147</th>\n",
       "      <td>690.0</td>\n",
       "      <td>128.0</td>\n",
       "      <td>1.0</td>\n",
       "      <td>1.0</td>\n",
       "    </tr>\n",
       "  </tbody>\n",
       "</table>\n",
       "<p>6148 rows × 4 columns</p>\n",
       "</div>"
      ],
      "text/plain": [
       "         rt  coherence  decision  animal\n",
       "0     464.0      256.0       1.0     0.0\n",
       "1     318.0       64.0       1.0     0.0\n",
       "2     531.0      128.0       1.0     0.0\n",
       "3     567.0        0.0       1.0     0.0\n",
       "4     398.0        0.0       1.0     0.0\n",
       "...     ...        ...       ...     ...\n",
       "6143  743.0       64.0       1.0     1.0\n",
       "6144  704.0        0.0       1.0     1.0\n",
       "6145  490.0      512.0       1.0     1.0\n",
       "6146  558.0      256.0       1.0     1.0\n",
       "6147  690.0      128.0       1.0     1.0\n",
       "\n",
       "[6148 rows x 4 columns]"
      ]
     },
     "execution_count": 18,
     "metadata": {},
     "output_type": "execute_result"
    }
   ],
   "source": [
    "ddm_data"
   ]
  },
  {
   "cell_type": "markdown",
   "metadata": {},
   "source": [
    "# Generative model \n",
    "Use the *pyddm* toolbox:\n",
    "\n",
    "https://pyddm.readthedocs.io/en/stable/"
   ]
  },
  {
   "cell_type": "code",
   "execution_count": 9,
   "metadata": {},
   "outputs": [
    {
     "name": "stdout",
     "output_type": "stream",
     "text": [
      "Collecting pyddm\n",
      "  Downloading pyddm-0.7.0-cp39-cp39-manylinux_2_17_x86_64.manylinux2014_x86_64.whl.metadata (4.1 kB)\n",
      "Requirement already satisfied: numpy>=1.9.2 in /home/janne/anaconda3/envs/labproject/lib/python3.9/site-packages (from pyddm) (1.26.4)\n",
      "Requirement already satisfied: scipy>=0.16 in /home/janne/anaconda3/envs/labproject/lib/python3.9/site-packages (from pyddm) (1.12.0)\n",
      "Requirement already satisfied: matplotlib in /home/janne/anaconda3/envs/labproject/lib/python3.9/site-packages (from pyddm) (3.8.2)\n",
      "Collecting paranoid-scientist>=0.2.1 (from pyddm)\n",
      "  Downloading paranoid_scientist-0.2.2-py3-none-any.whl (25 kB)\n",
      "Requirement already satisfied: contourpy>=1.0.1 in /home/janne/anaconda3/envs/labproject/lib/python3.9/site-packages (from matplotlib->pyddm) (1.2.0)\n",
      "Requirement already satisfied: cycler>=0.10 in /home/janne/anaconda3/envs/labproject/lib/python3.9/site-packages (from matplotlib->pyddm) (0.12.1)\n",
      "Requirement already satisfied: fonttools>=4.22.0 in /home/janne/anaconda3/envs/labproject/lib/python3.9/site-packages (from matplotlib->pyddm) (4.47.2)\n",
      "Requirement already satisfied: kiwisolver>=1.3.1 in /home/janne/anaconda3/envs/labproject/lib/python3.9/site-packages (from matplotlib->pyddm) (1.4.5)\n",
      "Requirement already satisfied: packaging>=20.0 in /home/janne/anaconda3/envs/labproject/lib/python3.9/site-packages (from matplotlib->pyddm) (23.2)\n",
      "Requirement already satisfied: pillow>=8 in /home/janne/anaconda3/envs/labproject/lib/python3.9/site-packages (from matplotlib->pyddm) (10.2.0)\n",
      "Requirement already satisfied: pyparsing>=2.3.1 in /home/janne/anaconda3/envs/labproject/lib/python3.9/site-packages (from matplotlib->pyddm) (3.1.1)\n",
      "Requirement already satisfied: python-dateutil>=2.7 in /home/janne/anaconda3/envs/labproject/lib/python3.9/site-packages (from matplotlib->pyddm) (2.8.2)\n",
      "Requirement already satisfied: importlib-resources>=3.2.0 in /home/janne/anaconda3/envs/labproject/lib/python3.9/site-packages (from matplotlib->pyddm) (6.1.1)\n",
      "Requirement already satisfied: zipp>=3.1.0 in /home/janne/anaconda3/envs/labproject/lib/python3.9/site-packages (from importlib-resources>=3.2.0->matplotlib->pyddm) (3.17.0)\n",
      "Requirement already satisfied: six>=1.5 in /home/janne/anaconda3/envs/labproject/lib/python3.9/site-packages (from python-dateutil>=2.7->matplotlib->pyddm) (1.16.0)\n",
      "Downloading pyddm-0.7.0-cp39-cp39-manylinux_2_17_x86_64.manylinux2014_x86_64.whl (111 kB)\n",
      "\u001b[2K   \u001b[90m━━━━━━━━━━━━━━━━━━━━━━━━━━━━━━━━━━━━━━━━\u001b[0m \u001b[32m111.3/111.3 kB\u001b[0m \u001b[31m4.9 MB/s\u001b[0m eta \u001b[36m0:00:00\u001b[0m\n",
      "\u001b[?25hInstalling collected packages: paranoid-scientist, pyddm\n",
      "Successfully installed paranoid-scientist-0.2.2 pyddm-0.7.0\n"
     ]
    }
   ],
   "source": [
    "!pip install pyddm"
   ]
  },
  {
   "cell_type": "code",
   "execution_count": 23,
   "metadata": {},
   "outputs": [],
   "source": [
    "# load pyddm \n",
    "\n",
    "from pyddm import Model\n",
    "from pyddm.models import DriftConstant, NoiseConstant, BoundConstant, OverlayNonDecision, ICPointSourceCenter\n",
    "from pyddm.functions import fit_adjust_model, display_model\n",
    "\n",
    "import pyddm.plot\n",
    "\n",
    "from pyddm import Fittable\n",
    "from pyddm.models import LossRobustBIC\n",
    "from pyddm.functions import fit_adjust_model, fit_model\n",
    "\n",
    "from pyddm.models import (\n",
    "    BoundCollapsingExponential,\n",
    "    BoundConstant,\n",
    "    DriftLinear,\n",
    "    DriftConstant,\n",
    "    ICPointSourceCenter,\n",
    "    NoiseConstant,\n",
    "    OverlayNonDecision,\n",
    ")\n",
    "\n",
    "from pyddm.sample import Sample\n",
    "\n",
    "\n",
    "\n",
    "from roitman_utils import filter_roitman_data \n",
    "# this filters the data and puts it into the format we need for pyddm"
   ]
  },
  {
   "cell_type": "code",
   "execution_count": 20,
   "metadata": {},
   "outputs": [],
   "source": [
    "data = filter_roitman_data(ddm_data, \n",
    "                            coherence=128, \n",
    "                            animal=0 , \n",
    "                            n_trial=\"all\", \n",
    "                            attach_model_mask=False,\n",
    "                            partition=None,\n",
    "                            data_mode='pyddm')\n",
    "\n",
    "\n"
   ]
  },
  {
   "cell_type": "markdown",
   "metadata": {},
   "source": [
    "## DDM 1"
   ]
  },
  {
   "cell_type": "code",
   "execution_count": 21,
   "metadata": {},
   "outputs": [
    {
     "name": "stderr",
     "output_type": "stream",
     "text": [
      "Info: Params [  2.42448444 -18.46856151   0.64135942   0.93367414   0.17811168] gave 97.36935782388403\n"
     ]
    }
   ],
   "source": [
    "model_fit = Model(name='Simple model (fitted)',\n",
    "                        drift= DriftLinear(drift=Fittable(minval=0, maxval=5),t=0, x=Fittable(minval=-20, maxval=10)),\n",
    "                        noise=NoiseConstant(noise=1),\n",
    "                        bound=BoundCollapsingExponential(B=Fittable(minval=0.5, maxval=4), tau=Fittable(minval=0.1, maxval=4)),\n",
    "                        overlay=OverlayNonDecision(nondectime=Fittable(minval=0.1, maxval=0.4)),\n",
    "                        IC = ICPointSourceCenter(),\n",
    "                        dx=.001, dt=.01, T_dur=2)\n",
    "\n",
    "# fit model\n",
    "fit_adjust_model(data, model_fit,\n",
    "                fitting_method=\"differential_evolution\",\n",
    "                lossfunction=LossRobustBIC, verbose=False)\n",
    "\n",
    "sol = model_fit.solve()\n"
   ]
  },
  {
   "cell_type": "code",
   "execution_count": 13,
   "metadata": {},
   "outputs": [],
   "source": [
    "# generate data \n",
    "generated_data = sol.resample(k=1000)"
   ]
  },
  {
   "cell_type": "code",
   "execution_count": 14,
   "metadata": {},
   "outputs": [],
   "source": [
    "generated_data_corr = torch.tensor(generated_data.choice_upper, dtype=torch.float32)\n",
    "generated_data_err = torch.tensor(generated_data.choice_lower, dtype=torch.float32)\n",
    "generated_data = torch.cat([generated_data_corr, generated_data_err]).unsqueeze(-1)\n",
    "real_data_corr = torch.tensor(data.choice_upper, dtype=torch.float32)\n",
    "real_data_err = torch.tensor(data.choice_lower, dtype=torch.float32)\n",
    "real_data = torch.cat([real_data_corr, real_data_err]).unsqueeze(-1)\n",
    "gaussian_data = torch.tensor(np.random.normal(loc=real_data.mean(), scale=real_data.std(), size=len(generated_data)), dtype=torch.float32).unsqueeze(-1)"
   ]
  },
  {
   "cell_type": "code",
   "execution_count": 15,
   "metadata": {},
   "outputs": [],
   "source": [
    "torch.save(generated_data, \"../data/ddm/generated_data.pt\")\n",
    "torch.save(real_data, \"../data/ddm/real_data.pt\")\n",
    "torch.save(gaussian_data, \"../data/ddm/gaussian_data.pt\")"
   ]
  },
  {
   "cell_type": "markdown",
   "metadata": {},
   "source": [
    "## DDM 2"
   ]
  },
  {
   "cell_type": "code",
   "execution_count": 26,
   "metadata": {},
   "outputs": [
    {
     "name": "stderr",
     "output_type": "stream",
     "text": [
      "Info: Params [1.8234609  1.06144338 0.17711347] gave 530.9352220982084\n"
     ]
    }
   ],
   "source": [
    "model_fit = Model(name='Simple model (fitted)',\n",
    "                        drift= DriftConstant(drift=Fittable(minval=0, maxval=5)),\n",
    "                        noise=NoiseConstant(noise=1),\n",
    "                        bound=BoundConstant(B=Fittable(minval=0.5, maxval=5)),\n",
    "                        overlay=OverlayNonDecision(nondectime=Fittable(minval=0.1, maxval=0.4)),\n",
    "                        IC = ICPointSourceCenter(),\n",
    "                        dx=.001, dt=.01, T_dur=2)\n",
    "\n",
    "# fit model\n",
    "fit_adjust_model(data, model_fit,\n",
    "                fitting_method=\"differential_evolution\",\n",
    "                lossfunction=LossRobustBIC, verbose=False)\n",
    "\n",
    "sol = model_fit.solve()"
   ]
  },
  {
   "cell_type": "code",
   "execution_count": 27,
   "metadata": {},
   "outputs": [],
   "source": [
    "# generate data \n",
    "generated_data = sol.resample(k=1000)"
   ]
  },
  {
   "cell_type": "code",
   "execution_count": 28,
   "metadata": {},
   "outputs": [],
   "source": [
    "generated_data_corr = torch.tensor(generated_data.choice_upper, dtype=torch.float32)\n",
    "generated_data_err = torch.tensor(generated_data.choice_lower, dtype=torch.float32)\n",
    "generated_data = torch.cat([generated_data_corr, generated_data_err]).unsqueeze(-1)\n",
    "real_data_corr = torch.tensor(data.choice_upper, dtype=torch.float32)\n",
    "real_data_err = torch.tensor(data.choice_lower, dtype=torch.float32)\n",
    "real_data = torch.cat([real_data_corr, real_data_err]).unsqueeze(-1)\n",
    "gaussian_data = torch.tensor(np.random.normal(loc=real_data.mean(), scale=real_data.std(), size=len(generated_data)), dtype=torch.float32).unsqueeze(-1)"
   ]
  },
  {
   "cell_type": "code",
   "execution_count": 29,
   "metadata": {},
   "outputs": [],
   "source": [
    "torch.save(generated_data, \"../data/ddm/generated_data2.pt\")\n",
    "torch.save(real_data, \"../data/ddm/real_data2.pt\")\n",
    "torch.save(gaussian_data, \"../data/ddm/gaussian_data2.pt\")"
   ]
  }
 ],
 "metadata": {
  "kernelspec": {
   "display_name": "Python 3 (ipykernel)",
   "language": "python",
   "name": "python3"
  },
  "language_info": {
   "codemirror_mode": {
    "name": "ipython",
    "version": 3
   },
   "file_extension": ".py",
   "mimetype": "text/x-python",
   "name": "python",
   "nbconvert_exporter": "python",
   "pygments_lexer": "ipython3",
   "version": "3.9.18"
  }
 },
 "nbformat": 4,
 "nbformat_minor": 4
}
