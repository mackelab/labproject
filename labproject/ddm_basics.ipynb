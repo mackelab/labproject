{
 "cells": [
  {
   "cell_type": "code",
   "execution_count": null,
   "metadata": {},
   "outputs": [],
   "source": [
    "import pandas as pd\n",
    "import matplotlib.pyplot as plt"
   ]
  },
  {
   "cell_type": "markdown",
   "metadata": {},
   "source": [
    "# Experimental data\n",
    "\n",
    "*Roitman, JD and Shadlen, MN (2002), “Response of neurons in the lateral intraparietal area during a combined visual discrimination reaction time task”, Journal of Neuroscience, Vol. 22(21), 9475-9489.*\n",
    "\n",
    "\n",
    "#### additional information:\n",
    "- 'coh'      coherence of trial (multiplied by 10 - ie. 32 is a coherence of 3.2%)\n",
    "- 'correct'  whether the subject was correct (1 - correct, 0 - error)\n",
    "- rt should be in ms (between 5 and 1762, but most in [200,1200])\n",
    "- in Shinn et al. animal N (coded as 0 below) is used for all main figures\n",
    "- per monkey and coherence level: trial number n>500 for animal 0, n>400 for animal 1.\n",
    "\n"
   ]
  },
  {
   "cell_type": "code",
   "execution_count": null,
   "metadata": {},
   "outputs": [],
   "source": [
    "ddm_data = pd.read_csv(\"../data/roitman_data_clean.csv\")"
   ]
  },
  {
   "cell_type": "code",
   "execution_count": null,
   "metadata": {},
   "outputs": [],
   "source": [
    "ddm_data"
   ]
  },
  {
   "cell_type": "markdown",
   "metadata": {},
   "source": [
    "# Generative model \n",
    "Use the *pyddm* toolbox:\n",
    "\n",
    "https://pyddm.readthedocs.io/en/stable/"
   ]
  },
  {
   "cell_type": "code",
   "execution_count": null,
   "metadata": {},
   "outputs": [],
   "source": [
    "# load pyddm \n",
    "\n",
    "from pyddm import Model\n",
    "from pyddm.models import DriftConstant, NoiseConstant, BoundConstant, OverlayNonDecision, ICPointSourceCenter\n",
    "from pyddm.functions import fit_adjust_model, display_model\n",
    "\n",
    "import pyddm.plot\n",
    "\n",
    "from pyddm import Fittable\n",
    "from pyddm.models import LossRobustBIC\n",
    "from pyddm.functions import fit_adjust_model, fit_model\n",
    "\n",
    "from pyddm.models import (\n",
    "    BoundCollapsingExponential,\n",
    "    DriftLinear,\n",
    "    ICPointSourceCenter,\n",
    "    NoiseConstant,\n",
    "    OverlayNonDecision,\n",
    ")\n",
    "\n",
    "\n",
    "from roitman_utils import filter_roitman_data \n",
    "# this filters the data and puts it into the format we need for pyddm"
   ]
  },
  {
   "cell_type": "code",
   "execution_count": null,
   "metadata": {},
   "outputs": [],
   "source": [
    "data = filter_roitman_data(ddm_data, \n",
    "                            coherence=32, \n",
    "                            animal=0 , \n",
    "                            n_trial=400, \n",
    "                            attach_model_mask=False,\n",
    "                            partition=None,\n",
    "                            data_mode='pyddm')"
   ]
  },
  {
   "cell_type": "code",
   "execution_count": null,
   "metadata": {},
   "outputs": [],
   "source": [
    "model_fit = Model(name='Simple model (fitted)',\n",
    "                        drift= DriftLinear(drift=Fittable(minval=0, maxval=5),t=0, x=Fittable(minval=-20, maxval=10)),\n",
    "                        noise=NoiseConstant(noise=1),\n",
    "                        bound=BoundCollapsingExponential(B=Fittable(minval=0.5, maxval=4), tau=Fittable(minval=0.1, maxval=4)),\n",
    "                        overlay=OverlayNonDecision(nondectime=Fittable(minval=0.1, maxval=0.4)),\n",
    "                        IC = ICPointSourceCenter(),\n",
    "                        dx=.001, dt=.01, T_dur=2)\n",
    "\n",
    "# fit model\n",
    "fit_adjust_model(data, model_fit,\n",
    "                fitting_method=\"differential_evolution\",\n",
    "                lossfunction=LossRobustBIC, verbose=False)\n",
    "\n",
    "sol = model_fit.solve()\n"
   ]
  },
  {
   "cell_type": "code",
   "execution_count": null,
   "metadata": {},
   "outputs": [],
   "source": [
    "pyddm.plot.plot_fit_diagnostics(model=model_fit, sample=data)\n",
    "plt.show()\n"
   ]
  },
  {
   "cell_type": "code",
   "execution_count": null,
   "metadata": {},
   "outputs": [],
   "source": [
    "# solve model \n",
    "sol = model_fit.solve()\n"
   ]
  },
  {
   "cell_type": "code",
   "execution_count": null,
   "metadata": {},
   "outputs": [],
   "source": [
    "# generate data \n",
    "generated_data = sol.resample(k=1000)"
   ]
  },
  {
   "cell_type": "code",
   "execution_count": null,
   "metadata": {},
   "outputs": [],
   "source": [
    "# access trials \n",
    "generated_data.choice_lower\n",
    "\n",
    "generated_data.choice_uper"
   ]
  }
 ],
 "metadata": {
  "kernelspec": {
   "display_name": "labproject",
   "language": "python",
   "name": "python3"
  },
  "language_info": {
   "codemirror_mode": {
    "name": "ipython",
    "version": 3
   },
   "file_extension": ".py",
   "mimetype": "text/x-python",
   "name": "python",
   "nbconvert_exporter": "python",
   "pygments_lexer": "ipython3",
   "version": "3.9.18"
  }
 },
 "nbformat": 4,
 "nbformat_minor": 2
}
