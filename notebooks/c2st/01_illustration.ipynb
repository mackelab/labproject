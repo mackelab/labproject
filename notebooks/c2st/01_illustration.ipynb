{
 "cells": [
  {
   "cell_type": "code",
   "execution_count": 1,
   "id": "b34c5d6b-5b08-4e95-9c52-6fd00406b2de",
   "metadata": {},
   "outputs": [],
   "source": [
    "import torch\n",
    "from torch import ones, zeros, float32, as_tensor, tensor, eye, sum, Tensor, manual_seed\n",
    "from torch.distributions import MultivariateNormal, Normal\n",
    "from typing import Any\n",
    "import matplotlib as mpl\n",
    "import matplotlib.pyplot as plt\n",
    "import seaborn as sns"
   ]
  },
  {
   "cell_type": "code",
   "execution_count": 2,
   "id": "51d3b1a9-7d26-4523-950f-40565f2e8d9f",
   "metadata": {},
   "outputs": [],
   "source": [
    "from labproject.metrics.c2st import c2st_optimal, c2st_nn, c2st_knn, c2st_rf, c2st_scores"
   ]
  },
  {
   "cell_type": "code",
   "execution_count": 21,
   "id": "e7716ba6-323b-465f-afee-74463fc2926a",
   "metadata": {},
   "outputs": [],
   "source": [
    "from labproject.data import toy_mog_2d"
   ]
  },
  {
   "cell_type": "code",
   "execution_count": 42,
   "id": "c557ecb4-cc4f-4a2a-97c6-79fbdc578051",
   "metadata": {},
   "outputs": [],
   "source": [
    "n_samples = 5000\n",
    "toy = toy_mog_2d()\n",
    "samples_mog = toy.sample((n_samples,))\n",
    "samples_np = samples_mog.numpy()\n",
    "samples_normal_approx = Normal(samples_mog.mean(dim=0), samples_mog.std(dim=0)).sample((n_samples,)).numpy()\n",
    "\n",
    "n_plot = 10\n",
    "samples_to_plot = samples_np[0:10,:]\n",
    "\n",
    "al=0.4\n",
    "ms=6\n",
    "mec='k'\n",
    "\n",
    "densities = [samples_np, samples_normal_approx]\n",
    "samples_plot = [samples_np[:20], samples_normal_approx[:20]]\n",
    "titles = [r'$p_{true}(x)$', r'$p_{1}(x)$']\n",
    "cmaps = ['Blues', 'Reds']"
   ]
  },
  {
   "cell_type": "code",
   "execution_count": 58,
   "id": "51f39bed-c23b-49c8-ab63-3396878fd2ed",
   "metadata": {},
   "outputs": [
    {
     "name": "stderr",
     "output_type": "stream",
     "text": [
      "/var/folders/kv/39t9blx569l5_sxxzx89vb3c0000gn/T/ipykernel_35234/3295531989.py:15: UserWarning: Tight layout not applied. The left and right margins cannot be made large enough to accommodate all axes decorations.\n",
      "  fig.tight_layout(pad=4.0, w_pad=1)\n"
     ]
    },
    {
     "data": {
      "image/png": "[encoded data removed]",
      "text/plain": [
       "<Figure size 90x200 with 2 Axes>"
      ]
     },
     "metadata": {},
     "output_type": "display_data"
    }
   ],
   "source": [
    "with mpl.rc_context(fname=\"../../../matplotlibrc\"):\n",
    "    fig, axs = plt.subplots(ncols=1, nrows=2, figsize=(0.9, 2))\n",
    "    for i_a, ax in enumerate(axs):\n",
    "        density, samples, cmap, title = densities[i_a], samples_plot[i_a], cmaps[i_a], titles[i_a]\n",
    "        sns.kdeplot(x=density[:,0], y=density[:,1], fill=True, thresh=0.05, levels=10, cmap=cmap, ax=ax, alpha=al)\n",
    "        ax.plot(samples[:, 0], samples[:, 1], 'w.', ms=ms, mec=mec, alpha=0.8)\n",
    "        ax.set_xticks([]); ax.set_yticks([])\n",
    "        # ttl = ax.set_title(title, fontsize=12);\n",
    "        ax.set_xlim([-7,4]); ax.set_ylim([-6,4])\n",
    "\n",
    "    for i in range(2):\n",
    "        axs[i].set_ylabel('dim2')\n",
    "    axs[1].set_xlabel('dim1')\n",
    "\n",
    "    fig.tight_layout(pad=4.0, w_pad=1)\n",
    "    plt.savefig(\"svg/fig2_panel_b1.svg\", bbox_inches=\"tight\")\n",
    "    plt.show()"
   ]
  },
  {
   "cell_type": "code",
   "execution_count": 106,
   "id": "72b6dd11-a7c1-49ef-a6f4-9dfb06924f67",
   "metadata": {},
   "outputs": [
    {
     "data": {
      "image/png": "[encoded data removed]",
      "text/plain": [
       "<Figure size 30x30 with 1 Axes>"
      ]
     },
     "metadata": {},
     "output_type": "display_data"
    },
    {
     "data": {
      "image/png": "[encoded data removed]",
      "text/plain": [
       "<Figure size 30x30 with 1 Axes>"
      ]
     },
     "metadata": {},
     "output_type": "display_data"
    }
   ],
   "source": [
    "with mpl.rc_context(fname=\"../../../matplotlibrc\"):\n",
    "    for i in range(2):\n",
    "        fig, ax = plt.subplots(ncols=1, nrows=1, figsize=(0.3, 0.3))\n",
    "        density, cmap = densities[i], cmaps[i]\n",
    "        sns.kdeplot(x=density[:,0], y=density[:,1], fill=True, thresh=0.05, levels=10, cmap=cmap, ax=ax, alpha=1.0)\n",
    "        ax.set_xticks([]); ax.set_yticks([])\n",
    "        ax.set_xlim([-7,4]); ax.set_ylim([-6,4])\n",
    "        _ = ax.spines[\"left\"].set_visible(False)\n",
    "        _ = ax.spines[\"bottom\"].set_visible(False)\n",
    "    \n",
    "        plt.savefig(f\"svg/fig2_panel_b2_{i}.svg\", bbox_inches=\"tight\", transparent=True)\n",
    "        plt.show()"
   ]
  },
  {
   "cell_type": "code",
   "execution_count": 113,
   "id": "37c4e84c-0250-4bb2-943d-8148a24864cf",
   "metadata": {},
   "outputs": [
    {
     "data": {
      "text/html": [
       "<img src=\"fig/fig1.svg\" / >"
      ],
      "text/plain": [
       "<IPython.core.display.HTML object>"
      ]
     },
     "metadata": {},
     "output_type": "display_data"
    }
   ],
   "source": [
    "import time\n",
    "import IPython.display as IPd\n",
    "from svgutils.compose import *\n",
    "\n",
    "def svg(img):\n",
    "    IPd.display(IPd.HTML('<img src=\"{}\" / >'.format(img, time.time())))\n",
    "\n",
    "# > Inkscape pixel is 1/90 of an inch, other software usually uses 1/72.\n",
    "# > http://www.inkscapeforum.com/viewtopic.php?f=6&t=5964\n",
    "svg_scale = 1.25  # set this to 1.25 for Inkscape, 1.0 otherwise\n",
    "\n",
    "# Panel letters in Helvetica Neue, 12pt, Medium\n",
    "kwargs_caption = {'size': '12pt', 'font': 'Arial', 'weight': '800'}\n",
    "kwargs_text = {'size': '9.75pt', 'font': 'Arial'}\n",
    "\n",
    "f = Figure(\n",
    "    \"17.6cm\",\n",
    "    \"4.2cm\",\n",
    "    Panel(SVG(\"svg/fig2_panel_b1.svg\").scale(svg_scale).move(10, 5), Text(\"b\", 0, 25.0, **kwargs_caption)).move(100, -10),\n",
    "    Panel(SVG(\"svg/fig1_illustration.svg\").scale(1.5).move(10, 5)).move(200, 20),\n",
    "    Panel(Text(\"?\", 0, 25.0, **kwargs_text)).move(318, 49),\n",
    "    Panel(SVG(\"svg/fig2_panel_b2_0.svg\")).move(295, 49),\n",
    "    Panel(SVG(\"svg/fig2_panel_b2_1.svg\")).move(295, 61),\n",
    ")\n",
    "\n",
    "!mkdir -p fig\n",
    "f.save(\"fig/fig1.svg\")\n",
    "svg(\"fig/fig1.svg\")"
   ]
  },
  {
   "cell_type": "code",
   "execution_count": null,
   "id": "65eabcac-bf29-426e-9747-f9b2c3c1dde0",
   "metadata": {},
   "outputs": [],
   "source": []
  }
 ],
 "metadata": {
  "kernelspec": {
   "display_name": "Python 3 (ipykernel)",
   "language": "python",
   "name": "python3"
  },
  "language_info": {
   "codemirror_mode": {
    "name": "ipython",
    "version": 3
   },
   "file_extension": ".py",
   "mimetype": "text/x-python",
   "name": "python",
   "nbconvert_exporter": "python",
   "pygments_lexer": "ipython3",
   "version": "3.9.18"
  }
 },
 "nbformat": 4,
 "nbformat_minor": 5
}
