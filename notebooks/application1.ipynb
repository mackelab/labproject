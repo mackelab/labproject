{
 "cells": [
  {
   "cell_type": "code",
   "execution_count": 1,
   "metadata": {},
   "outputs": [
    {
     "name": "stderr",
     "output_type": "stream",
     "text": [
      "/home/alana/Documents/phd/code/labproject/labproject/plotting.py:13: UserWarning: Style includes a parameter, 'figure.max_open_warning', that is not related to style.  Ignoring this parameter.\n",
      "  plt.style.use(STYLE_PATH)\n"
     ]
    }
   ],
   "source": [
    "import torch\n",
    "import numpy as np\n",
    "from torch import Tensor\n",
    "import pandas as pd\n",
    "\n",
    "from matplotlib import rc_file\n",
    "rc_file(\"../../matplotlibrc\")\n",
    "\n",
    "import matplotlib.pyplot as plt\n",
    "import matplotlib.gridspec as gridspec\n",
    "\n",
    "import seaborn as sns\n",
    "\n",
    "from labproject.metrics.MMD import *\n",
    "from labproject.metrics.sliced_wasserstein import sliced_wasserstein_distance\n",
    "from labproject.metrics.c2st import *\n",
    "from labproject.experiments import Experiment"
   ]
  },
  {
   "cell_type": "code",
   "execution_count": 27,
   "metadata": {},
   "outputs": [],
   "source": [
    "dataset1 = torch.load('../../data/ddm/real_data.pt').unsqueeze(-1) \n",
    "dataset2 = torch.load('../../data/ddm/generated_data.pt').unsqueeze(-1) "
   ]
  },
  {
   "cell_type": "code",
   "execution_count": 51,
   "metadata": {},
   "outputs": [],
   "source": [
    "class Metric:\n",
    "    def __init__(self, name: str, func: callable, **kwargs):\n",
    "        self.name = name\n",
    "        self.func = func\n",
    "        self.kwargs = kwargs\n",
    "\n",
    "    def __call__(self, x: Tensor, y: Tensor) -> Tensor:\n",
    "        return self.func(x, y, **self.kwargs)\n",
    "\n",
    "\n",
    "class DistComp(Experiment):\n",
    "    def __init__(self, dataset1: Tensor, dataset2: Tensor, metrics: list[Metric], \n",
    "                 n_perms: int = 100, perm_size=1000, descr=\"\"):\n",
    "        self.dataset1 = dataset1\n",
    "        self.dataset2 = dataset2\n",
    "        self.metrics = metrics\n",
    "        self.n_perms = n_perms\n",
    "        self.perm_size = perm_size\n",
    "        self.descr = descr\n",
    "\n",
    "        columns = [metric.name for metric in metrics]\n",
    "        self.results_df = pd.DataFrame(np.nan, index=range(self.n_perms), columns=columns)\n",
    "\n",
    "    def run_experiment(self):\n",
    "        for i in range(self.n_perms):\n",
    "            dataset2_perm = self.dataset2[torch.randperm(len(self.dataset2))[:self.perm_size]]\n",
    "            dataset1_perm = self.dataset1[torch.randperm(len(self.dataset1))[:self.perm_size]]\n",
    "            for metric in self.metrics:\n",
    "                self.results_df.loc[i, metric.name] = tensor(metric(dataset1_perm, dataset2_perm)).numpy()\n",
    "    \n",
    "    def reformat_df(self, data):\n",
    "        \"\"\"\n",
    "        reformat the results_df to work with seaborn plot expectations.\n",
    "        \"\"\"\n",
    "        metric = [column_name for _, row in data.iterrows() for column_name, _ in row.items()]\n",
    "        split_ind = [i for i, _ in data.iterrows() for _ in range(len(data.columns))]\n",
    "        distance = [value for _, row in data.iterrows() for _, value in row.items()]\n",
    "\n",
    "        return pd.DataFrame({\"metric\": metric, \"distance\": distance, \"split_ind\": split_ind})\n",
    "        "
   ]
  },
  {
   "cell_type": "code",
   "execution_count": 52,
   "metadata": {},
   "outputs": [
    {
     "name": "stderr",
     "output_type": "stream",
     "text": [
      "/tmp/ipykernel_3661682/1962442188.py:29: UserWarning: To copy construct from a tensor, it is recommended to use sourceTensor.clone().detach() or sourceTensor.clone().detach().requires_grad_(True), rather than torch.tensor(sourceTensor).\n",
      "  self.results_df.loc[i, metric.name] = tensor(metric(dataset1_perm, dataset2_perm)).numpy()\n",
      "/tmp/ipykernel_3661682/1962442188.py:29: UserWarning: To copy construct from a tensor, it is recommended to use sourceTensor.clone().detach() or sourceTensor.clone().detach().requires_grad_(True), rather than torch.tensor(sourceTensor).\n",
      "  self.results_df.loc[i, metric.name] = tensor(metric(dataset1_perm, dataset2_perm)).numpy()\n",
      "/tmp/ipykernel_3661682/1962442188.py:29: UserWarning: To copy construct from a tensor, it is recommended to use sourceTensor.clone().detach() or sourceTensor.clone().detach().requires_grad_(True), rather than torch.tensor(sourceTensor).\n",
      "  self.results_df.loc[i, metric.name] = tensor(metric(dataset1_perm, dataset2_perm)).numpy()\n",
      "/tmp/ipykernel_3661682/1962442188.py:29: UserWarning: To copy construct from a tensor, it is recommended to use sourceTensor.clone().detach() or sourceTensor.clone().detach().requires_grad_(True), rather than torch.tensor(sourceTensor).\n",
      "  self.results_df.loc[i, metric.name] = tensor(metric(dataset1_perm, dataset2_perm)).numpy()\n",
      "/tmp/ipykernel_3661682/1962442188.py:29: UserWarning: To copy construct from a tensor, it is recommended to use sourceTensor.clone().detach() or sourceTensor.clone().detach().requires_grad_(True), rather than torch.tensor(sourceTensor).\n",
      "  self.results_df.loc[i, metric.name] = tensor(metric(dataset1_perm, dataset2_perm)).numpy()\n",
      "/tmp/ipykernel_3661682/1962442188.py:29: UserWarning: To copy construct from a tensor, it is recommended to use sourceTensor.clone().detach() or sourceTensor.clone().detach().requires_grad_(True), rather than torch.tensor(sourceTensor).\n",
      "  self.results_df.loc[i, metric.name] = tensor(metric(dataset1_perm, dataset2_perm)).numpy()\n",
      "/tmp/ipykernel_3661682/1962442188.py:29: UserWarning: To copy construct from a tensor, it is recommended to use sourceTensor.clone().detach() or sourceTensor.clone().detach().requires_grad_(True), rather than torch.tensor(sourceTensor).\n",
      "  self.results_df.loc[i, metric.name] = tensor(metric(dataset1_perm, dataset2_perm)).numpy()\n",
      "/tmp/ipykernel_3661682/1962442188.py:29: UserWarning: To copy construct from a tensor, it is recommended to use sourceTensor.clone().detach() or sourceTensor.clone().detach().requires_grad_(True), rather than torch.tensor(sourceTensor).\n",
      "  self.results_df.loc[i, metric.name] = tensor(metric(dataset1_perm, dataset2_perm)).numpy()\n",
      "/tmp/ipykernel_3661682/1962442188.py:29: UserWarning: To copy construct from a tensor, it is recommended to use sourceTensor.clone().detach() or sourceTensor.clone().detach().requires_grad_(True), rather than torch.tensor(sourceTensor).\n",
      "  self.results_df.loc[i, metric.name] = tensor(metric(dataset1_perm, dataset2_perm)).numpy()\n",
      "/tmp/ipykernel_3661682/1962442188.py:29: UserWarning: To copy construct from a tensor, it is recommended to use sourceTensor.clone().detach() or sourceTensor.clone().detach().requires_grad_(True), rather than torch.tensor(sourceTensor).\n",
      "  self.results_df.loc[i, metric.name] = tensor(metric(dataset1_perm, dataset2_perm)).numpy()\n",
      "/tmp/ipykernel_3661682/1962442188.py:29: UserWarning: To copy construct from a tensor, it is recommended to use sourceTensor.clone().detach() or sourceTensor.clone().detach().requires_grad_(True), rather than torch.tensor(sourceTensor).\n",
      "  self.results_df.loc[i, metric.name] = tensor(metric(dataset1_perm, dataset2_perm)).numpy()\n"
     ]
    }
   ],
   "source": [
    "\n",
    "metrics = [\n",
    "    Metric('wasserstein', \n",
    "           sliced_wasserstein_distance,\n",
    "           num_projections=50,\n",
    "           p=1),\n",
    "    Metric('mmd-rbf', \n",
    "           mmd_rbf),\n",
    "    Metric('c2st-knn', \n",
    "           c2st_knn,\n",
    "           ),\n",
    "]\n",
    "\n",
    "experiments = [\n",
    "    # DistComp( ## NOTE! datasets provided here are either conditioned/unconditioned -- doesn't happen in the pipeline\n",
    "    #     dataset1, dataset1, metrics, n_perms=1, perm_size=100,\n",
    "    #     descr='unconditional within-group real data'\n",
    "    # ),\n",
    "    # DistComp(\n",
    "    #     dataset2, dataset2, metrics, n_perms=1, perm_size=100,\n",
    "    #     descr='unconditional within-group generated data'\n",
    "    # ),\n",
    "    DistComp(\n",
    "        dataset1, dataset2, metrics, n_perms=10, perm_size=100,\n",
    "        descr='ddm - unconditional between-group'\n",
    "    ),\n",
    "]\n",
    "\n",
    "for experiment in experiments:\n",
    "    experiment.run_experiment()\n"
   ]
  },
  {
   "cell_type": "code",
   "execution_count": 54,
   "metadata": {},
   "outputs": [
    {
     "name": "stderr",
     "output_type": "stream",
     "text": [
      "findfont: Generic family 'sans-serif' not found because none of the following families were found: Arial, sans-serif\n",
      "findfont: Generic family 'sans-serif' not found because none of the following families were found: Arial, sans-serif\n",
      "findfont: Generic family 'sans-serif' not found because none of the following families were found: Arial, sans-serif\n",
      "findfont: Generic family 'sans-serif' not found because none of the following families were found: Arial, sans-serif\n",
      "findfont: Generic family 'sans-serif' not found because none of the following families were found: Arial, sans-serif\n",
      "findfont: Generic family 'sans-serif' not found because none of the following families were found: Arial, sans-serif\n",
      "findfont: Generic family 'sans-serif' not found because none of the following families were found: Arial, sans-serif\n",
      "findfont: Generic family 'sans-serif' not found because none of the following families were found: Arial, sans-serif\n",
      "findfont: Generic family 'sans-serif' not found because none of the following families were found: Arial, sans-serif\n",
      "findfont: Generic family 'sans-serif' not found because none of the following families were found: Arial, sans-serif\n",
      "findfont: Generic family 'sans-serif' not found because none of the following families were found: Arial, sans-serif\n",
      "findfont: Generic family 'sans-serif' not found because none of the following families were found: Arial, sans-serif\n",
      "findfont: Generic family 'sans-serif' not found because none of the following families were found: Arial, sans-serif\n",
      "findfont: Generic family 'sans-serif' not found because none of the following families were found: Arial, sans-serif\n",
      "findfont: Generic family 'sans-serif' not found because none of the following families were found: Arial, sans-serif\n",
      "findfont: Generic family 'sans-serif' not found because none of the following families were found: Arial, sans-serif\n",
      "findfont: Generic family 'sans-serif' not found because none of the following families were found: Arial, sans-serif\n",
      "findfont: Generic family 'sans-serif' not found because none of the following families were found: Arial, sans-serif\n",
      "findfont: Generic family 'sans-serif' not found because none of the following families were found: Arial, sans-serif\n",
      "findfont: Generic family 'sans-serif' not found because none of the following families were found: Arial, sans-serif\n",
      "findfont: Generic family 'sans-serif' not found because none of the following families were found: Arial, sans-serif\n",
      "findfont: Generic family 'sans-serif' not found because none of the following families were found: Arial, sans-serif\n",
      "findfont: Generic family 'sans-serif' not found because none of the following families were found: Arial, sans-serif\n",
      "findfont: Generic family 'sans-serif' not found because none of the following families were found: Arial, sans-serif\n",
      "findfont: Generic family 'sans-serif' not found because none of the following families were found: Arial, sans-serif\n",
      "findfont: Generic family 'sans-serif' not found because none of the following families were found: Arial, sans-serif\n",
      "findfont: Generic family 'sans-serif' not found because none of the following families were found: Arial, sans-serif\n",
      "findfont: Generic family 'sans-serif' not found because none of the following families were found: Arial, sans-serif\n",
      "findfont: Generic family 'sans-serif' not found because none of the following families were found: Arial, sans-serif\n"
     ]
    },
    {
     "data": {
      "image/png": "[encoded data removed]",
      "text/plain": [
       "<Figure size 500x200 with 1 Axes>"
      ]
     },
     "metadata": {},
     "output_type": "display_data"
    }
   ],
   "source": [
    "nm_plots = len(experiments)\n",
    "\n",
    "fig = plt.figure(figsize=(5,2*nm_plots))\n",
    "gs = gridspec.GridSpec(nm_plots,1, figure=fig, hspace=0.5)\n",
    "\n",
    "for i, experiment in enumerate(experiments): \n",
    "\n",
    "    title = experiment.descr\n",
    "    data = experiment.reformat_df(experiment.results_df)\n",
    "    \n",
    "    gs00 = gridspec.GridSpecFromSubplotSpec(1, 1, subplot_spec=gs[i])\n",
    "\n",
    "    ax = fig.add_subplot(gs00[:,:])\n",
    "\n",
    "    sns.pointplot(data=data, x = \"metric\", y=\"distance\", linestyle=\"none\")\n",
    "    \n",
    "    ax.set_title(title)\n",
    "    ax.set_xlabel('')\n",
    "    ax.set_ylabel('')\n",
    "    ax.text(-0.2, 0.5, 'distance', transform=ax.transAxes, rotation='vertical',\n",
    "            ha='center', va='center')\n",
    "\n",
    "ax.text(0.5, -.5, 'metric', transform=ax.transAxes, rotation='horizontal',\n",
    "            ha='center', va='center')\n",
    "\n",
    "plt.show()\n"
   ]
  },
  {
   "cell_type": "code",
   "execution_count": null,
   "metadata": {},
   "outputs": [],
   "source": []
  }
 ],
 "metadata": {
  "kernelspec": {
   "display_name": "labproject",
   "language": "python",
   "name": "python3"
  },
  "language_info": {
   "codemirror_mode": {
    "name": "ipython",
    "version": 3
   },
   "file_extension": ".py",
   "mimetype": "text/x-python",
   "name": "python",
   "nbconvert_exporter": "python",
   "pygments_lexer": "ipython3",
   "version": "3.9.18"
  }
 },
 "nbformat": 4,
 "nbformat_minor": 2
}
